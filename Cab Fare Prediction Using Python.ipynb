{
 "cells": [
  {
   "cell_type": "markdown",
   "metadata": {},
   "source": [
    "# Cab Fare Prediction\n"
   ]
  },
  {
   "cell_type": "markdown",
   "metadata": {},
   "source": [
    "#### Problem Statement​ -\n",
    "You are a cab rental start-up company. You have successfully run the pilot project and now want to launch your cab service across the country. You have collected thehistorical data from your pilot project and now have a requirement to apply analytics forfare prediction. You need to design a system that predicts the fare amount for a cab ride in the city."
   ]
  },
  {
   "cell_type": "code",
   "execution_count": 197,
   "metadata": {},
   "outputs": [],
   "source": [
    "# loading the required libraries \n",
    "import os\n",
    "import pandas as pd\n",
    "import numpy as np\n",
    "import matplotlib.pyplot as plt\n",
    "import seaborn as sns\n",
    "import matplotlib.pyplot as plt\n",
    "import scipy.stats as stats\n",
    "from fancyimpute import KNN\n",
    "import warnings\n",
    "warnings.filterwarnings('ignore')\n",
    "from geopy.distance import geodesic\n",
    "from geopy.distance import great_circle\n",
    "from scipy.stats import chi2_contingency\n",
    "import statsmodels.api as sm\n",
    "from statsmodels.formula.api import ols\n",
    "from patsy import dmatrices\n",
    "from statsmodels.stats.outliers_influence import variance_inflation_factor\n",
    "from sklearn.model_selection import train_test_split\n",
    "from sklearn.metrics import mean_squared_error\n",
    "from sklearn import metrics\n",
    "from sklearn.linear_model import LinearRegression,Ridge,Lasso\n",
    "from sklearn.model_selection import GridSearchCV\n",
    "from sklearn.model_selection import RandomizedSearchCV\n",
    "from sklearn.model_selection import cross_val_score\n",
    "from sklearn.ensemble import RandomForestRegressor\n",
    "from sklearn.tree import DecisionTreeRegressor"
   ]
  },
  {
   "cell_type": "code",
   "execution_count": 2,
   "metadata": {},
   "outputs": [
    {
     "data": {
      "text/plain": [
       "'C:\\\\Users\\\\admin\\\\Documents\\\\Python Files'"
      ]
     },
     "execution_count": 2,
     "metadata": {},
     "output_type": "execute_result"
    }
   ],
   "source": [
    "# set the working directory\n",
    "os.chdir('C:/Users/admin/Documents/Python Files')\n",
    "os.getcwd()"
   ]
  },
  {
   "cell_type": "markdown",
   "metadata": {},
   "source": [
    "The details of data attributes in the dataset are as follows:\n",
    "-  pickup_datetime - timestamp value indicating when the cab ride started.\n",
    "-  pickup_longitude - float for longitude coordinate of where the cab ride started.\n",
    "-  pickup_latitude - float for latitude coordinate of where the cab ride started.\n",
    "-  dropoff_longitude - float for longitude coordinate of where the cab ride ended.\n",
    "-  dropoff_latitude - float for latitude coordinate of where the cab ride ended.\n",
    "-  passenger_count - an integer indicating the number of passengers in the cab ride."
   ]
  },
  {
   "cell_type": "markdown",
   "metadata": {},
   "source": [
    "predictive modeling machine learning project can be broken down into below workflow: \n",
    "1. Prepare Problem \n",
    "a) Load libraries b) Load dataset \n",
    "2. Summarize Data a) Descriptive statistics b) Data visualizations \n",
    "3. Prepare Data a) Data Cleaning b) Feature Selection c) Data Transforms \n",
    "4. Evaluate Algorithms a) Split-out validation dataset b) Test options and evaluation metric c) Spot Check Algorithms d) Compare Algorithms \n",
    "5. Improve Accuracy a) Algorithm Tuning b) Ensembles \n",
    "6. Finalize Model a) Predictions on validation dataset b) Create standalone model on entire training dataset c) Save model for later use"
   ]
  },
  {
   "cell_type": "code",
   "execution_count": 119,
   "metadata": {},
   "outputs": [
    {
     "data": {
      "text/html": [
       "<div>\n",
       "<style scoped>\n",
       "    .dataframe tbody tr th:only-of-type {\n",
       "        vertical-align: middle;\n",
       "    }\n",
       "\n",
       "    .dataframe tbody tr th {\n",
       "        vertical-align: top;\n",
       "    }\n",
       "\n",
       "    .dataframe thead th {\n",
       "        text-align: right;\n",
       "    }\n",
       "</style>\n",
       "<table border=\"1\" class=\"dataframe\">\n",
       "  <thead>\n",
       "    <tr style=\"text-align: right;\">\n",
       "      <th></th>\n",
       "      <th>fare_amount</th>\n",
       "      <th>pickup_datetime</th>\n",
       "      <th>pickup_longitude</th>\n",
       "      <th>pickup_latitude</th>\n",
       "      <th>dropoff_longitude</th>\n",
       "      <th>dropoff_latitude</th>\n",
       "      <th>passenger_count</th>\n",
       "    </tr>\n",
       "  </thead>\n",
       "  <tbody>\n",
       "    <tr>\n",
       "      <th>0</th>\n",
       "      <td>4.5</td>\n",
       "      <td>2009-06-15 17:26:21+00:00</td>\n",
       "      <td>-73.844311</td>\n",
       "      <td>40.721319</td>\n",
       "      <td>-73.841610</td>\n",
       "      <td>40.712278</td>\n",
       "      <td>1.0</td>\n",
       "    </tr>\n",
       "    <tr>\n",
       "      <th>1</th>\n",
       "      <td>16.9</td>\n",
       "      <td>2010-01-05 16:52:16+00:00</td>\n",
       "      <td>-74.016048</td>\n",
       "      <td>40.711303</td>\n",
       "      <td>-73.979268</td>\n",
       "      <td>40.782004</td>\n",
       "      <td>1.0</td>\n",
       "    </tr>\n",
       "    <tr>\n",
       "      <th>2</th>\n",
       "      <td>5.7</td>\n",
       "      <td>2011-08-18 00:35:00+00:00</td>\n",
       "      <td>-73.982738</td>\n",
       "      <td>40.761270</td>\n",
       "      <td>-73.991242</td>\n",
       "      <td>40.750562</td>\n",
       "      <td>2.0</td>\n",
       "    </tr>\n",
       "    <tr>\n",
       "      <th>3</th>\n",
       "      <td>7.7</td>\n",
       "      <td>2012-04-21 04:30:42+00:00</td>\n",
       "      <td>-73.987130</td>\n",
       "      <td>40.733143</td>\n",
       "      <td>-73.991567</td>\n",
       "      <td>40.758092</td>\n",
       "      <td>1.0</td>\n",
       "    </tr>\n",
       "    <tr>\n",
       "      <th>4</th>\n",
       "      <td>5.3</td>\n",
       "      <td>2010-03-09 07:51:00+00:00</td>\n",
       "      <td>-73.968095</td>\n",
       "      <td>40.768008</td>\n",
       "      <td>-73.956655</td>\n",
       "      <td>40.783762</td>\n",
       "      <td>1.0</td>\n",
       "    </tr>\n",
       "  </tbody>\n",
       "</table>\n",
       "</div>"
      ],
      "text/plain": [
       "   fare_amount           pickup_datetime  pickup_longitude  pickup_latitude  \\\n",
       "0          4.5 2009-06-15 17:26:21+00:00        -73.844311        40.721319   \n",
       "1         16.9 2010-01-05 16:52:16+00:00        -74.016048        40.711303   \n",
       "2          5.7 2011-08-18 00:35:00+00:00        -73.982738        40.761270   \n",
       "3          7.7 2012-04-21 04:30:42+00:00        -73.987130        40.733143   \n",
       "4          5.3 2010-03-09 07:51:00+00:00        -73.968095        40.768008   \n",
       "\n",
       "   dropoff_longitude  dropoff_latitude  passenger_count  \n",
       "0         -73.841610         40.712278              1.0  \n",
       "1         -73.979268         40.782004              1.0  \n",
       "2         -73.991242         40.750562              2.0  \n",
       "3         -73.991567         40.758092              1.0  \n",
       "4         -73.956655         40.783762              1.0  "
      ]
     },
     "execution_count": 119,
     "metadata": {},
     "output_type": "execute_result"
    }
   ],
   "source": [
    "# Importing data\n",
    "train = pd.read_csv('train_cab.csv',dtype={'fare_amount':np.float64},na_values={'fare_amount':'430-'})\n",
    "test = pd.read_csv('test.csv')\n",
    "data=[train,test]\n",
    "for i in data:\n",
    "    i['pickup_datetime']  = pd.to_datetime(i['pickup_datetime'],errors='coerce')\n",
    "train.head(5)"
   ]
  },
  {
   "cell_type": "code",
   "execution_count": 4,
   "metadata": {
    "scrolled": true
   },
   "outputs": [
    {
     "name": "stdout",
     "output_type": "stream",
     "text": [
      "<class 'pandas.core.frame.DataFrame'>\n",
      "RangeIndex: 16067 entries, 0 to 16066\n",
      "Data columns (total 7 columns):\n",
      "fare_amount          16042 non-null float64\n",
      "pickup_datetime      16066 non-null datetime64[ns, UTC]\n",
      "pickup_longitude     16067 non-null float64\n",
      "pickup_latitude      16067 non-null float64\n",
      "dropoff_longitude    16067 non-null float64\n",
      "dropoff_latitude     16067 non-null float64\n",
      "passenger_count      16012 non-null float64\n",
      "dtypes: datetime64[ns, UTC](1), float64(6)\n",
      "memory usage: 878.7 KB\n"
     ]
    }
   ],
   "source": [
    "train.info()"
   ]
  },
  {
   "cell_type": "code",
   "execution_count": 6,
   "metadata": {},
   "outputs": [
    {
     "data": {
      "text/html": [
       "<div>\n",
       "<style scoped>\n",
       "    .dataframe tbody tr th:only-of-type {\n",
       "        vertical-align: middle;\n",
       "    }\n",
       "\n",
       "    .dataframe tbody tr th {\n",
       "        vertical-align: top;\n",
       "    }\n",
       "\n",
       "    .dataframe thead th {\n",
       "        text-align: right;\n",
       "    }\n",
       "</style>\n",
       "<table border=\"1\" class=\"dataframe\">\n",
       "  <thead>\n",
       "    <tr style=\"text-align: right;\">\n",
       "      <th></th>\n",
       "      <th>pickup_datetime</th>\n",
       "      <th>pickup_longitude</th>\n",
       "      <th>pickup_latitude</th>\n",
       "      <th>dropoff_longitude</th>\n",
       "      <th>dropoff_latitude</th>\n",
       "      <th>passenger_count</th>\n",
       "    </tr>\n",
       "  </thead>\n",
       "  <tbody>\n",
       "    <tr>\n",
       "      <th>0</th>\n",
       "      <td>2015-01-27 13:08:24+00:00</td>\n",
       "      <td>-73.973320</td>\n",
       "      <td>40.763805</td>\n",
       "      <td>-73.981430</td>\n",
       "      <td>40.743835</td>\n",
       "      <td>1</td>\n",
       "    </tr>\n",
       "    <tr>\n",
       "      <th>1</th>\n",
       "      <td>2015-01-27 13:08:24+00:00</td>\n",
       "      <td>-73.986862</td>\n",
       "      <td>40.719383</td>\n",
       "      <td>-73.998886</td>\n",
       "      <td>40.739201</td>\n",
       "      <td>1</td>\n",
       "    </tr>\n",
       "    <tr>\n",
       "      <th>2</th>\n",
       "      <td>2011-10-08 11:53:44+00:00</td>\n",
       "      <td>-73.982524</td>\n",
       "      <td>40.751260</td>\n",
       "      <td>-73.979654</td>\n",
       "      <td>40.746139</td>\n",
       "      <td>1</td>\n",
       "    </tr>\n",
       "    <tr>\n",
       "      <th>3</th>\n",
       "      <td>2012-12-01 21:12:12+00:00</td>\n",
       "      <td>-73.981160</td>\n",
       "      <td>40.767807</td>\n",
       "      <td>-73.990448</td>\n",
       "      <td>40.751635</td>\n",
       "      <td>1</td>\n",
       "    </tr>\n",
       "    <tr>\n",
       "      <th>4</th>\n",
       "      <td>2012-12-01 21:12:12+00:00</td>\n",
       "      <td>-73.966046</td>\n",
       "      <td>40.789775</td>\n",
       "      <td>-73.988565</td>\n",
       "      <td>40.744427</td>\n",
       "      <td>1</td>\n",
       "    </tr>\n",
       "  </tbody>\n",
       "</table>\n",
       "</div>"
      ],
      "text/plain": [
       "            pickup_datetime  pickup_longitude  pickup_latitude  \\\n",
       "0 2015-01-27 13:08:24+00:00        -73.973320        40.763805   \n",
       "1 2015-01-27 13:08:24+00:00        -73.986862        40.719383   \n",
       "2 2011-10-08 11:53:44+00:00        -73.982524        40.751260   \n",
       "3 2012-12-01 21:12:12+00:00        -73.981160        40.767807   \n",
       "4 2012-12-01 21:12:12+00:00        -73.966046        40.789775   \n",
       "\n",
       "   dropoff_longitude  dropoff_latitude  passenger_count  \n",
       "0         -73.981430         40.743835                1  \n",
       "1         -73.998886         40.739201                1  \n",
       "2         -73.979654         40.746139                1  \n",
       "3         -73.990448         40.751635                1  \n",
       "4         -73.988565         40.744427                1  "
      ]
     },
     "execution_count": 6,
     "metadata": {},
     "output_type": "execute_result"
    }
   ],
   "source": [
    "test.head(5)"
   ]
  },
  {
   "cell_type": "code",
   "execution_count": 7,
   "metadata": {},
   "outputs": [
    {
     "name": "stdout",
     "output_type": "stream",
     "text": [
      "<class 'pandas.core.frame.DataFrame'>\n",
      "RangeIndex: 9914 entries, 0 to 9913\n",
      "Data columns (total 6 columns):\n",
      "pickup_datetime      9914 non-null datetime64[ns, UTC]\n",
      "pickup_longitude     9914 non-null float64\n",
      "pickup_latitude      9914 non-null float64\n",
      "dropoff_longitude    9914 non-null float64\n",
      "dropoff_latitude     9914 non-null float64\n",
      "passenger_count      9914 non-null int64\n",
      "dtypes: datetime64[ns, UTC](1), float64(4), int64(1)\n",
      "memory usage: 464.8 KB\n"
     ]
    }
   ],
   "source": [
    "test.info()"
   ]
  },
  {
   "cell_type": "code",
   "execution_count": 8,
   "metadata": {},
   "outputs": [
    {
     "data": {
      "text/html": [
       "<div>\n",
       "<style scoped>\n",
       "    .dataframe tbody tr th:only-of-type {\n",
       "        vertical-align: middle;\n",
       "    }\n",
       "\n",
       "    .dataframe tbody tr th {\n",
       "        vertical-align: top;\n",
       "    }\n",
       "\n",
       "    .dataframe thead th {\n",
       "        text-align: right;\n",
       "    }\n",
       "</style>\n",
       "<table border=\"1\" class=\"dataframe\">\n",
       "  <thead>\n",
       "    <tr style=\"text-align: right;\">\n",
       "      <th></th>\n",
       "      <th>pickup_longitude</th>\n",
       "      <th>pickup_latitude</th>\n",
       "      <th>dropoff_longitude</th>\n",
       "      <th>dropoff_latitude</th>\n",
       "      <th>passenger_count</th>\n",
       "    </tr>\n",
       "  </thead>\n",
       "  <tbody>\n",
       "    <tr>\n",
       "      <th>count</th>\n",
       "      <td>9914.000000</td>\n",
       "      <td>9914.000000</td>\n",
       "      <td>9914.000000</td>\n",
       "      <td>9914.000000</td>\n",
       "      <td>9914.000000</td>\n",
       "    </tr>\n",
       "    <tr>\n",
       "      <th>mean</th>\n",
       "      <td>-73.974722</td>\n",
       "      <td>40.751041</td>\n",
       "      <td>-73.973657</td>\n",
       "      <td>40.751743</td>\n",
       "      <td>1.671273</td>\n",
       "    </tr>\n",
       "    <tr>\n",
       "      <th>std</th>\n",
       "      <td>0.042774</td>\n",
       "      <td>0.033541</td>\n",
       "      <td>0.039072</td>\n",
       "      <td>0.035435</td>\n",
       "      <td>1.278747</td>\n",
       "    </tr>\n",
       "    <tr>\n",
       "      <th>min</th>\n",
       "      <td>-74.252193</td>\n",
       "      <td>40.573143</td>\n",
       "      <td>-74.263242</td>\n",
       "      <td>40.568973</td>\n",
       "      <td>1.000000</td>\n",
       "    </tr>\n",
       "    <tr>\n",
       "      <th>25%</th>\n",
       "      <td>-73.992501</td>\n",
       "      <td>40.736125</td>\n",
       "      <td>-73.991247</td>\n",
       "      <td>40.735254</td>\n",
       "      <td>1.000000</td>\n",
       "    </tr>\n",
       "    <tr>\n",
       "      <th>50%</th>\n",
       "      <td>-73.982326</td>\n",
       "      <td>40.753051</td>\n",
       "      <td>-73.980015</td>\n",
       "      <td>40.754065</td>\n",
       "      <td>1.000000</td>\n",
       "    </tr>\n",
       "    <tr>\n",
       "      <th>75%</th>\n",
       "      <td>-73.968013</td>\n",
       "      <td>40.767113</td>\n",
       "      <td>-73.964059</td>\n",
       "      <td>40.768757</td>\n",
       "      <td>2.000000</td>\n",
       "    </tr>\n",
       "    <tr>\n",
       "      <th>max</th>\n",
       "      <td>-72.986532</td>\n",
       "      <td>41.709555</td>\n",
       "      <td>-72.990963</td>\n",
       "      <td>41.696683</td>\n",
       "      <td>6.000000</td>\n",
       "    </tr>\n",
       "  </tbody>\n",
       "</table>\n",
       "</div>"
      ],
      "text/plain": [
       "       pickup_longitude  pickup_latitude  dropoff_longitude  dropoff_latitude  \\\n",
       "count       9914.000000      9914.000000        9914.000000       9914.000000   \n",
       "mean         -73.974722        40.751041         -73.973657         40.751743   \n",
       "std            0.042774         0.033541           0.039072          0.035435   \n",
       "min          -74.252193        40.573143         -74.263242         40.568973   \n",
       "25%          -73.992501        40.736125         -73.991247         40.735254   \n",
       "50%          -73.982326        40.753051         -73.980015         40.754065   \n",
       "75%          -73.968013        40.767113         -73.964059         40.768757   \n",
       "max          -72.986532        41.709555         -72.990963         41.696683   \n",
       "\n",
       "       passenger_count  \n",
       "count      9914.000000  \n",
       "mean          1.671273  \n",
       "std           1.278747  \n",
       "min           1.000000  \n",
       "25%           1.000000  \n",
       "50%           1.000000  \n",
       "75%           2.000000  \n",
       "max           6.000000  "
      ]
     },
     "execution_count": 8,
     "metadata": {},
     "output_type": "execute_result"
    }
   ],
   "source": [
    "test.describe()"
   ]
  },
  {
   "cell_type": "code",
   "execution_count": 9,
   "metadata": {
    "scrolled": true
   },
   "outputs": [
    {
     "data": {
      "text/html": [
       "<div>\n",
       "<style scoped>\n",
       "    .dataframe tbody tr th:only-of-type {\n",
       "        vertical-align: middle;\n",
       "    }\n",
       "\n",
       "    .dataframe tbody tr th {\n",
       "        vertical-align: top;\n",
       "    }\n",
       "\n",
       "    .dataframe thead th {\n",
       "        text-align: right;\n",
       "    }\n",
       "</style>\n",
       "<table border=\"1\" class=\"dataframe\">\n",
       "  <thead>\n",
       "    <tr style=\"text-align: right;\">\n",
       "      <th></th>\n",
       "      <th>fare_amount</th>\n",
       "      <th>pickup_longitude</th>\n",
       "      <th>pickup_latitude</th>\n",
       "      <th>dropoff_longitude</th>\n",
       "      <th>dropoff_latitude</th>\n",
       "      <th>passenger_count</th>\n",
       "    </tr>\n",
       "  </thead>\n",
       "  <tbody>\n",
       "    <tr>\n",
       "      <th>count</th>\n",
       "      <td>16042.000000</td>\n",
       "      <td>16067.000000</td>\n",
       "      <td>16067.000000</td>\n",
       "      <td>16067.000000</td>\n",
       "      <td>16067.000000</td>\n",
       "      <td>16012.000000</td>\n",
       "    </tr>\n",
       "    <tr>\n",
       "      <th>mean</th>\n",
       "      <td>15.015004</td>\n",
       "      <td>-72.462787</td>\n",
       "      <td>39.914725</td>\n",
       "      <td>-72.462328</td>\n",
       "      <td>39.897906</td>\n",
       "      <td>2.625070</td>\n",
       "    </tr>\n",
       "    <tr>\n",
       "      <th>std</th>\n",
       "      <td>430.460945</td>\n",
       "      <td>10.578384</td>\n",
       "      <td>6.826587</td>\n",
       "      <td>10.575062</td>\n",
       "      <td>6.187087</td>\n",
       "      <td>60.844122</td>\n",
       "    </tr>\n",
       "    <tr>\n",
       "      <th>min</th>\n",
       "      <td>-3.000000</td>\n",
       "      <td>-74.438233</td>\n",
       "      <td>-74.006893</td>\n",
       "      <td>-74.429332</td>\n",
       "      <td>-74.006377</td>\n",
       "      <td>0.000000</td>\n",
       "    </tr>\n",
       "    <tr>\n",
       "      <th>25%</th>\n",
       "      <td>6.000000</td>\n",
       "      <td>-73.992156</td>\n",
       "      <td>40.734927</td>\n",
       "      <td>-73.991182</td>\n",
       "      <td>40.734651</td>\n",
       "      <td>1.000000</td>\n",
       "    </tr>\n",
       "    <tr>\n",
       "      <th>50%</th>\n",
       "      <td>8.500000</td>\n",
       "      <td>-73.981698</td>\n",
       "      <td>40.752603</td>\n",
       "      <td>-73.980172</td>\n",
       "      <td>40.753567</td>\n",
       "      <td>1.000000</td>\n",
       "    </tr>\n",
       "    <tr>\n",
       "      <th>75%</th>\n",
       "      <td>12.500000</td>\n",
       "      <td>-73.966838</td>\n",
       "      <td>40.767381</td>\n",
       "      <td>-73.963643</td>\n",
       "      <td>40.768013</td>\n",
       "      <td>2.000000</td>\n",
       "    </tr>\n",
       "    <tr>\n",
       "      <th>max</th>\n",
       "      <td>54343.000000</td>\n",
       "      <td>40.766125</td>\n",
       "      <td>401.083332</td>\n",
       "      <td>40.802437</td>\n",
       "      <td>41.366138</td>\n",
       "      <td>5345.000000</td>\n",
       "    </tr>\n",
       "  </tbody>\n",
       "</table>\n",
       "</div>"
      ],
      "text/plain": [
       "        fare_amount  pickup_longitude  pickup_latitude  dropoff_longitude  \\\n",
       "count  16042.000000      16067.000000     16067.000000       16067.000000   \n",
       "mean      15.015004        -72.462787        39.914725         -72.462328   \n",
       "std      430.460945         10.578384         6.826587          10.575062   \n",
       "min       -3.000000        -74.438233       -74.006893         -74.429332   \n",
       "25%        6.000000        -73.992156        40.734927         -73.991182   \n",
       "50%        8.500000        -73.981698        40.752603         -73.980172   \n",
       "75%       12.500000        -73.966838        40.767381         -73.963643   \n",
       "max    54343.000000         40.766125       401.083332          40.802437   \n",
       "\n",
       "       dropoff_latitude  passenger_count  \n",
       "count      16067.000000     16012.000000  \n",
       "mean          39.897906         2.625070  \n",
       "std            6.187087        60.844122  \n",
       "min          -74.006377         0.000000  \n",
       "25%           40.734651         1.000000  \n",
       "50%           40.753567         1.000000  \n",
       "75%           40.768013         2.000000  \n",
       "max           41.366138      5345.000000  "
      ]
     },
     "execution_count": 9,
     "metadata": {},
     "output_type": "execute_result"
    }
   ],
   "source": [
    "train.describe()"
   ]
  },
  {
   "cell_type": "markdown",
   "metadata": {},
   "source": [
    "## EDA - Data type conversion"
   ]
  },
  {
   "cell_type": "markdown",
   "metadata": {},
   "source": [
    "-  we will convert passenger_count into a categorical variable because passenger_count is not a continuous variable.\n",
    "-  passenger_count cannot take continous values. and also they are limited in number if its a cab."
   ]
  },
  {
   "cell_type": "code",
   "execution_count": 21,
   "metadata": {},
   "outputs": [],
   "source": [
    "# train['passenger_count']=train['passenger_count'].round().astype('object').astype('category',ordered=True)"
   ]
  },
  {
   "cell_type": "code",
   "execution_count": 4,
   "metadata": {},
   "outputs": [],
   "source": [
    "cat_var=['passenger_count']\n",
    "num_var=['fare_amount','pickup_longitude','pickup_latitude','dropoff_longitude','dropoff_latitude']"
   ]
  },
  {
   "cell_type": "markdown",
   "metadata": {},
   "source": [
    "There are lots of missing values and outliers so it is difficult to visualize data.  \n",
    "  We Will visualize after missing value analysis."
   ]
  },
  {
   "cell_type": "markdown",
   "metadata": {},
   "source": [
    "## Removing values which are not within desired range(outlier) depending upon basic understanding of dataset."
   ]
  },
  {
   "cell_type": "markdown",
   "metadata": {},
   "source": [
    "1.Fare amount has a negative value, which doesn't make sense. A price amount cannot be -ve and also cannot be 0. So we will remove these fields."
   ]
  },
  {
   "cell_type": "code",
   "execution_count": 23,
   "metadata": {},
   "outputs": [
    {
     "data": {
      "text/plain": [
       "5"
      ]
     },
     "execution_count": 23,
     "metadata": {},
     "output_type": "execute_result"
    }
   ],
   "source": [
    "sum(train['fare_amount']<1)"
   ]
  },
  {
   "cell_type": "code",
   "execution_count": 24,
   "metadata": {
    "scrolled": true
   },
   "outputs": [
    {
     "data": {
      "text/html": [
       "<div>\n",
       "<style scoped>\n",
       "    .dataframe tbody tr th:only-of-type {\n",
       "        vertical-align: middle;\n",
       "    }\n",
       "\n",
       "    .dataframe tbody tr th {\n",
       "        vertical-align: top;\n",
       "    }\n",
       "\n",
       "    .dataframe thead th {\n",
       "        text-align: right;\n",
       "    }\n",
       "</style>\n",
       "<table border=\"1\" class=\"dataframe\">\n",
       "  <thead>\n",
       "    <tr style=\"text-align: right;\">\n",
       "      <th></th>\n",
       "      <th>fare_amount</th>\n",
       "      <th>pickup_datetime</th>\n",
       "      <th>pickup_longitude</th>\n",
       "      <th>pickup_latitude</th>\n",
       "      <th>dropoff_longitude</th>\n",
       "      <th>dropoff_latitude</th>\n",
       "      <th>passenger_count</th>\n",
       "    </tr>\n",
       "  </thead>\n",
       "  <tbody>\n",
       "    <tr>\n",
       "      <th>2039</th>\n",
       "      <td>-2.90</td>\n",
       "      <td>2010-03-09 23:37:10+00:00</td>\n",
       "      <td>-73.789450</td>\n",
       "      <td>40.643498</td>\n",
       "      <td>-73.788665</td>\n",
       "      <td>40.641952</td>\n",
       "      <td>1.0</td>\n",
       "    </tr>\n",
       "    <tr>\n",
       "      <th>2486</th>\n",
       "      <td>-2.50</td>\n",
       "      <td>2015-03-22 05:14:27+00:00</td>\n",
       "      <td>-74.000031</td>\n",
       "      <td>40.720631</td>\n",
       "      <td>-73.999809</td>\n",
       "      <td>40.720539</td>\n",
       "      <td>1.0</td>\n",
       "    </tr>\n",
       "    <tr>\n",
       "      <th>2780</th>\n",
       "      <td>0.01</td>\n",
       "      <td>2015-05-01 15:38:41+00:00</td>\n",
       "      <td>-73.939041</td>\n",
       "      <td>40.713963</td>\n",
       "      <td>-73.941673</td>\n",
       "      <td>40.713997</td>\n",
       "      <td>1.0</td>\n",
       "    </tr>\n",
       "    <tr>\n",
       "      <th>10002</th>\n",
       "      <td>0.00</td>\n",
       "      <td>2010-02-15 14:26:01+00:00</td>\n",
       "      <td>-73.987115</td>\n",
       "      <td>40.738808</td>\n",
       "      <td>-74.005911</td>\n",
       "      <td>40.713960</td>\n",
       "      <td>1.0</td>\n",
       "    </tr>\n",
       "    <tr>\n",
       "      <th>13032</th>\n",
       "      <td>-3.00</td>\n",
       "      <td>2013-08-30 08:57:10+00:00</td>\n",
       "      <td>-73.995062</td>\n",
       "      <td>40.740755</td>\n",
       "      <td>-73.995885</td>\n",
       "      <td>40.741357</td>\n",
       "      <td>4.0</td>\n",
       "    </tr>\n",
       "  </tbody>\n",
       "</table>\n",
       "</div>"
      ],
      "text/plain": [
       "       fare_amount           pickup_datetime  pickup_longitude  \\\n",
       "2039         -2.90 2010-03-09 23:37:10+00:00        -73.789450   \n",
       "2486         -2.50 2015-03-22 05:14:27+00:00        -74.000031   \n",
       "2780          0.01 2015-05-01 15:38:41+00:00        -73.939041   \n",
       "10002         0.00 2010-02-15 14:26:01+00:00        -73.987115   \n",
       "13032        -3.00 2013-08-30 08:57:10+00:00        -73.995062   \n",
       "\n",
       "       pickup_latitude  dropoff_longitude  dropoff_latitude passenger_count  \n",
       "2039         40.643498         -73.788665         40.641952             1.0  \n",
       "2486         40.720631         -73.999809         40.720539             1.0  \n",
       "2780         40.713963         -73.941673         40.713997             1.0  \n",
       "10002        40.738808         -74.005911         40.713960             1.0  \n",
       "13032        40.740755         -73.995885         40.741357             4.0  "
      ]
     },
     "execution_count": 24,
     "metadata": {},
     "output_type": "execute_result"
    }
   ],
   "source": [
    "train[train['fare_amount']<1]"
   ]
  },
  {
   "cell_type": "code",
   "execution_count": 120,
   "metadata": {},
   "outputs": [],
   "source": [
    "train = train.drop(train[train['fare_amount']<1].index, axis=0)"
   ]
  },
  {
   "cell_type": "code",
   "execution_count": 73,
   "metadata": {},
   "outputs": [],
   "source": [
    "# train.loc[train['fare_amount'] < 1,'fare_amount'] = np.nan"
   ]
  },
  {
   "cell_type": "markdown",
   "metadata": {},
   "source": [
    "2.Passenger_count variable"
   ]
  },
  {
   "cell_type": "code",
   "execution_count": 79,
   "metadata": {},
   "outputs": [
    {
     "name": "stdout",
     "output_type": "stream",
     "text": [
      "passenger_count above4=1367\n",
      "passenger_count above5=322\n",
      "passenger_count above6=20\n",
      "passenger_count above7=20\n",
      "passenger_count above8=20\n",
      "passenger_count above9=20\n",
      "passenger_count above10=20\n"
     ]
    }
   ],
   "source": [
    "for i in range(4,11):\n",
    "    print('passenger_count above' +str(i)+'={}'.format(sum(train['passenger_count']>i)))"
   ]
  },
  {
   "cell_type": "markdown",
   "metadata": {},
   "source": [
    "so 20 observations of passenger_count is consistenly above from 6,7,8,9,10 passenger_counts, let's check them."
   ]
  },
  {
   "cell_type": "code",
   "execution_count": 80,
   "metadata": {
    "scrolled": true
   },
   "outputs": [
    {
     "data": {
      "text/html": [
       "<div>\n",
       "<style scoped>\n",
       "    .dataframe tbody tr th:only-of-type {\n",
       "        vertical-align: middle;\n",
       "    }\n",
       "\n",
       "    .dataframe tbody tr th {\n",
       "        vertical-align: top;\n",
       "    }\n",
       "\n",
       "    .dataframe thead th {\n",
       "        text-align: right;\n",
       "    }\n",
       "</style>\n",
       "<table border=\"1\" class=\"dataframe\">\n",
       "  <thead>\n",
       "    <tr style=\"text-align: right;\">\n",
       "      <th></th>\n",
       "      <th>fare_amount</th>\n",
       "      <th>pickup_datetime</th>\n",
       "      <th>pickup_longitude</th>\n",
       "      <th>pickup_latitude</th>\n",
       "      <th>dropoff_longitude</th>\n",
       "      <th>dropoff_latitude</th>\n",
       "      <th>passenger_count</th>\n",
       "    </tr>\n",
       "  </thead>\n",
       "  <tbody>\n",
       "    <tr>\n",
       "      <th>233</th>\n",
       "      <td>8.5</td>\n",
       "      <td>2011-07-24 01:14:35+00:00</td>\n",
       "      <td>0.000000</td>\n",
       "      <td>0.000000</td>\n",
       "      <td>0.000000</td>\n",
       "      <td>0.000000</td>\n",
       "      <td>236.0</td>\n",
       "    </tr>\n",
       "    <tr>\n",
       "      <th>263</th>\n",
       "      <td>4.9</td>\n",
       "      <td>2010-07-12 09:44:33+00:00</td>\n",
       "      <td>-73.983249</td>\n",
       "      <td>40.734655</td>\n",
       "      <td>-73.991278</td>\n",
       "      <td>40.738918</td>\n",
       "      <td>456.0</td>\n",
       "    </tr>\n",
       "    <tr>\n",
       "      <th>293</th>\n",
       "      <td>6.1</td>\n",
       "      <td>2011-01-18 23:48:00+00:00</td>\n",
       "      <td>-74.006642</td>\n",
       "      <td>40.738927</td>\n",
       "      <td>-74.010828</td>\n",
       "      <td>40.717907</td>\n",
       "      <td>5334.0</td>\n",
       "    </tr>\n",
       "    <tr>\n",
       "      <th>356</th>\n",
       "      <td>8.5</td>\n",
       "      <td>2013-06-18 10:27:05+00:00</td>\n",
       "      <td>-73.992108</td>\n",
       "      <td>40.764203</td>\n",
       "      <td>-73.973000</td>\n",
       "      <td>40.762695</td>\n",
       "      <td>535.0</td>\n",
       "    </tr>\n",
       "    <tr>\n",
       "      <th>386</th>\n",
       "      <td>8.1</td>\n",
       "      <td>2009-08-21 19:35:05+00:00</td>\n",
       "      <td>-73.960853</td>\n",
       "      <td>40.761557</td>\n",
       "      <td>-73.976335</td>\n",
       "      <td>40.748361</td>\n",
       "      <td>354.0</td>\n",
       "    </tr>\n",
       "    <tr>\n",
       "      <th>413</th>\n",
       "      <td>NaN</td>\n",
       "      <td>2013-09-12 11:32:00+00:00</td>\n",
       "      <td>-73.982060</td>\n",
       "      <td>40.772705</td>\n",
       "      <td>-73.956213</td>\n",
       "      <td>40.771777</td>\n",
       "      <td>55.0</td>\n",
       "    </tr>\n",
       "    <tr>\n",
       "      <th>971</th>\n",
       "      <td>10.1</td>\n",
       "      <td>2010-11-21 01:41:00+00:00</td>\n",
       "      <td>-74.004500</td>\n",
       "      <td>40.742143</td>\n",
       "      <td>-73.994330</td>\n",
       "      <td>40.720412</td>\n",
       "      <td>554.0</td>\n",
       "    </tr>\n",
       "    <tr>\n",
       "      <th>1007</th>\n",
       "      <td>3.7</td>\n",
       "      <td>2010-12-14 14:46:00+00:00</td>\n",
       "      <td>-73.969157</td>\n",
       "      <td>40.759000</td>\n",
       "      <td>-73.968763</td>\n",
       "      <td>40.764617</td>\n",
       "      <td>53.0</td>\n",
       "    </tr>\n",
       "    <tr>\n",
       "      <th>1043</th>\n",
       "      <td>5.7</td>\n",
       "      <td>2012-08-22 22:08:29+00:00</td>\n",
       "      <td>-73.973573</td>\n",
       "      <td>40.760184</td>\n",
       "      <td>-73.953564</td>\n",
       "      <td>40.767392</td>\n",
       "      <td>35.0</td>\n",
       "    </tr>\n",
       "    <tr>\n",
       "      <th>1107</th>\n",
       "      <td>4.9</td>\n",
       "      <td>2009-08-08 21:50:50+00:00</td>\n",
       "      <td>-73.988977</td>\n",
       "      <td>40.721068</td>\n",
       "      <td>-73.982368</td>\n",
       "      <td>40.732064</td>\n",
       "      <td>345.0</td>\n",
       "    </tr>\n",
       "    <tr>\n",
       "      <th>1146</th>\n",
       "      <td>8.0</td>\n",
       "      <td>2014-03-27 08:05:01+00:00</td>\n",
       "      <td>-73.991098</td>\n",
       "      <td>40.770655</td>\n",
       "      <td>-73.976933</td>\n",
       "      <td>40.790070</td>\n",
       "      <td>5345.0</td>\n",
       "    </tr>\n",
       "    <tr>\n",
       "      <th>1200</th>\n",
       "      <td>9.7</td>\n",
       "      <td>2011-08-16 09:29:00+00:00</td>\n",
       "      <td>-73.980487</td>\n",
       "      <td>40.741610</td>\n",
       "      <td>-73.980617</td>\n",
       "      <td>40.746868</td>\n",
       "      <td>536.0</td>\n",
       "    </tr>\n",
       "    <tr>\n",
       "      <th>1242</th>\n",
       "      <td>5.3</td>\n",
       "      <td>2011-10-16 00:22:00+00:00</td>\n",
       "      <td>-73.981095</td>\n",
       "      <td>40.738160</td>\n",
       "      <td>-73.990587</td>\n",
       "      <td>40.740105</td>\n",
       "      <td>43.0</td>\n",
       "    </tr>\n",
       "    <tr>\n",
       "      <th>8406</th>\n",
       "      <td>6.9</td>\n",
       "      <td>2010-08-25 11:41:00+00:00</td>\n",
       "      <td>0.000000</td>\n",
       "      <td>0.000000</td>\n",
       "      <td>0.000000</td>\n",
       "      <td>0.000000</td>\n",
       "      <td>53.0</td>\n",
       "    </tr>\n",
       "    <tr>\n",
       "      <th>8445</th>\n",
       "      <td>5.7</td>\n",
       "      <td>2009-03-28 22:00:00+00:00</td>\n",
       "      <td>-73.982413</td>\n",
       "      <td>40.751320</td>\n",
       "      <td>-73.971292</td>\n",
       "      <td>40.748502</td>\n",
       "      <td>58.0</td>\n",
       "    </tr>\n",
       "    <tr>\n",
       "      <th>8506</th>\n",
       "      <td>11.3</td>\n",
       "      <td>2010-05-23 20:06:37+00:00</td>\n",
       "      <td>-73.985424</td>\n",
       "      <td>40.738468</td>\n",
       "      <td>-74.001698</td>\n",
       "      <td>40.707758</td>\n",
       "      <td>537.0</td>\n",
       "    </tr>\n",
       "    <tr>\n",
       "      <th>8571</th>\n",
       "      <td>12.5</td>\n",
       "      <td>2011-12-03 03:21:00+00:00</td>\n",
       "      <td>-73.993718</td>\n",
       "      <td>40.762039</td>\n",
       "      <td>-73.977527</td>\n",
       "      <td>40.734024</td>\n",
       "      <td>87.0</td>\n",
       "    </tr>\n",
       "    <tr>\n",
       "      <th>8631</th>\n",
       "      <td>20.0</td>\n",
       "      <td>2012-12-10 22:28:00+00:00</td>\n",
       "      <td>-73.955445</td>\n",
       "      <td>40.670232</td>\n",
       "      <td>-74.004795</td>\n",
       "      <td>40.731477</td>\n",
       "      <td>43.0</td>\n",
       "    </tr>\n",
       "    <tr>\n",
       "      <th>8715</th>\n",
       "      <td>4.5</td>\n",
       "      <td>2009-09-04 09:14:03+00:00</td>\n",
       "      <td>-73.977518</td>\n",
       "      <td>40.758480</td>\n",
       "      <td>-73.983252</td>\n",
       "      <td>40.749837</td>\n",
       "      <td>531.2</td>\n",
       "    </tr>\n",
       "    <tr>\n",
       "      <th>8985</th>\n",
       "      <td>8.5</td>\n",
       "      <td>2015-01-14 15:10:21+00:00</td>\n",
       "      <td>-73.955444</td>\n",
       "      <td>40.787605</td>\n",
       "      <td>-73.965561</td>\n",
       "      <td>40.798691</td>\n",
       "      <td>557.0</td>\n",
       "    </tr>\n",
       "  </tbody>\n",
       "</table>\n",
       "</div>"
      ],
      "text/plain": [
       "      fare_amount           pickup_datetime  pickup_longitude  \\\n",
       "233           8.5 2011-07-24 01:14:35+00:00          0.000000   \n",
       "263           4.9 2010-07-12 09:44:33+00:00        -73.983249   \n",
       "293           6.1 2011-01-18 23:48:00+00:00        -74.006642   \n",
       "356           8.5 2013-06-18 10:27:05+00:00        -73.992108   \n",
       "386           8.1 2009-08-21 19:35:05+00:00        -73.960853   \n",
       "413           NaN 2013-09-12 11:32:00+00:00        -73.982060   \n",
       "971          10.1 2010-11-21 01:41:00+00:00        -74.004500   \n",
       "1007          3.7 2010-12-14 14:46:00+00:00        -73.969157   \n",
       "1043          5.7 2012-08-22 22:08:29+00:00        -73.973573   \n",
       "1107          4.9 2009-08-08 21:50:50+00:00        -73.988977   \n",
       "1146          8.0 2014-03-27 08:05:01+00:00        -73.991098   \n",
       "1200          9.7 2011-08-16 09:29:00+00:00        -73.980487   \n",
       "1242          5.3 2011-10-16 00:22:00+00:00        -73.981095   \n",
       "8406          6.9 2010-08-25 11:41:00+00:00          0.000000   \n",
       "8445          5.7 2009-03-28 22:00:00+00:00        -73.982413   \n",
       "8506         11.3 2010-05-23 20:06:37+00:00        -73.985424   \n",
       "8571         12.5 2011-12-03 03:21:00+00:00        -73.993718   \n",
       "8631         20.0 2012-12-10 22:28:00+00:00        -73.955445   \n",
       "8715          4.5 2009-09-04 09:14:03+00:00        -73.977518   \n",
       "8985          8.5 2015-01-14 15:10:21+00:00        -73.955444   \n",
       "\n",
       "      pickup_latitude  dropoff_longitude  dropoff_latitude  passenger_count  \n",
       "233          0.000000           0.000000          0.000000            236.0  \n",
       "263         40.734655         -73.991278         40.738918            456.0  \n",
       "293         40.738927         -74.010828         40.717907           5334.0  \n",
       "356         40.764203         -73.973000         40.762695            535.0  \n",
       "386         40.761557         -73.976335         40.748361            354.0  \n",
       "413         40.772705         -73.956213         40.771777             55.0  \n",
       "971         40.742143         -73.994330         40.720412            554.0  \n",
       "1007        40.759000         -73.968763         40.764617             53.0  \n",
       "1043        40.760184         -73.953564         40.767392             35.0  \n",
       "1107        40.721068         -73.982368         40.732064            345.0  \n",
       "1146        40.770655         -73.976933         40.790070           5345.0  \n",
       "1200        40.741610         -73.980617         40.746868            536.0  \n",
       "1242        40.738160         -73.990587         40.740105             43.0  \n",
       "8406         0.000000           0.000000          0.000000             53.0  \n",
       "8445        40.751320         -73.971292         40.748502             58.0  \n",
       "8506        40.738468         -74.001698         40.707758            537.0  \n",
       "8571        40.762039         -73.977527         40.734024             87.0  \n",
       "8631        40.670232         -74.004795         40.731477             43.0  \n",
       "8715        40.758480         -73.983252         40.749837            531.2  \n",
       "8985        40.787605         -73.965561         40.798691            557.0  "
      ]
     },
     "execution_count": 80,
     "metadata": {},
     "output_type": "execute_result"
    }
   ],
   "source": [
    "train[train['passenger_count']>6]"
   ]
  },
  {
   "cell_type": "markdown",
   "metadata": {},
   "source": [
    "Also we need to see if there are any passenger_count==0"
   ]
  },
  {
   "cell_type": "code",
   "execution_count": 5,
   "metadata": {
    "scrolled": true
   },
   "outputs": [
    {
     "data": {
      "text/html": [
       "<div>\n",
       "<style scoped>\n",
       "    .dataframe tbody tr th:only-of-type {\n",
       "        vertical-align: middle;\n",
       "    }\n",
       "\n",
       "    .dataframe tbody tr th {\n",
       "        vertical-align: top;\n",
       "    }\n",
       "\n",
       "    .dataframe thead th {\n",
       "        text-align: right;\n",
       "    }\n",
       "</style>\n",
       "<table border=\"1\" class=\"dataframe\">\n",
       "  <thead>\n",
       "    <tr style=\"text-align: right;\">\n",
       "      <th></th>\n",
       "      <th>fare_amount</th>\n",
       "      <th>pickup_datetime</th>\n",
       "      <th>pickup_longitude</th>\n",
       "      <th>pickup_latitude</th>\n",
       "      <th>dropoff_longitude</th>\n",
       "      <th>dropoff_latitude</th>\n",
       "      <th>passenger_count</th>\n",
       "    </tr>\n",
       "  </thead>\n",
       "  <tbody>\n",
       "    <tr>\n",
       "      <th>314</th>\n",
       "      <td>34.0</td>\n",
       "      <td>2015-06-02 23:16:15+00:00</td>\n",
       "      <td>-73.974899</td>\n",
       "      <td>40.751095</td>\n",
       "      <td>-73.908546</td>\n",
       "      <td>40.881878</td>\n",
       "      <td>0.00</td>\n",
       "    </tr>\n",
       "    <tr>\n",
       "      <th>566</th>\n",
       "      <td>4.9</td>\n",
       "      <td>2012-01-28 21:33:18+00:00</td>\n",
       "      <td>-73.955322</td>\n",
       "      <td>40.782840</td>\n",
       "      <td>-73.955797</td>\n",
       "      <td>40.773673</td>\n",
       "      <td>0.00</td>\n",
       "    </tr>\n",
       "    <tr>\n",
       "      <th>678</th>\n",
       "      <td>6.5</td>\n",
       "      <td>2012-02-27 07:24:20+00:00</td>\n",
       "      <td>-73.983397</td>\n",
       "      <td>40.738183</td>\n",
       "      <td>-73.971395</td>\n",
       "      <td>40.758023</td>\n",
       "      <td>0.00</td>\n",
       "    </tr>\n",
       "    <tr>\n",
       "      <th>1160</th>\n",
       "      <td>13.3</td>\n",
       "      <td>2011-05-25 23:58:48+00:00</td>\n",
       "      <td>-73.998360</td>\n",
       "      <td>40.740348</td>\n",
       "      <td>-73.946455</td>\n",
       "      <td>40.777348</td>\n",
       "      <td>0.00</td>\n",
       "    </tr>\n",
       "    <tr>\n",
       "      <th>1935</th>\n",
       "      <td>10.1</td>\n",
       "      <td>2011-10-23 11:09:28+00:00</td>\n",
       "      <td>-73.971400</td>\n",
       "      <td>40.795000</td>\n",
       "      <td>-73.967900</td>\n",
       "      <td>40.768600</td>\n",
       "      <td>0.00</td>\n",
       "    </tr>\n",
       "    <tr>\n",
       "      <th>2200</th>\n",
       "      <td>8.1</td>\n",
       "      <td>2011-05-23 16:54:19+00:00</td>\n",
       "      <td>-73.988008</td>\n",
       "      <td>40.748303</td>\n",
       "      <td>-74.005185</td>\n",
       "      <td>40.738733</td>\n",
       "      <td>0.00</td>\n",
       "    </tr>\n",
       "    <tr>\n",
       "      <th>2425</th>\n",
       "      <td>8.9</td>\n",
       "      <td>2011-11-25 22:47:33+00:00</td>\n",
       "      <td>-73.999900</td>\n",
       "      <td>40.738600</td>\n",
       "      <td>-73.971800</td>\n",
       "      <td>40.746300</td>\n",
       "      <td>0.00</td>\n",
       "    </tr>\n",
       "    <tr>\n",
       "      <th>3034</th>\n",
       "      <td>5.7</td>\n",
       "      <td>2011-03-06 12:03:14+00:00</td>\n",
       "      <td>-73.986557</td>\n",
       "      <td>40.745783</td>\n",
       "      <td>-73.994545</td>\n",
       "      <td>40.729995</td>\n",
       "      <td>0.00</td>\n",
       "    </tr>\n",
       "    <tr>\n",
       "      <th>3413</th>\n",
       "      <td>7.3</td>\n",
       "      <td>2011-02-28 06:39:16+00:00</td>\n",
       "      <td>-73.973413</td>\n",
       "      <td>40.743708</td>\n",
       "      <td>-73.985220</td>\n",
       "      <td>40.741583</td>\n",
       "      <td>0.00</td>\n",
       "    </tr>\n",
       "    <tr>\n",
       "      <th>3481</th>\n",
       "      <td>11.3</td>\n",
       "      <td>2011-11-30 17:23:02+00:00</td>\n",
       "      <td>-73.968100</td>\n",
       "      <td>40.762500</td>\n",
       "      <td>-73.984400</td>\n",
       "      <td>40.760900</td>\n",
       "      <td>0.00</td>\n",
       "    </tr>\n",
       "    <tr>\n",
       "      <th>3489</th>\n",
       "      <td>7.3</td>\n",
       "      <td>2011-10-18 08:18:18+00:00</td>\n",
       "      <td>-73.966100</td>\n",
       "      <td>40.794500</td>\n",
       "      <td>-73.960300</td>\n",
       "      <td>40.779800</td>\n",
       "      <td>0.00</td>\n",
       "    </tr>\n",
       "    <tr>\n",
       "      <th>3599</th>\n",
       "      <td>8.9</td>\n",
       "      <td>2011-03-06 18:24:50+00:00</td>\n",
       "      <td>-73.982657</td>\n",
       "      <td>40.746145</td>\n",
       "      <td>-74.005580</td>\n",
       "      <td>40.724402</td>\n",
       "      <td>0.00</td>\n",
       "    </tr>\n",
       "    <tr>\n",
       "      <th>4114</th>\n",
       "      <td>4.5</td>\n",
       "      <td>2011-07-22 05:51:00+00:00</td>\n",
       "      <td>-73.975500</td>\n",
       "      <td>40.760800</td>\n",
       "      <td>-73.990200</td>\n",
       "      <td>40.760000</td>\n",
       "      <td>0.00</td>\n",
       "    </tr>\n",
       "    <tr>\n",
       "      <th>4248</th>\n",
       "      <td>4.1</td>\n",
       "      <td>2012-02-15 11:19:50+00:00</td>\n",
       "      <td>-73.982112</td>\n",
       "      <td>40.721073</td>\n",
       "      <td>-73.992240</td>\n",
       "      <td>40.725313</td>\n",
       "      <td>0.00</td>\n",
       "    </tr>\n",
       "    <tr>\n",
       "      <th>4344</th>\n",
       "      <td>24.9</td>\n",
       "      <td>2011-05-19 13:28:17+00:00</td>\n",
       "      <td>-73.789230</td>\n",
       "      <td>40.646622</td>\n",
       "      <td>-73.725032</td>\n",
       "      <td>40.614140</td>\n",
       "      <td>0.00</td>\n",
       "    </tr>\n",
       "    <tr>\n",
       "      <th>4354</th>\n",
       "      <td>5.3</td>\n",
       "      <td>2012-01-15 12:06:43+00:00</td>\n",
       "      <td>-73.964400</td>\n",
       "      <td>40.767500</td>\n",
       "      <td>-73.981600</td>\n",
       "      <td>40.774000</td>\n",
       "      <td>0.00</td>\n",
       "    </tr>\n",
       "    <tr>\n",
       "      <th>5058</th>\n",
       "      <td>12.9</td>\n",
       "      <td>2011-11-05 18:29:30+00:00</td>\n",
       "      <td>-74.008900</td>\n",
       "      <td>40.709400</td>\n",
       "      <td>-73.985400</td>\n",
       "      <td>40.756200</td>\n",
       "      <td>0.00</td>\n",
       "    </tr>\n",
       "    <tr>\n",
       "      <th>5150</th>\n",
       "      <td>7.7</td>\n",
       "      <td>2011-11-07 22:07:24+00:00</td>\n",
       "      <td>-73.984900</td>\n",
       "      <td>40.675300</td>\n",
       "      <td>-74.010400</td>\n",
       "      <td>40.655200</td>\n",
       "      <td>0.00</td>\n",
       "    </tr>\n",
       "    <tr>\n",
       "      <th>5161</th>\n",
       "      <td>11.3</td>\n",
       "      <td>2011-12-20 06:59:57+00:00</td>\n",
       "      <td>-73.983700</td>\n",
       "      <td>40.775800</td>\n",
       "      <td>-73.985300</td>\n",
       "      <td>40.741300</td>\n",
       "      <td>0.00</td>\n",
       "    </tr>\n",
       "    <tr>\n",
       "      <th>5277</th>\n",
       "      <td>6.1</td>\n",
       "      <td>2012-04-12 09:35:22+00:00</td>\n",
       "      <td>-73.967003</td>\n",
       "      <td>40.772417</td>\n",
       "      <td>-73.968860</td>\n",
       "      <td>40.761147</td>\n",
       "      <td>0.00</td>\n",
       "    </tr>\n",
       "    <tr>\n",
       "      <th>5517</th>\n",
       "      <td>3.3</td>\n",
       "      <td>2012-07-02 16:11:55+00:00</td>\n",
       "      <td>-74.007110</td>\n",
       "      <td>40.743862</td>\n",
       "      <td>-74.003337</td>\n",
       "      <td>40.748877</td>\n",
       "      <td>0.00</td>\n",
       "    </tr>\n",
       "    <tr>\n",
       "      <th>5557</th>\n",
       "      <td>27.3</td>\n",
       "      <td>2011-02-08 13:31:18+00:00</td>\n",
       "      <td>-73.873318</td>\n",
       "      <td>40.773948</td>\n",
       "      <td>-74.010205</td>\n",
       "      <td>40.711158</td>\n",
       "      <td>0.00</td>\n",
       "    </tr>\n",
       "    <tr>\n",
       "      <th>5688</th>\n",
       "      <td>4.9</td>\n",
       "      <td>2011-09-07 21:50:40+00:00</td>\n",
       "      <td>-73.986700</td>\n",
       "      <td>40.761300</td>\n",
       "      <td>-73.982300</td>\n",
       "      <td>40.773900</td>\n",
       "      <td>0.00</td>\n",
       "    </tr>\n",
       "    <tr>\n",
       "      <th>5914</th>\n",
       "      <td>8.5</td>\n",
       "      <td>2011-12-19 22:44:42+00:00</td>\n",
       "      <td>-73.982000</td>\n",
       "      <td>40.755900</td>\n",
       "      <td>-73.955600</td>\n",
       "      <td>40.769600</td>\n",
       "      <td>0.00</td>\n",
       "    </tr>\n",
       "    <tr>\n",
       "      <th>6036</th>\n",
       "      <td>7.7</td>\n",
       "      <td>2011-02-26 12:41:03+00:00</td>\n",
       "      <td>-73.976715</td>\n",
       "      <td>40.775708</td>\n",
       "      <td>-73.972785</td>\n",
       "      <td>40.764467</td>\n",
       "      <td>0.00</td>\n",
       "    </tr>\n",
       "    <tr>\n",
       "      <th>6575</th>\n",
       "      <td>4.5</td>\n",
       "      <td>2012-04-19 19:44:48+00:00</td>\n",
       "      <td>-73.964598</td>\n",
       "      <td>40.807213</td>\n",
       "      <td>-73.970875</td>\n",
       "      <td>40.797955</td>\n",
       "      <td>0.00</td>\n",
       "    </tr>\n",
       "    <tr>\n",
       "      <th>6713</th>\n",
       "      <td>10.5</td>\n",
       "      <td>2012-03-06 15:35:37+00:00</td>\n",
       "      <td>-73.965115</td>\n",
       "      <td>40.766463</td>\n",
       "      <td>-73.997523</td>\n",
       "      <td>40.744878</td>\n",
       "      <td>0.00</td>\n",
       "    </tr>\n",
       "    <tr>\n",
       "      <th>6881</th>\n",
       "      <td>5.7</td>\n",
       "      <td>2011-06-14 10:12:16+00:00</td>\n",
       "      <td>-73.959000</td>\n",
       "      <td>40.781000</td>\n",
       "      <td>-73.950300</td>\n",
       "      <td>40.775400</td>\n",
       "      <td>0.00</td>\n",
       "    </tr>\n",
       "    <tr>\n",
       "      <th>7279</th>\n",
       "      <td>10.9</td>\n",
       "      <td>2012-04-18 18:44:15+00:00</td>\n",
       "      <td>-73.982930</td>\n",
       "      <td>40.722645</td>\n",
       "      <td>-73.971108</td>\n",
       "      <td>40.760172</td>\n",
       "      <td>0.00</td>\n",
       "    </tr>\n",
       "    <tr>\n",
       "      <th>7520</th>\n",
       "      <td>6.9</td>\n",
       "      <td>2011-06-08 13:11:10+00:00</td>\n",
       "      <td>-73.975100</td>\n",
       "      <td>40.755200</td>\n",
       "      <td>-73.980000</td>\n",
       "      <td>40.765900</td>\n",
       "      <td>0.00</td>\n",
       "    </tr>\n",
       "    <tr>\n",
       "      <th>7640</th>\n",
       "      <td>10.9</td>\n",
       "      <td>2012-01-21 16:17:50+00:00</td>\n",
       "      <td>-73.999505</td>\n",
       "      <td>40.725002</td>\n",
       "      <td>-73.973262</td>\n",
       "      <td>40.763290</td>\n",
       "      <td>0.00</td>\n",
       "    </tr>\n",
       "    <tr>\n",
       "      <th>7909</th>\n",
       "      <td>6.9</td>\n",
       "      <td>2011-03-12 17:03:23+00:00</td>\n",
       "      <td>-73.974793</td>\n",
       "      <td>40.759865</td>\n",
       "      <td>-73.955718</td>\n",
       "      <td>40.772732</td>\n",
       "      <td>0.00</td>\n",
       "    </tr>\n",
       "    <tr>\n",
       "      <th>8321</th>\n",
       "      <td>7.3</td>\n",
       "      <td>2012-02-25 19:19:41+00:00</td>\n",
       "      <td>-74.003725</td>\n",
       "      <td>40.742108</td>\n",
       "      <td>-73.988270</td>\n",
       "      <td>40.759308</td>\n",
       "      <td>0.00</td>\n",
       "    </tr>\n",
       "    <tr>\n",
       "      <th>8661</th>\n",
       "      <td>8.1</td>\n",
       "      <td>2012-01-13 13:47:57+00:00</td>\n",
       "      <td>-73.999700</td>\n",
       "      <td>40.721800</td>\n",
       "      <td>-74.005600</td>\n",
       "      <td>40.741100</td>\n",
       "      <td>0.00</td>\n",
       "    </tr>\n",
       "    <tr>\n",
       "      <th>8862</th>\n",
       "      <td>11.5</td>\n",
       "      <td>2013-05-17 07:15:00+00:00</td>\n",
       "      <td>-73.969835</td>\n",
       "      <td>40.753017</td>\n",
       "      <td>-73.998580</td>\n",
       "      <td>40.712927</td>\n",
       "      <td>0.12</td>\n",
       "    </tr>\n",
       "    <tr>\n",
       "      <th>8916</th>\n",
       "      <td>2.5</td>\n",
       "      <td>2011-09-13 18:45:31+00:00</td>\n",
       "      <td>-73.783300</td>\n",
       "      <td>40.648600</td>\n",
       "      <td>-73.783300</td>\n",
       "      <td>40.648600</td>\n",
       "      <td>0.00</td>\n",
       "    </tr>\n",
       "    <tr>\n",
       "      <th>8971</th>\n",
       "      <td>7.7</td>\n",
       "      <td>2011-10-22 20:50:34+00:00</td>\n",
       "      <td>-73.998600</td>\n",
       "      <td>40.761000</td>\n",
       "      <td>-73.977900</td>\n",
       "      <td>40.777200</td>\n",
       "      <td>0.00</td>\n",
       "    </tr>\n",
       "    <tr>\n",
       "      <th>9159</th>\n",
       "      <td>3.3</td>\n",
       "      <td>2011-06-04 10:38:47+00:00</td>\n",
       "      <td>-73.987300</td>\n",
       "      <td>40.729200</td>\n",
       "      <td>-73.994000</td>\n",
       "      <td>40.732100</td>\n",
       "      <td>0.00</td>\n",
       "    </tr>\n",
       "    <tr>\n",
       "      <th>9965</th>\n",
       "      <td>9.3</td>\n",
       "      <td>2012-01-04 22:04:14+00:00</td>\n",
       "      <td>-73.971000</td>\n",
       "      <td>40.754900</td>\n",
       "      <td>-74.004500</td>\n",
       "      <td>40.736100</td>\n",
       "      <td>0.00</td>\n",
       "    </tr>\n",
       "    <tr>\n",
       "      <th>10642</th>\n",
       "      <td>10.1</td>\n",
       "      <td>2012-03-10 18:21:16+00:00</td>\n",
       "      <td>-73.972272</td>\n",
       "      <td>40.754037</td>\n",
       "      <td>-73.994090</td>\n",
       "      <td>40.734440</td>\n",
       "      <td>0.00</td>\n",
       "    </tr>\n",
       "    <tr>\n",
       "      <th>10663</th>\n",
       "      <td>18.1</td>\n",
       "      <td>2011-05-06 13:38:48+00:00</td>\n",
       "      <td>-73.973818</td>\n",
       "      <td>40.789362</td>\n",
       "      <td>-73.942252</td>\n",
       "      <td>40.754120</td>\n",
       "      <td>0.00</td>\n",
       "    </tr>\n",
       "    <tr>\n",
       "      <th>10711</th>\n",
       "      <td>6.5</td>\n",
       "      <td>2012-03-31 20:16:01+00:00</td>\n",
       "      <td>-74.004323</td>\n",
       "      <td>40.724073</td>\n",
       "      <td>-74.006453</td>\n",
       "      <td>40.738420</td>\n",
       "      <td>0.00</td>\n",
       "    </tr>\n",
       "    <tr>\n",
       "      <th>11462</th>\n",
       "      <td>15.7</td>\n",
       "      <td>2011-10-20 23:09:45+00:00</td>\n",
       "      <td>-73.994800</td>\n",
       "      <td>40.750400</td>\n",
       "      <td>-73.959200</td>\n",
       "      <td>40.710600</td>\n",
       "      <td>0.00</td>\n",
       "    </tr>\n",
       "    <tr>\n",
       "      <th>11803</th>\n",
       "      <td>12.1</td>\n",
       "      <td>2011-06-21 08:58:36+00:00</td>\n",
       "      <td>-73.999000</td>\n",
       "      <td>40.724800</td>\n",
       "      <td>-73.980600</td>\n",
       "      <td>40.754900</td>\n",
       "      <td>0.00</td>\n",
       "    </tr>\n",
       "    <tr>\n",
       "      <th>12216</th>\n",
       "      <td>5.7</td>\n",
       "      <td>2012-03-27 16:06:09+00:00</td>\n",
       "      <td>-73.982017</td>\n",
       "      <td>40.756338</td>\n",
       "      <td>-73.980987</td>\n",
       "      <td>40.745442</td>\n",
       "      <td>0.00</td>\n",
       "    </tr>\n",
       "    <tr>\n",
       "      <th>12611</th>\n",
       "      <td>8.1</td>\n",
       "      <td>2011-07-22 23:13:58+00:00</td>\n",
       "      <td>-73.978000</td>\n",
       "      <td>40.752300</td>\n",
       "      <td>-73.991800</td>\n",
       "      <td>40.763900</td>\n",
       "      <td>0.00</td>\n",
       "    </tr>\n",
       "    <tr>\n",
       "      <th>13029</th>\n",
       "      <td>4.5</td>\n",
       "      <td>2012-02-01 21:18:24+00:00</td>\n",
       "      <td>-73.982117</td>\n",
       "      <td>40.770408</td>\n",
       "      <td>-73.980057</td>\n",
       "      <td>40.762155</td>\n",
       "      <td>0.00</td>\n",
       "    </tr>\n",
       "    <tr>\n",
       "      <th>13227</th>\n",
       "      <td>10.9</td>\n",
       "      <td>2011-04-22 18:13:12+00:00</td>\n",
       "      <td>-73.999512</td>\n",
       "      <td>40.722078</td>\n",
       "      <td>-73.989495</td>\n",
       "      <td>40.747422</td>\n",
       "      <td>0.00</td>\n",
       "    </tr>\n",
       "    <tr>\n",
       "      <th>13379</th>\n",
       "      <td>7.3</td>\n",
       "      <td>2012-03-14 07:20:10+00:00</td>\n",
       "      <td>-73.964512</td>\n",
       "      <td>40.771577</td>\n",
       "      <td>-73.945595</td>\n",
       "      <td>40.778032</td>\n",
       "      <td>0.00</td>\n",
       "    </tr>\n",
       "    <tr>\n",
       "      <th>13714</th>\n",
       "      <td>4.1</td>\n",
       "      <td>2011-12-15 07:05:33+00:00</td>\n",
       "      <td>-73.979400</td>\n",
       "      <td>40.731100</td>\n",
       "      <td>-73.981500</td>\n",
       "      <td>40.724800</td>\n",
       "      <td>0.00</td>\n",
       "    </tr>\n",
       "    <tr>\n",
       "      <th>13742</th>\n",
       "      <td>21.7</td>\n",
       "      <td>2011-04-29 12:51:14+00:00</td>\n",
       "      <td>-74.009472</td>\n",
       "      <td>40.702140</td>\n",
       "      <td>-73.959185</td>\n",
       "      <td>40.783245</td>\n",
       "      <td>0.00</td>\n",
       "    </tr>\n",
       "    <tr>\n",
       "      <th>14196</th>\n",
       "      <td>8.1</td>\n",
       "      <td>2011-10-06 23:31:04+00:00</td>\n",
       "      <td>-73.999400</td>\n",
       "      <td>40.743800</td>\n",
       "      <td>-73.990400</td>\n",
       "      <td>40.724800</td>\n",
       "      <td>0.00</td>\n",
       "    </tr>\n",
       "    <tr>\n",
       "      <th>14308</th>\n",
       "      <td>8.1</td>\n",
       "      <td>2011-11-11 12:03:38+00:00</td>\n",
       "      <td>0.000000</td>\n",
       "      <td>0.000000</td>\n",
       "      <td>-73.990000</td>\n",
       "      <td>40.755400</td>\n",
       "      <td>0.00</td>\n",
       "    </tr>\n",
       "    <tr>\n",
       "      <th>14872</th>\n",
       "      <td>3.3</td>\n",
       "      <td>2011-03-02 19:25:46+00:00</td>\n",
       "      <td>-73.948553</td>\n",
       "      <td>40.773972</td>\n",
       "      <td>-73.945098</td>\n",
       "      <td>40.778413</td>\n",
       "      <td>0.00</td>\n",
       "    </tr>\n",
       "    <tr>\n",
       "      <th>15286</th>\n",
       "      <td>4.9</td>\n",
       "      <td>2012-03-20 22:23:34+00:00</td>\n",
       "      <td>-73.971808</td>\n",
       "      <td>40.760143</td>\n",
       "      <td>-73.962027</td>\n",
       "      <td>40.767677</td>\n",
       "      <td>0.00</td>\n",
       "    </tr>\n",
       "    <tr>\n",
       "      <th>15514</th>\n",
       "      <td>6.5</td>\n",
       "      <td>2012-02-12 02:03:50+00:00</td>\n",
       "      <td>-73.999342</td>\n",
       "      <td>40.718872</td>\n",
       "      <td>-73.984112</td>\n",
       "      <td>40.725242</td>\n",
       "      <td>0.00</td>\n",
       "    </tr>\n",
       "    <tr>\n",
       "      <th>15554</th>\n",
       "      <td>6.5</td>\n",
       "      <td>2011-08-03 08:31:19+00:00</td>\n",
       "      <td>-73.991700</td>\n",
       "      <td>40.750100</td>\n",
       "      <td>-73.981000</td>\n",
       "      <td>40.750900</td>\n",
       "      <td>0.00</td>\n",
       "    </tr>\n",
       "    <tr>\n",
       "      <th>15919</th>\n",
       "      <td>16.5</td>\n",
       "      <td>2011-10-17 08:58:54+00:00</td>\n",
       "      <td>0.000000</td>\n",
       "      <td>0.000000</td>\n",
       "      <td>-73.999700</td>\n",
       "      <td>40.734500</td>\n",
       "      <td>0.00</td>\n",
       "    </tr>\n",
       "  </tbody>\n",
       "</table>\n",
       "</div>"
      ],
      "text/plain": [
       "       fare_amount           pickup_datetime  pickup_longitude  \\\n",
       "314           34.0 2015-06-02 23:16:15+00:00        -73.974899   \n",
       "566            4.9 2012-01-28 21:33:18+00:00        -73.955322   \n",
       "678            6.5 2012-02-27 07:24:20+00:00        -73.983397   \n",
       "1160          13.3 2011-05-25 23:58:48+00:00        -73.998360   \n",
       "1935          10.1 2011-10-23 11:09:28+00:00        -73.971400   \n",
       "2200           8.1 2011-05-23 16:54:19+00:00        -73.988008   \n",
       "2425           8.9 2011-11-25 22:47:33+00:00        -73.999900   \n",
       "3034           5.7 2011-03-06 12:03:14+00:00        -73.986557   \n",
       "3413           7.3 2011-02-28 06:39:16+00:00        -73.973413   \n",
       "3481          11.3 2011-11-30 17:23:02+00:00        -73.968100   \n",
       "3489           7.3 2011-10-18 08:18:18+00:00        -73.966100   \n",
       "3599           8.9 2011-03-06 18:24:50+00:00        -73.982657   \n",
       "4114           4.5 2011-07-22 05:51:00+00:00        -73.975500   \n",
       "4248           4.1 2012-02-15 11:19:50+00:00        -73.982112   \n",
       "4344          24.9 2011-05-19 13:28:17+00:00        -73.789230   \n",
       "4354           5.3 2012-01-15 12:06:43+00:00        -73.964400   \n",
       "5058          12.9 2011-11-05 18:29:30+00:00        -74.008900   \n",
       "5150           7.7 2011-11-07 22:07:24+00:00        -73.984900   \n",
       "5161          11.3 2011-12-20 06:59:57+00:00        -73.983700   \n",
       "5277           6.1 2012-04-12 09:35:22+00:00        -73.967003   \n",
       "5517           3.3 2012-07-02 16:11:55+00:00        -74.007110   \n",
       "5557          27.3 2011-02-08 13:31:18+00:00        -73.873318   \n",
       "5688           4.9 2011-09-07 21:50:40+00:00        -73.986700   \n",
       "5914           8.5 2011-12-19 22:44:42+00:00        -73.982000   \n",
       "6036           7.7 2011-02-26 12:41:03+00:00        -73.976715   \n",
       "6575           4.5 2012-04-19 19:44:48+00:00        -73.964598   \n",
       "6713          10.5 2012-03-06 15:35:37+00:00        -73.965115   \n",
       "6881           5.7 2011-06-14 10:12:16+00:00        -73.959000   \n",
       "7279          10.9 2012-04-18 18:44:15+00:00        -73.982930   \n",
       "7520           6.9 2011-06-08 13:11:10+00:00        -73.975100   \n",
       "7640          10.9 2012-01-21 16:17:50+00:00        -73.999505   \n",
       "7909           6.9 2011-03-12 17:03:23+00:00        -73.974793   \n",
       "8321           7.3 2012-02-25 19:19:41+00:00        -74.003725   \n",
       "8661           8.1 2012-01-13 13:47:57+00:00        -73.999700   \n",
       "8862          11.5 2013-05-17 07:15:00+00:00        -73.969835   \n",
       "8916           2.5 2011-09-13 18:45:31+00:00        -73.783300   \n",
       "8971           7.7 2011-10-22 20:50:34+00:00        -73.998600   \n",
       "9159           3.3 2011-06-04 10:38:47+00:00        -73.987300   \n",
       "9965           9.3 2012-01-04 22:04:14+00:00        -73.971000   \n",
       "10642         10.1 2012-03-10 18:21:16+00:00        -73.972272   \n",
       "10663         18.1 2011-05-06 13:38:48+00:00        -73.973818   \n",
       "10711          6.5 2012-03-31 20:16:01+00:00        -74.004323   \n",
       "11462         15.7 2011-10-20 23:09:45+00:00        -73.994800   \n",
       "11803         12.1 2011-06-21 08:58:36+00:00        -73.999000   \n",
       "12216          5.7 2012-03-27 16:06:09+00:00        -73.982017   \n",
       "12611          8.1 2011-07-22 23:13:58+00:00        -73.978000   \n",
       "13029          4.5 2012-02-01 21:18:24+00:00        -73.982117   \n",
       "13227         10.9 2011-04-22 18:13:12+00:00        -73.999512   \n",
       "13379          7.3 2012-03-14 07:20:10+00:00        -73.964512   \n",
       "13714          4.1 2011-12-15 07:05:33+00:00        -73.979400   \n",
       "13742         21.7 2011-04-29 12:51:14+00:00        -74.009472   \n",
       "14196          8.1 2011-10-06 23:31:04+00:00        -73.999400   \n",
       "14308          8.1 2011-11-11 12:03:38+00:00          0.000000   \n",
       "14872          3.3 2011-03-02 19:25:46+00:00        -73.948553   \n",
       "15286          4.9 2012-03-20 22:23:34+00:00        -73.971808   \n",
       "15514          6.5 2012-02-12 02:03:50+00:00        -73.999342   \n",
       "15554          6.5 2011-08-03 08:31:19+00:00        -73.991700   \n",
       "15919         16.5 2011-10-17 08:58:54+00:00          0.000000   \n",
       "\n",
       "       pickup_latitude  dropoff_longitude  dropoff_latitude  passenger_count  \n",
       "314          40.751095         -73.908546         40.881878             0.00  \n",
       "566          40.782840         -73.955797         40.773673             0.00  \n",
       "678          40.738183         -73.971395         40.758023             0.00  \n",
       "1160         40.740348         -73.946455         40.777348             0.00  \n",
       "1935         40.795000         -73.967900         40.768600             0.00  \n",
       "2200         40.748303         -74.005185         40.738733             0.00  \n",
       "2425         40.738600         -73.971800         40.746300             0.00  \n",
       "3034         40.745783         -73.994545         40.729995             0.00  \n",
       "3413         40.743708         -73.985220         40.741583             0.00  \n",
       "3481         40.762500         -73.984400         40.760900             0.00  \n",
       "3489         40.794500         -73.960300         40.779800             0.00  \n",
       "3599         40.746145         -74.005580         40.724402             0.00  \n",
       "4114         40.760800         -73.990200         40.760000             0.00  \n",
       "4248         40.721073         -73.992240         40.725313             0.00  \n",
       "4344         40.646622         -73.725032         40.614140             0.00  \n",
       "4354         40.767500         -73.981600         40.774000             0.00  \n",
       "5058         40.709400         -73.985400         40.756200             0.00  \n",
       "5150         40.675300         -74.010400         40.655200             0.00  \n",
       "5161         40.775800         -73.985300         40.741300             0.00  \n",
       "5277         40.772417         -73.968860         40.761147             0.00  \n",
       "5517         40.743862         -74.003337         40.748877             0.00  \n",
       "5557         40.773948         -74.010205         40.711158             0.00  \n",
       "5688         40.761300         -73.982300         40.773900             0.00  \n",
       "5914         40.755900         -73.955600         40.769600             0.00  \n",
       "6036         40.775708         -73.972785         40.764467             0.00  \n",
       "6575         40.807213         -73.970875         40.797955             0.00  \n",
       "6713         40.766463         -73.997523         40.744878             0.00  \n",
       "6881         40.781000         -73.950300         40.775400             0.00  \n",
       "7279         40.722645         -73.971108         40.760172             0.00  \n",
       "7520         40.755200         -73.980000         40.765900             0.00  \n",
       "7640         40.725002         -73.973262         40.763290             0.00  \n",
       "7909         40.759865         -73.955718         40.772732             0.00  \n",
       "8321         40.742108         -73.988270         40.759308             0.00  \n",
       "8661         40.721800         -74.005600         40.741100             0.00  \n",
       "8862         40.753017         -73.998580         40.712927             0.12  \n",
       "8916         40.648600         -73.783300         40.648600             0.00  \n",
       "8971         40.761000         -73.977900         40.777200             0.00  \n",
       "9159         40.729200         -73.994000         40.732100             0.00  \n",
       "9965         40.754900         -74.004500         40.736100             0.00  \n",
       "10642        40.754037         -73.994090         40.734440             0.00  \n",
       "10663        40.789362         -73.942252         40.754120             0.00  \n",
       "10711        40.724073         -74.006453         40.738420             0.00  \n",
       "11462        40.750400         -73.959200         40.710600             0.00  \n",
       "11803        40.724800         -73.980600         40.754900             0.00  \n",
       "12216        40.756338         -73.980987         40.745442             0.00  \n",
       "12611        40.752300         -73.991800         40.763900             0.00  \n",
       "13029        40.770408         -73.980057         40.762155             0.00  \n",
       "13227        40.722078         -73.989495         40.747422             0.00  \n",
       "13379        40.771577         -73.945595         40.778032             0.00  \n",
       "13714        40.731100         -73.981500         40.724800             0.00  \n",
       "13742        40.702140         -73.959185         40.783245             0.00  \n",
       "14196        40.743800         -73.990400         40.724800             0.00  \n",
       "14308         0.000000         -73.990000         40.755400             0.00  \n",
       "14872        40.773972         -73.945098         40.778413             0.00  \n",
       "15286        40.760143         -73.962027         40.767677             0.00  \n",
       "15514        40.718872         -73.984112         40.725242             0.00  \n",
       "15554        40.750100         -73.981000         40.750900             0.00  \n",
       "15919         0.000000         -73.999700         40.734500             0.00  "
      ]
     },
     "execution_count": 5,
     "metadata": {},
     "output_type": "execute_result"
    }
   ],
   "source": [
    "train[train['passenger_count']<1]"
   ]
  },
  {
   "cell_type": "code",
   "execution_count": 6,
   "metadata": {},
   "outputs": [
    {
     "data": {
      "text/plain": [
       "58"
      ]
     },
     "execution_count": 6,
     "metadata": {},
     "output_type": "execute_result"
    }
   ],
   "source": [
    "len(train[train['passenger_count']<1])"
   ]
  },
  {
   "cell_type": "code",
   "execution_count": 84,
   "metadata": {},
   "outputs": [
    {
     "data": {
      "text/plain": [
       "array([1, 2, 3, 4, 5, 6], dtype=int64)"
      ]
     },
     "execution_count": 84,
     "metadata": {},
     "output_type": "execute_result"
    }
   ],
   "source": [
    "test['passenger_count'].unique()"
   ]
  },
  {
   "cell_type": "markdown",
   "metadata": {},
   "source": [
    "-  As you see there are some missing values in passenger_count variable and values which are equal to 0.\n",
    "-  And test data does not contain passenger_count=0 . So if we feature engineer passenger_count of train dataset then it will create a dummy variable for passenger_count=0 which will be an extra feature compared to test dataset.\n",
    "-  So, we will remove those 0 values.\n",
    "-  Also, We will remove 20 observation which are above 6 value because a cab cannot hold these number of passengers."
   ]
  },
  {
   "cell_type": "code",
   "execution_count": 121,
   "metadata": {
    "scrolled": true
   },
   "outputs": [],
   "source": [
    "train = train.drop(train[train['passenger_count']>6].index, axis=0)\n",
    "train = train.drop(train[train['passenger_count']<1].index, axis=0)"
   ]
  },
  {
   "cell_type": "code",
   "execution_count": 31,
   "metadata": {},
   "outputs": [],
   "source": [
    "# train.loc[train['passenger_count'] >6,'passenger_count'] = np.nan\n",
    "# train.loc[train['passenger_count'] >1,'passenger_count'] = np.nan"
   ]
  },
  {
   "cell_type": "code",
   "execution_count": 89,
   "metadata": {
    "scrolled": true
   },
   "outputs": [
    {
     "data": {
      "text/plain": [
       "0"
      ]
     },
     "execution_count": 89,
     "metadata": {},
     "output_type": "execute_result"
    }
   ],
   "source": [
    "sum(train['passenger_count']>6)"
   ]
  },
  {
   "cell_type": "markdown",
   "metadata": {},
   "source": [
    "3.Latitudes range from -90 to 90.Longitudes range from -180 to 180.\n",
    "  Removing which does not satisfy these ranges"
   ]
  },
  {
   "cell_type": "code",
   "execution_count": 10,
   "metadata": {
    "scrolled": true
   },
   "outputs": [
    {
     "name": "stdout",
     "output_type": "stream",
     "text": [
      "pickup_longitude above 180=0\n",
      "pickup_longitude below -180=0\n",
      "pickup_latitude above 90=1\n",
      "pickup_latitude below -90=0\n",
      "dropoff_longitude above 180=0\n",
      "dropoff_longitude below -180=0\n",
      "dropoff_latitude below -90=0\n",
      "dropoff_latitude above 90=0\n"
     ]
    }
   ],
   "source": [
    "print('pickup_longitude above 180={}'.format(sum(train['pickup_longitude']>180)))\n",
    "print('pickup_longitude below -180={}'.format(sum(train['pickup_longitude']<-180)))\n",
    "print('pickup_latitude above 90={}'.format(sum(train['pickup_latitude']>90)))\n",
    "print('pickup_latitude below -90={}'.format(sum(train['pickup_latitude']<-90)))\n",
    "print('dropoff_longitude above 180={}'.format(sum(train['dropoff_longitude']>180)))\n",
    "print('dropoff_longitude below -180={}'.format(sum(train['dropoff_longitude']<-180)))\n",
    "print('dropoff_latitude below -90={}'.format(sum(train['dropoff_latitude']<-90)))\n",
    "print('dropoff_latitude above 90={}'.format(sum(train['dropoff_latitude']>90)))"
   ]
  },
  {
   "cell_type": "markdown",
   "metadata": {},
   "source": [
    "-  There's only one outlier which is in variable pickup_latitude.So we will remove it with nan.\n",
    "-  Also we will see if there are any values equal to 0."
   ]
  },
  {
   "cell_type": "code",
   "execution_count": 11,
   "metadata": {
    "scrolled": true
   },
   "outputs": [
    {
     "name": "stdout",
     "output_type": "stream",
     "text": [
      "pickup_longitude equal to 0=315\n",
      "pickup_latitude equal to 0=315\n",
      "dropoff_longitude equal to 0=314\n",
      "dropoff_latitude equal to 0=312\n"
     ]
    }
   ],
   "source": [
    "for i in ['pickup_longitude','pickup_latitude','dropoff_longitude','dropoff_latitude']:\n",
    "    print(i,'equal to 0={}'.format(sum(train[i]==0)))"
   ]
  },
  {
   "cell_type": "markdown",
   "metadata": {},
   "source": [
    "there are values which are equal to 0. we will remove them."
   ]
  },
  {
   "cell_type": "code",
   "execution_count": 122,
   "metadata": {},
   "outputs": [],
   "source": [
    "train = train.drop(train[train['pickup_latitude']>90].index, axis=0)\n",
    "for i in ['pickup_longitude','pickup_latitude','dropoff_longitude','dropoff_latitude']:\n",
    "    train = train.drop(train[train[i]==0].index, axis=0)"
   ]
  },
  {
   "cell_type": "code",
   "execution_count": 22,
   "metadata": {},
   "outputs": [],
   "source": [
    "# for i in ['pickup_longitude','pickup_latitude','dropoff_longitude','dropoff_latitude']:\n",
    "#     train.loc[train[i]==0,i] = np.nan\n",
    "# train.loc[train['pickup_latitude']>90,'pickup_latitude'] = np.nan"
   ]
  },
  {
   "cell_type": "code",
   "execution_count": 12,
   "metadata": {
    "scrolled": false
   },
   "outputs": [
    {
     "data": {
      "text/plain": [
       "(15661, 7)"
      ]
     },
     "execution_count": 12,
     "metadata": {},
     "output_type": "execute_result"
    }
   ],
   "source": [
    "train.shape"
   ]
  },
  {
   "cell_type": "markdown",
   "metadata": {},
   "source": [
    "So, we lossed 16067-15661=406 observations because of non-sensical values."
   ]
  },
  {
   "cell_type": "code",
   "execution_count": 123,
   "metadata": {},
   "outputs": [],
   "source": [
    "df=train.copy()\n",
    "# train=df.copy()"
   ]
  },
  {
   "cell_type": "markdown",
   "metadata": {},
   "source": [
    "## Missing Value Analysis "
   ]
  },
  {
   "cell_type": "code",
   "execution_count": 8,
   "metadata": {
    "scrolled": false
   },
   "outputs": [
    {
     "data": {
      "text/html": [
       "<div>\n",
       "<style scoped>\n",
       "    .dataframe tbody tr th:only-of-type {\n",
       "        vertical-align: middle;\n",
       "    }\n",
       "\n",
       "    .dataframe tbody tr th {\n",
       "        vertical-align: top;\n",
       "    }\n",
       "\n",
       "    .dataframe thead th {\n",
       "        text-align: right;\n",
       "    }\n",
       "</style>\n",
       "<table border=\"1\" class=\"dataframe\">\n",
       "  <thead>\n",
       "    <tr style=\"text-align: right;\">\n",
       "      <th></th>\n",
       "      <th>index</th>\n",
       "      <th>0</th>\n",
       "    </tr>\n",
       "  </thead>\n",
       "  <tbody>\n",
       "    <tr>\n",
       "      <th>0</th>\n",
       "      <td>fare_amount</td>\n",
       "      <td>22</td>\n",
       "    </tr>\n",
       "    <tr>\n",
       "      <th>1</th>\n",
       "      <td>pickup_datetime</td>\n",
       "      <td>1</td>\n",
       "    </tr>\n",
       "    <tr>\n",
       "      <th>2</th>\n",
       "      <td>pickup_longitude</td>\n",
       "      <td>0</td>\n",
       "    </tr>\n",
       "    <tr>\n",
       "      <th>3</th>\n",
       "      <td>pickup_latitude</td>\n",
       "      <td>0</td>\n",
       "    </tr>\n",
       "    <tr>\n",
       "      <th>4</th>\n",
       "      <td>dropoff_longitude</td>\n",
       "      <td>0</td>\n",
       "    </tr>\n",
       "    <tr>\n",
       "      <th>5</th>\n",
       "      <td>dropoff_latitude</td>\n",
       "      <td>0</td>\n",
       "    </tr>\n",
       "    <tr>\n",
       "      <th>6</th>\n",
       "      <td>passenger_count</td>\n",
       "      <td>55</td>\n",
       "    </tr>\n",
       "  </tbody>\n",
       "</table>\n",
       "</div>"
      ],
      "text/plain": [
       "               index   0\n",
       "0        fare_amount  22\n",
       "1    pickup_datetime   1\n",
       "2   pickup_longitude   0\n",
       "3    pickup_latitude   0\n",
       "4  dropoff_longitude   0\n",
       "5   dropoff_latitude   0\n",
       "6    passenger_count  55"
      ]
     },
     "execution_count": 8,
     "metadata": {},
     "output_type": "execute_result"
    }
   ],
   "source": [
    "#Create dataframe with missing percentage\n",
    "missing_val = pd.DataFrame(train.isnull().sum())\n",
    "#Reset index\n",
    "missing_val = missing_val.reset_index()\n",
    "missing_val"
   ]
  },
  {
   "cell_type": "markdown",
   "metadata": {},
   "source": [
    "-  As we can see there are some missing values in the data.\n",
    "-  Also pickup_datetime variable has 1 missing value. \n",
    "-  We will impute missing values for fare_amount,passenger_count variables except pickup_datetime.\n",
    "-  And we will drop that 1 row which has missing value in pickup_datetime."
   ]
  },
  {
   "cell_type": "code",
   "execution_count": 9,
   "metadata": {},
   "outputs": [
    {
     "data": {
      "text/html": [
       "<div>\n",
       "<style scoped>\n",
       "    .dataframe tbody tr th:only-of-type {\n",
       "        vertical-align: middle;\n",
       "    }\n",
       "\n",
       "    .dataframe tbody tr th {\n",
       "        vertical-align: top;\n",
       "    }\n",
       "\n",
       "    .dataframe thead th {\n",
       "        text-align: right;\n",
       "    }\n",
       "</style>\n",
       "<table border=\"1\" class=\"dataframe\">\n",
       "  <thead>\n",
       "    <tr style=\"text-align: right;\">\n",
       "      <th></th>\n",
       "      <th>Variables</th>\n",
       "      <th>Missing_percentage</th>\n",
       "    </tr>\n",
       "  </thead>\n",
       "  <tbody>\n",
       "    <tr>\n",
       "      <th>0</th>\n",
       "      <td>passenger_count</td>\n",
       "      <td>0.351191</td>\n",
       "    </tr>\n",
       "    <tr>\n",
       "      <th>1</th>\n",
       "      <td>fare_amount</td>\n",
       "      <td>0.140476</td>\n",
       "    </tr>\n",
       "    <tr>\n",
       "      <th>2</th>\n",
       "      <td>pickup_datetime</td>\n",
       "      <td>0.006385</td>\n",
       "    </tr>\n",
       "    <tr>\n",
       "      <th>3</th>\n",
       "      <td>pickup_longitude</td>\n",
       "      <td>0.000000</td>\n",
       "    </tr>\n",
       "    <tr>\n",
       "      <th>4</th>\n",
       "      <td>pickup_latitude</td>\n",
       "      <td>0.000000</td>\n",
       "    </tr>\n",
       "    <tr>\n",
       "      <th>5</th>\n",
       "      <td>dropoff_longitude</td>\n",
       "      <td>0.000000</td>\n",
       "    </tr>\n",
       "    <tr>\n",
       "      <th>6</th>\n",
       "      <td>dropoff_latitude</td>\n",
       "      <td>0.000000</td>\n",
       "    </tr>\n",
       "  </tbody>\n",
       "</table>\n",
       "</div>"
      ],
      "text/plain": [
       "           Variables  Missing_percentage\n",
       "0    passenger_count            0.351191\n",
       "1        fare_amount            0.140476\n",
       "2    pickup_datetime            0.006385\n",
       "3   pickup_longitude            0.000000\n",
       "4    pickup_latitude            0.000000\n",
       "5  dropoff_longitude            0.000000\n",
       "6   dropoff_latitude            0.000000"
      ]
     },
     "execution_count": 9,
     "metadata": {},
     "output_type": "execute_result"
    }
   ],
   "source": [
    "#Rename variable\n",
    "missing_val = missing_val.rename(columns = {'index': 'Variables', 0: 'Missing_percentage'})\n",
    "missing_val\n",
    "#Calculate percentage\n",
    "missing_val['Missing_percentage'] = (missing_val['Missing_percentage']/len(train))*100\n",
    "#descending order\n",
    "missing_val = missing_val.sort_values('Missing_percentage', ascending = False).reset_index(drop = True)\n",
    "missing_val"
   ]
  },
  {
   "cell_type": "markdown",
   "metadata": {},
   "source": [
    "1.For Passenger_count:\n",
    "-  Actual value = 1\n",
    "-  Mode = 1\n",
    "-  KNN = 2"
   ]
  },
  {
   "cell_type": "code",
   "execution_count": 97,
   "metadata": {
    "scrolled": true
   },
   "outputs": [
    {
     "data": {
      "text/plain": [
       "1.0"
      ]
     },
     "execution_count": 97,
     "metadata": {},
     "output_type": "execute_result"
    }
   ],
   "source": [
    "# Choosing a random values to replace it as NA\n",
    "train['passenger_count'].loc[1000]"
   ]
  },
  {
   "cell_type": "code",
   "execution_count": 98,
   "metadata": {
    "scrolled": true
   },
   "outputs": [
    {
     "data": {
      "text/plain": [
       "nan"
      ]
     },
     "execution_count": 98,
     "metadata": {},
     "output_type": "execute_result"
    }
   ],
   "source": [
    "# Replacing 1.0 with NA\n",
    "train['passenger_count'].loc[1000] = np.nan\n",
    "train['passenger_count'].loc[1000]"
   ]
  },
  {
   "cell_type": "code",
   "execution_count": 99,
   "metadata": {},
   "outputs": [
    {
     "data": {
      "text/plain": [
       "1.0"
      ]
     },
     "execution_count": 99,
     "metadata": {},
     "output_type": "execute_result"
    }
   ],
   "source": [
    "# Impute with mode\n",
    "train['passenger_count'].fillna(train['passenger_count'].mode()[0]).loc[1000]"
   ]
  },
  {
   "cell_type": "markdown",
   "metadata": {},
   "source": [
    "We can't use mode method because data will be more biased towards passenger_count=1"
   ]
  },
  {
   "cell_type": "markdown",
   "metadata": {},
   "source": [
    "2.For fare_amount: \n",
    "-  Actual value = 7.0,\n",
    "-  Mean = 15.117,\n",
    "-  Median = 8.5,\n",
    "-  KNN = 7.369801"
   ]
  },
  {
   "cell_type": "code",
   "execution_count": 100,
   "metadata": {
    "scrolled": true
   },
   "outputs": [],
   "source": [
    "# for i in ['fare_amount','pickup_longitude','pickup_latitude','dropoff_longitude','dropoff_latitude']:\n",
    "#     # Choosing a random values to replace it as NA\n",
    "#     a=train[i].loc[1000]\n",
    "#     print(i,'at loc-1000:{}'.format(a))\n",
    "#     # Replacing 1.0 with NA\n",
    "#     train[i].loc[1000] = np.nan\n",
    "#     print('Value after replacing with nan:{}'.format(train[i].loc[1000]))\n",
    "#     # Impute with mean\n",
    "#     print('Value if imputed with mean:{}'.format(train[i].fillna(train[i].mean()).loc[1000]))\n",
    "#     # Impute with median\n",
    "#     print('Value if imputed with median:{}\\n'.format(train[i].fillna(train[i].median()).loc[1000]))"
   ]
  },
  {
   "cell_type": "code",
   "execution_count": 101,
   "metadata": {},
   "outputs": [
    {
     "name": "stdout",
     "output_type": "stream",
     "text": [
      "fare_amount at loc-1000:7.0\n",
      "Value after replacing with nan:nan\n",
      "Value if imputed with mean:15.117964703625402\n",
      "Value if imputed with median:8.5\n"
     ]
    }
   ],
   "source": [
    "# Choosing a random values to replace it as NA\n",
    "a=train['fare_amount'].loc[1000]\n",
    "print('fare_amount at loc-1000:{}'.format(a))\n",
    "# Replacing 1.0 with NA\n",
    "train['fare_amount'].loc[1000] = np.nan\n",
    "print('Value after replacing with nan:{}'.format(train['fare_amount'].loc[1000]))\n",
    "# Impute with mean\n",
    "print('Value if imputed with mean:{}'.format(train['fare_amount'].fillna(train['fare_amount'].mean()).loc[1000]))\n",
    "# Impute with median\n",
    "print('Value if imputed with median:{}'.format(train['fare_amount'].fillna(train['fare_amount'].median()).loc[1000]))"
   ]
  },
  {
   "cell_type": "code",
   "execution_count": 102,
   "metadata": {},
   "outputs": [
    {
     "data": {
      "text/plain": [
       "fare_amount          435.968232\n",
       "pickup_longitude       2.658966\n",
       "pickup_latitude        2.613222\n",
       "dropoff_longitude      2.710749\n",
       "dropoff_latitude       2.632316\n",
       "passenger_count        1.266115\n",
       "dtype: float64"
      ]
     },
     "execution_count": 102,
     "metadata": {},
     "output_type": "execute_result"
    }
   ],
   "source": [
    "train.std()"
   ]
  },
  {
   "cell_type": "code",
   "execution_count": 124,
   "metadata": {},
   "outputs": [],
   "source": [
    "columns=['fare_amount', 'pickup_longitude', 'pickup_latitude','dropoff_longitude', 'dropoff_latitude', 'passenger_count']"
   ]
  },
  {
   "cell_type": "markdown",
   "metadata": {},
   "source": [
    "we will separate pickup_datetime into a different dataframe and then merge with train in feature engineering step."
   ]
  },
  {
   "cell_type": "code",
   "execution_count": 125,
   "metadata": {},
   "outputs": [],
   "source": [
    "pickup_datetime=pd.DataFrame(train['pickup_datetime'])"
   ]
  },
  {
   "cell_type": "code",
   "execution_count": 126,
   "metadata": {
    "scrolled": true
   },
   "outputs": [
    {
     "name": "stdout",
     "output_type": "stream",
     "text": [
      "Imputing row 1/15661 with 0 missing, elapsed time: 56.947\n",
      "Imputing row 101/15661 with 0 missing, elapsed time: 62.249\n",
      "Imputing row 201/15661 with 0 missing, elapsed time: 62.252\n",
      "Imputing row 301/15661 with 0 missing, elapsed time: 62.253\n",
      "Imputing row 401/15661 with 0 missing, elapsed time: 62.253\n",
      "Imputing row 501/15661 with 0 missing, elapsed time: 62.254\n",
      "Imputing row 601/15661 with 0 missing, elapsed time: 62.256\n",
      "Imputing row 701/15661 with 0 missing, elapsed time: 62.257\n",
      "Imputing row 801/15661 with 0 missing, elapsed time: 62.258\n",
      "Imputing row 901/15661 with 0 missing, elapsed time: 62.260\n",
      "Imputing row 1001/15661 with 0 missing, elapsed time: 62.260\n",
      "Imputing row 1101/15661 with 0 missing, elapsed time: 62.261\n",
      "Imputing row 1201/15661 with 0 missing, elapsed time: 62.262\n",
      "Imputing row 1301/15661 with 0 missing, elapsed time: 62.262\n",
      "Imputing row 1401/15661 with 0 missing, elapsed time: 62.263\n",
      "Imputing row 1501/15661 with 0 missing, elapsed time: 62.264\n",
      "Imputing row 1601/15661 with 0 missing, elapsed time: 62.265\n",
      "Imputing row 1701/15661 with 0 missing, elapsed time: 62.266\n",
      "Imputing row 1801/15661 with 0 missing, elapsed time: 62.267\n",
      "Imputing row 1901/15661 with 0 missing, elapsed time: 62.267\n",
      "Imputing row 2001/15661 with 0 missing, elapsed time: 62.268\n",
      "Imputing row 2101/15661 with 0 missing, elapsed time: 62.269\n",
      "Imputing row 2201/15661 with 0 missing, elapsed time: 62.269\n",
      "Imputing row 2301/15661 with 0 missing, elapsed time: 62.270\n",
      "Imputing row 2401/15661 with 0 missing, elapsed time: 62.271\n",
      "Imputing row 2501/15661 with 0 missing, elapsed time: 62.271\n",
      "Imputing row 2601/15661 with 0 missing, elapsed time: 62.271\n",
      "Imputing row 2701/15661 with 0 missing, elapsed time: 62.271\n",
      "Imputing row 2801/15661 with 0 missing, elapsed time: 62.272\n",
      "Imputing row 2901/15661 with 0 missing, elapsed time: 62.272\n",
      "Imputing row 3001/15661 with 0 missing, elapsed time: 62.272\n",
      "Imputing row 3101/15661 with 0 missing, elapsed time: 62.272\n",
      "Imputing row 3201/15661 with 0 missing, elapsed time: 62.273\n",
      "Imputing row 3301/15661 with 0 missing, elapsed time: 62.273\n",
      "Imputing row 3401/15661 with 0 missing, elapsed time: 62.273\n",
      "Imputing row 3501/15661 with 0 missing, elapsed time: 62.273\n",
      "Imputing row 3601/15661 with 0 missing, elapsed time: 62.274\n",
      "Imputing row 3701/15661 with 0 missing, elapsed time: 62.274\n",
      "Imputing row 3801/15661 with 0 missing, elapsed time: 62.274\n",
      "Imputing row 3901/15661 with 0 missing, elapsed time: 62.274\n",
      "Imputing row 4001/15661 with 0 missing, elapsed time: 62.274\n",
      "Imputing row 4101/15661 with 0 missing, elapsed time: 62.275\n",
      "Imputing row 4201/15661 with 0 missing, elapsed time: 62.275\n",
      "Imputing row 4301/15661 with 0 missing, elapsed time: 62.275\n",
      "Imputing row 4401/15661 with 0 missing, elapsed time: 62.275\n",
      "Imputing row 4501/15661 with 0 missing, elapsed time: 62.276\n",
      "Imputing row 4601/15661 with 0 missing, elapsed time: 62.276\n",
      "Imputing row 4701/15661 with 0 missing, elapsed time: 62.276\n",
      "Imputing row 4801/15661 with 0 missing, elapsed time: 62.276\n",
      "Imputing row 4901/15661 with 0 missing, elapsed time: 62.277\n",
      "Imputing row 5001/15661 with 0 missing, elapsed time: 62.277\n",
      "Imputing row 5101/15661 with 0 missing, elapsed time: 62.277\n",
      "Imputing row 5201/15661 with 0 missing, elapsed time: 62.277\n",
      "Imputing row 5301/15661 with 0 missing, elapsed time: 62.278\n",
      "Imputing row 5401/15661 with 0 missing, elapsed time: 62.278\n",
      "Imputing row 5501/15661 with 0 missing, elapsed time: 62.278\n",
      "Imputing row 5601/15661 with 0 missing, elapsed time: 62.278\n",
      "Imputing row 5701/15661 with 0 missing, elapsed time: 62.279\n",
      "Imputing row 5801/15661 with 0 missing, elapsed time: 62.279\n",
      "Imputing row 5901/15661 with 0 missing, elapsed time: 62.280\n",
      "Imputing row 6001/15661 with 0 missing, elapsed time: 62.281\n",
      "Imputing row 6101/15661 with 0 missing, elapsed time: 62.281\n",
      "Imputing row 6201/15661 with 0 missing, elapsed time: 62.281\n",
      "Imputing row 6301/15661 with 0 missing, elapsed time: 62.282\n",
      "Imputing row 6401/15661 with 0 missing, elapsed time: 62.283\n",
      "Imputing row 6501/15661 with 0 missing, elapsed time: 62.283\n",
      "Imputing row 6601/15661 with 0 missing, elapsed time: 62.283\n",
      "Imputing row 6701/15661 with 0 missing, elapsed time: 62.284\n",
      "Imputing row 6801/15661 with 0 missing, elapsed time: 62.284\n",
      "Imputing row 6901/15661 with 0 missing, elapsed time: 62.284\n",
      "Imputing row 7001/15661 with 0 missing, elapsed time: 62.284\n",
      "Imputing row 7101/15661 with 0 missing, elapsed time: 62.285\n",
      "Imputing row 7201/15661 with 0 missing, elapsed time: 62.285\n",
      "Imputing row 7301/15661 with 0 missing, elapsed time: 62.286\n",
      "Imputing row 7401/15661 with 0 missing, elapsed time: 62.286\n",
      "Imputing row 7501/15661 with 0 missing, elapsed time: 62.286\n",
      "Imputing row 7601/15661 with 0 missing, elapsed time: 62.287\n",
      "Imputing row 7701/15661 with 0 missing, elapsed time: 62.289\n",
      "Imputing row 7801/15661 with 0 missing, elapsed time: 62.289\n",
      "Imputing row 7901/15661 with 0 missing, elapsed time: 62.290\n",
      "Imputing row 8001/15661 with 0 missing, elapsed time: 62.291\n",
      "Imputing row 8101/15661 with 0 missing, elapsed time: 62.292\n",
      "Imputing row 8201/15661 with 0 missing, elapsed time: 62.293\n",
      "Imputing row 8301/15661 with 0 missing, elapsed time: 62.293\n",
      "Imputing row 8401/15661 with 0 missing, elapsed time: 62.293\n",
      "Imputing row 8501/15661 with 0 missing, elapsed time: 62.293\n",
      "Imputing row 8601/15661 with 0 missing, elapsed time: 62.294\n",
      "Imputing row 8701/15661 with 0 missing, elapsed time: 62.294\n",
      "Imputing row 8801/15661 with 0 missing, elapsed time: 62.294\n",
      "Imputing row 8901/15661 with 0 missing, elapsed time: 62.294\n",
      "Imputing row 9001/15661 with 0 missing, elapsed time: 62.295\n",
      "Imputing row 9101/15661 with 0 missing, elapsed time: 62.295\n",
      "Imputing row 9201/15661 with 0 missing, elapsed time: 62.295\n",
      "Imputing row 9301/15661 with 0 missing, elapsed time: 62.295\n",
      "Imputing row 9401/15661 with 0 missing, elapsed time: 62.296\n",
      "Imputing row 9501/15661 with 0 missing, elapsed time: 62.296\n",
      "Imputing row 9601/15661 with 0 missing, elapsed time: 62.296\n",
      "Imputing row 9701/15661 with 0 missing, elapsed time: 62.297\n",
      "Imputing row 9801/15661 with 0 missing, elapsed time: 62.297\n",
      "Imputing row 9901/15661 with 0 missing, elapsed time: 62.297\n",
      "Imputing row 10001/15661 with 0 missing, elapsed time: 62.297\n",
      "Imputing row 10101/15661 with 0 missing, elapsed time: 62.298\n",
      "Imputing row 10201/15661 with 0 missing, elapsed time: 62.299\n",
      "Imputing row 10301/15661 with 0 missing, elapsed time: 62.300\n",
      "Imputing row 10401/15661 with 0 missing, elapsed time: 62.300\n",
      "Imputing row 10501/15661 with 0 missing, elapsed time: 62.300\n",
      "Imputing row 10601/15661 with 0 missing, elapsed time: 62.301\n",
      "Imputing row 10701/15661 with 0 missing, elapsed time: 62.301\n",
      "Imputing row 10801/15661 with 0 missing, elapsed time: 62.302\n",
      "Imputing row 10901/15661 with 0 missing, elapsed time: 62.302\n",
      "Imputing row 11001/15661 with 0 missing, elapsed time: 62.302\n",
      "Imputing row 11101/15661 with 0 missing, elapsed time: 62.302\n",
      "Imputing row 11201/15661 with 0 missing, elapsed time: 62.303\n",
      "Imputing row 11301/15661 with 0 missing, elapsed time: 62.303\n",
      "Imputing row 11401/15661 with 0 missing, elapsed time: 62.304\n",
      "Imputing row 11501/15661 with 0 missing, elapsed time: 62.304\n",
      "Imputing row 11601/15661 with 0 missing, elapsed time: 62.304\n",
      "Imputing row 11701/15661 with 0 missing, elapsed time: 62.304\n",
      "Imputing row 11801/15661 with 0 missing, elapsed time: 62.305\n",
      "Imputing row 11901/15661 with 0 missing, elapsed time: 62.305\n",
      "Imputing row 12001/15661 with 0 missing, elapsed time: 62.305\n",
      "Imputing row 12101/15661 with 0 missing, elapsed time: 62.305\n",
      "Imputing row 12201/15661 with 0 missing, elapsed time: 62.306\n",
      "Imputing row 12301/15661 with 0 missing, elapsed time: 62.306\n",
      "Imputing row 12401/15661 with 0 missing, elapsed time: 62.307\n",
      "Imputing row 12501/15661 with 0 missing, elapsed time: 62.307\n",
      "Imputing row 12601/15661 with 0 missing, elapsed time: 62.307\n",
      "Imputing row 12701/15661 with 0 missing, elapsed time: 62.308\n",
      "Imputing row 12801/15661 with 0 missing, elapsed time: 62.308\n",
      "Imputing row 12901/15661 with 0 missing, elapsed time: 62.308\n",
      "Imputing row 13001/15661 with 0 missing, elapsed time: 62.309\n",
      "Imputing row 13101/15661 with 0 missing, elapsed time: 62.309\n",
      "Imputing row 13201/15661 with 0 missing, elapsed time: 62.309\n",
      "Imputing row 13301/15661 with 0 missing, elapsed time: 62.309\n",
      "Imputing row 13401/15661 with 0 missing, elapsed time: 62.310\n",
      "Imputing row 13501/15661 with 0 missing, elapsed time: 62.310\n",
      "Imputing row 13601/15661 with 0 missing, elapsed time: 62.310\n",
      "Imputing row 13701/15661 with 0 missing, elapsed time: 62.310\n",
      "Imputing row 13801/15661 with 0 missing, elapsed time: 62.311\n",
      "Imputing row 13901/15661 with 0 missing, elapsed time: 62.311\n",
      "Imputing row 14001/15661 with 0 missing, elapsed time: 62.311\n",
      "Imputing row 14101/15661 with 0 missing, elapsed time: 62.311\n",
      "Imputing row 14201/15661 with 0 missing, elapsed time: 62.312\n",
      "Imputing row 14301/15661 with 0 missing, elapsed time: 62.312\n",
      "Imputing row 14401/15661 with 0 missing, elapsed time: 62.312\n",
      "Imputing row 14501/15661 with 0 missing, elapsed time: 62.312\n",
      "Imputing row 14601/15661 with 0 missing, elapsed time: 62.313\n",
      "Imputing row 14701/15661 with 0 missing, elapsed time: 62.313\n",
      "Imputing row 14801/15661 with 0 missing, elapsed time: 62.313\n",
      "Imputing row 14901/15661 with 0 missing, elapsed time: 62.314\n",
      "Imputing row 15001/15661 with 0 missing, elapsed time: 62.314\n",
      "Imputing row 15101/15661 with 0 missing, elapsed time: 62.314\n",
      "Imputing row 15201/15661 with 0 missing, elapsed time: 62.314\n",
      "Imputing row 15301/15661 with 0 missing, elapsed time: 62.315\n",
      "Imputing row 15401/15661 with 0 missing, elapsed time: 62.315\n",
      "Imputing row 15501/15661 with 0 missing, elapsed time: 62.315\n",
      "Imputing row 15601/15661 with 0 missing, elapsed time: 62.315\n"
     ]
    }
   ],
   "source": [
    "# Imputing with missing values using KNN\n",
    "# Use 19 nearest rows which have a feature to fill in each row's missing features\n",
    "train = pd.DataFrame(KNN(k = 19).fit_transform(train.drop('pickup_datetime',axis=1)),columns=columns, index=train.index)"
   ]
  },
  {
   "cell_type": "code",
   "execution_count": 11,
   "metadata": {},
   "outputs": [
    {
     "data": {
      "text/plain": [
       "fare_amount          435.661995\n",
       "pickup_longitude       2.659050\n",
       "pickup_latitude        2.613305\n",
       "dropoff_longitude      2.710835\n",
       "dropoff_latitude       2.632400\n",
       "passenger_count        1.264129\n",
       "dtype: float64"
      ]
     },
     "execution_count": 11,
     "metadata": {},
     "output_type": "execute_result"
    }
   ],
   "source": [
    "train.std()"
   ]
  },
  {
   "cell_type": "code",
   "execution_count": 12,
   "metadata": {
    "scrolled": false
   },
   "outputs": [
    {
     "data": {
      "text/plain": [
       "fare_amount           7.000000\n",
       "pickup_longitude    -73.995420\n",
       "pickup_latitude      40.759662\n",
       "dropoff_longitude   -73.987607\n",
       "dropoff_latitude     40.751247\n",
       "passenger_count       1.000000\n",
       "Name: 1000, dtype: float64"
      ]
     },
     "execution_count": 12,
     "metadata": {},
     "output_type": "execute_result"
    }
   ],
   "source": [
    "train.loc[1000]"
   ]
  },
  {
   "cell_type": "code",
   "execution_count": 30,
   "metadata": {},
   "outputs": [
    {
     "data": {
      "text/plain": [
       "0    1.0\n",
       "1    1.0\n",
       "2    2.0\n",
       "3    1.0\n",
       "4    1.0\n",
       "Name: passenger_count, dtype: float64"
      ]
     },
     "execution_count": 30,
     "metadata": {},
     "output_type": "execute_result"
    }
   ],
   "source": [
    "train['passenger_count'].head()"
   ]
  },
  {
   "cell_type": "code",
   "execution_count": 71,
   "metadata": {},
   "outputs": [],
   "source": [
    "train['passenger_count']=train['passenger_count'].astype('int')"
   ]
  },
  {
   "cell_type": "code",
   "execution_count": 32,
   "metadata": {},
   "outputs": [
    {
     "data": {
      "text/plain": [
       "fare_amount          431.240841\n",
       "pickup_longitude       2.633492\n",
       "pickup_latitude        2.587517\n",
       "dropoff_longitude      2.684717\n",
       "dropoff_latitude       2.606464\n",
       "passenger_count        1.264446\n",
       "dtype: float64"
      ]
     },
     "execution_count": 32,
     "metadata": {},
     "output_type": "execute_result"
    }
   ],
   "source": [
    "train.std()"
   ]
  },
  {
   "cell_type": "code",
   "execution_count": 14,
   "metadata": {},
   "outputs": [
    {
     "data": {
      "text/plain": [
       "array([1, 2, 3, 6, 5, 4], dtype=int64)"
      ]
     },
     "execution_count": 14,
     "metadata": {},
     "output_type": "execute_result"
    }
   ],
   "source": [
    "train['passenger_count'].unique()"
   ]
  },
  {
   "cell_type": "code",
   "execution_count": 127,
   "metadata": {
    "scrolled": true
   },
   "outputs": [],
   "source": [
    "train['passenger_count']=train['passenger_count'].round().astype('object').astype('category',ordered=True)"
   ]
  },
  {
   "cell_type": "code",
   "execution_count": 13,
   "metadata": {},
   "outputs": [
    {
     "data": {
      "text/plain": [
       "[1, 2, 3, 6, 5, 4]\n",
       "Categories (6, int64): [1 < 2 < 3 < 4 < 5 < 6]"
      ]
     },
     "execution_count": 13,
     "metadata": {},
     "output_type": "execute_result"
    }
   ],
   "source": [
    "train['passenger_count'].unique()"
   ]
  },
  {
   "cell_type": "code",
   "execution_count": 15,
   "metadata": {
    "scrolled": true
   },
   "outputs": [
    {
     "data": {
      "text/plain": [
       "fare_amount                7\n",
       "pickup_longitude    -73.9954\n",
       "pickup_latitude      40.7597\n",
       "dropoff_longitude   -73.9876\n",
       "dropoff_latitude     40.7512\n",
       "passenger_count            1\n",
       "Name: 1000, dtype: object"
      ]
     },
     "execution_count": 15,
     "metadata": {},
     "output_type": "execute_result"
    }
   ],
   "source": [
    "train.loc[1000]"
   ]
  },
  {
   "cell_type": "markdown",
   "metadata": {},
   "source": [
    "-  Now about missing value in pickup_datetime"
   ]
  },
  {
   "cell_type": "code",
   "execution_count": 143,
   "metadata": {},
   "outputs": [
    {
     "data": {
      "text/html": [
       "<div>\n",
       "<style scoped>\n",
       "    .dataframe tbody tr th:only-of-type {\n",
       "        vertical-align: middle;\n",
       "    }\n",
       "\n",
       "    .dataframe tbody tr th {\n",
       "        vertical-align: top;\n",
       "    }\n",
       "\n",
       "    .dataframe thead th {\n",
       "        text-align: right;\n",
       "    }\n",
       "</style>\n",
       "<table border=\"1\" class=\"dataframe\">\n",
       "  <thead>\n",
       "    <tr style=\"text-align: right;\">\n",
       "      <th></th>\n",
       "      <th>pickup_datetime</th>\n",
       "    </tr>\n",
       "  </thead>\n",
       "  <tbody>\n",
       "    <tr>\n",
       "      <th>0</th>\n",
       "      <td>2009-06-15 17:26:21+00:00</td>\n",
       "    </tr>\n",
       "    <tr>\n",
       "      <th>1</th>\n",
       "      <td>2010-01-05 16:52:16+00:00</td>\n",
       "    </tr>\n",
       "    <tr>\n",
       "      <th>2</th>\n",
       "      <td>2011-08-18 00:35:00+00:00</td>\n",
       "    </tr>\n",
       "    <tr>\n",
       "      <th>3</th>\n",
       "      <td>2012-04-21 04:30:42+00:00</td>\n",
       "    </tr>\n",
       "    <tr>\n",
       "      <th>4</th>\n",
       "      <td>2010-03-09 07:51:00+00:00</td>\n",
       "    </tr>\n",
       "  </tbody>\n",
       "</table>\n",
       "</div>"
      ],
      "text/plain": [
       "            pickup_datetime\n",
       "0 2009-06-15 17:26:21+00:00\n",
       "1 2010-01-05 16:52:16+00:00\n",
       "2 2011-08-18 00:35:00+00:00\n",
       "3 2012-04-21 04:30:42+00:00\n",
       "4 2010-03-09 07:51:00+00:00"
      ]
     },
     "execution_count": 143,
     "metadata": {},
     "output_type": "execute_result"
    }
   ],
   "source": [
    "pickup_datetime.head()"
   ]
  },
  {
   "cell_type": "code",
   "execution_count": 144,
   "metadata": {},
   "outputs": [
    {
     "data": {
      "text/html": [
       "<div>\n",
       "<style scoped>\n",
       "    .dataframe tbody tr th:only-of-type {\n",
       "        vertical-align: middle;\n",
       "    }\n",
       "\n",
       "    .dataframe tbody tr th {\n",
       "        vertical-align: top;\n",
       "    }\n",
       "\n",
       "    .dataframe thead th {\n",
       "        text-align: right;\n",
       "    }\n",
       "</style>\n",
       "<table border=\"1\" class=\"dataframe\">\n",
       "  <thead>\n",
       "    <tr style=\"text-align: right;\">\n",
       "      <th></th>\n",
       "      <th>index</th>\n",
       "      <th>0</th>\n",
       "    </tr>\n",
       "  </thead>\n",
       "  <tbody>\n",
       "    <tr>\n",
       "      <th>0</th>\n",
       "      <td>pickup_datetime</td>\n",
       "      <td>1</td>\n",
       "    </tr>\n",
       "  </tbody>\n",
       "</table>\n",
       "</div>"
      ],
      "text/plain": [
       "             index  0\n",
       "0  pickup_datetime  1"
      ]
     },
     "execution_count": 144,
     "metadata": {},
     "output_type": "execute_result"
    }
   ],
   "source": [
    "#Create dataframe with missing percentage\n",
    "missing_val = pd.DataFrame(pickup_datetime.isnull().sum())\n",
    "#Reset index\n",
    "missing_val = missing_val.reset_index()\n",
    "missing_val"
   ]
  },
  {
   "cell_type": "code",
   "execution_count": 15,
   "metadata": {},
   "outputs": [
    {
     "data": {
      "text/plain": [
       "(15661, 1)"
      ]
     },
     "execution_count": 15,
     "metadata": {},
     "output_type": "execute_result"
    }
   ],
   "source": [
    "pickup_datetime.shape"
   ]
  },
  {
   "cell_type": "code",
   "execution_count": 16,
   "metadata": {},
   "outputs": [
    {
     "data": {
      "text/plain": [
       "(15661, 6)"
      ]
     },
     "execution_count": 16,
     "metadata": {},
     "output_type": "execute_result"
    }
   ],
   "source": [
    "train.shape"
   ]
  },
  {
   "cell_type": "markdown",
   "metadata": {},
   "source": [
    "-  We will drop 1 row which has missing value for pickup_datetime variable after feature engineering step because if we drop now, pickup_datetime dataframe will have 16040 rows and our train has 1641 rows, then if we merge these 2 dataframes then pickup_datetime variable will gain 1 missing value.\n",
    "-  And if we merge and then drop now then we would require to split again before outlier analysis and then merge again in feature engineering step.\n",
    "-  So, instead of doing the work 2 times we will drop 1 time i.e. after feature engineering process."
   ]
  },
  {
   "cell_type": "code",
   "execution_count": 128,
   "metadata": {},
   "outputs": [],
   "source": [
    "df1 = train.copy()\n",
    "# train=df1.copy()"
   ]
  },
  {
   "cell_type": "code",
   "execution_count": 17,
   "metadata": {},
   "outputs": [
    {
     "data": {
      "text/plain": [
       "count     15661\n",
       "unique        6\n",
       "top           1\n",
       "freq      11057\n",
       "Name: passenger_count, dtype: int64"
      ]
     },
     "execution_count": 17,
     "metadata": {},
     "output_type": "execute_result"
    }
   ],
   "source": [
    "train['passenger_count'].describe()"
   ]
  },
  {
   "cell_type": "code",
   "execution_count": 15,
   "metadata": {
    "scrolled": true
   },
   "outputs": [
    {
     "data": {
      "text/html": [
       "<div>\n",
       "<style scoped>\n",
       "    .dataframe tbody tr th:only-of-type {\n",
       "        vertical-align: middle;\n",
       "    }\n",
       "\n",
       "    .dataframe tbody tr th {\n",
       "        vertical-align: top;\n",
       "    }\n",
       "\n",
       "    .dataframe thead th {\n",
       "        text-align: right;\n",
       "    }\n",
       "</style>\n",
       "<table border=\"1\" class=\"dataframe\">\n",
       "  <thead>\n",
       "    <tr style=\"text-align: right;\">\n",
       "      <th></th>\n",
       "      <th>fare_amount</th>\n",
       "      <th>pickup_longitude</th>\n",
       "      <th>pickup_latitude</th>\n",
       "      <th>dropoff_longitude</th>\n",
       "      <th>dropoff_latitude</th>\n",
       "    </tr>\n",
       "  </thead>\n",
       "  <tbody>\n",
       "    <tr>\n",
       "      <th>count</th>\n",
       "      <td>15661.000000</td>\n",
       "      <td>15661.000000</td>\n",
       "      <td>15661.000000</td>\n",
       "      <td>15661.000000</td>\n",
       "      <td>15661.000000</td>\n",
       "    </tr>\n",
       "    <tr>\n",
       "      <th>mean</th>\n",
       "      <td>15.110645</td>\n",
       "      <td>-73.911514</td>\n",
       "      <td>40.689712</td>\n",
       "      <td>-73.906315</td>\n",
       "      <td>40.687655</td>\n",
       "    </tr>\n",
       "    <tr>\n",
       "      <th>std</th>\n",
       "      <td>435.661995</td>\n",
       "      <td>2.659050</td>\n",
       "      <td>2.613305</td>\n",
       "      <td>2.710835</td>\n",
       "      <td>2.632400</td>\n",
       "    </tr>\n",
       "    <tr>\n",
       "      <th>min</th>\n",
       "      <td>1.140000</td>\n",
       "      <td>-74.438233</td>\n",
       "      <td>-74.006893</td>\n",
       "      <td>-74.429332</td>\n",
       "      <td>-74.006377</td>\n",
       "    </tr>\n",
       "    <tr>\n",
       "      <th>25%</th>\n",
       "      <td>6.000000</td>\n",
       "      <td>-73.992390</td>\n",
       "      <td>40.736530</td>\n",
       "      <td>-73.991369</td>\n",
       "      <td>40.736293</td>\n",
       "    </tr>\n",
       "    <tr>\n",
       "      <th>50%</th>\n",
       "      <td>8.500000</td>\n",
       "      <td>-73.982049</td>\n",
       "      <td>40.753300</td>\n",
       "      <td>-73.980555</td>\n",
       "      <td>40.754242</td>\n",
       "    </tr>\n",
       "    <tr>\n",
       "      <th>75%</th>\n",
       "      <td>12.500000</td>\n",
       "      <td>-73.968080</td>\n",
       "      <td>40.767805</td>\n",
       "      <td>-73.965360</td>\n",
       "      <td>40.768312</td>\n",
       "    </tr>\n",
       "    <tr>\n",
       "      <th>max</th>\n",
       "      <td>54343.000000</td>\n",
       "      <td>40.766125</td>\n",
       "      <td>41.366138</td>\n",
       "      <td>40.802437</td>\n",
       "      <td>41.366138</td>\n",
       "    </tr>\n",
       "  </tbody>\n",
       "</table>\n",
       "</div>"
      ],
      "text/plain": [
       "        fare_amount  pickup_longitude  pickup_latitude  dropoff_longitude  \\\n",
       "count  15661.000000      15661.000000     15661.000000       15661.000000   \n",
       "mean      15.110645        -73.911514        40.689712         -73.906315   \n",
       "std      435.661995          2.659050         2.613305           2.710835   \n",
       "min        1.140000        -74.438233       -74.006893         -74.429332   \n",
       "25%        6.000000        -73.992390        40.736530         -73.991369   \n",
       "50%        8.500000        -73.982049        40.753300         -73.980555   \n",
       "75%       12.500000        -73.968080        40.767805         -73.965360   \n",
       "max    54343.000000         40.766125        41.366138          40.802437   \n",
       "\n",
       "       dropoff_latitude  \n",
       "count      15661.000000  \n",
       "mean          40.687655  \n",
       "std            2.632400  \n",
       "min          -74.006377  \n",
       "25%           40.736293  \n",
       "50%           40.754242  \n",
       "75%           40.768312  \n",
       "max           41.366138  "
      ]
     },
     "execution_count": 15,
     "metadata": {},
     "output_type": "execute_result"
    }
   ],
   "source": [
    "train.describe()"
   ]
  },
  {
   "cell_type": "markdown",
   "metadata": {},
   "source": [
    "## Outlier Analysis using Boxplot\n",
    "-  We Will do Outlier Analysis only on Fare_amount because we know only \n",
    "-  come back after feature engineering of distance"
   ]
  },
  {
   "cell_type": "code",
   "execution_count": 14,
   "metadata": {},
   "outputs": [],
   "source": [
    "# setting up the sns for plots\n",
    "sns.set(style='darkgrid',palette='Set1')"
   ]
  },
  {
   "cell_type": "markdown",
   "metadata": {},
   "source": [
    "-  Univariate Boxplots: Boxplots for all Numerical Variables including target variable."
   ]
  },
  {
   "cell_type": "code",
   "execution_count": null,
   "metadata": {
    "scrolled": true
   },
   "outputs": [],
   "source": [
    "# for i in train['fare_amount']:\n",
    "plt.figure(figsize=(20,5)) \n",
    "plt.xlim(0,100)\n",
    "sns.boxplot(x=train['fare_amount'],data=train,orient='h')\n",
    "plt.title('Boxplot of ')\n",
    "#     plt.savefig('bp'+str(i)+'.png')\n",
    "plt.show()"
   ]
  },
  {
   "cell_type": "code",
   "execution_count": 95,
   "metadata": {
    "scrolled": true
   },
   "outputs": [
    {
     "data": {
      "text/plain": [
       "91.30461883687589"
      ]
     },
     "execution_count": 95,
     "metadata": {},
     "output_type": "execute_result"
    }
   ],
   "source": [
    "# sum(train['fare_amount']<22.5)/len(train['fare_amount'])*100"
   ]
  },
  {
   "cell_type": "markdown",
   "metadata": {},
   "source": [
    "-  Bivariate Boxplots: Boxplot for Numerical Variable Vs Categorical Variable."
   ]
  },
  {
   "cell_type": "code",
   "execution_count": null,
   "metadata": {
    "scrolled": true
   },
   "outputs": [],
   "source": [
    "plt.figure(figsize=(20,10))\n",
    "plt.xlim(0,100)\n",
    "_ = sns.boxplot(x=train['fare_amount'],y=train['passenger_count'],data=train,orient='h')\n",
    "plt.title('Boxplot of w.r.t')\n",
    "#         plt.savefig('Boxplot of '+str(b)+' w.r.t '+str(a)+'.png')\n",
    "plt.show()"
   ]
  },
  {
   "cell_type": "code",
   "execution_count": 80,
   "metadata": {
    "scrolled": false
   },
   "outputs": [
    {
     "data": {
      "text/html": [
       "<div>\n",
       "<style scoped>\n",
       "    .dataframe tbody tr th:only-of-type {\n",
       "        vertical-align: middle;\n",
       "    }\n",
       "\n",
       "    .dataframe tbody tr th {\n",
       "        vertical-align: top;\n",
       "    }\n",
       "\n",
       "    .dataframe thead th {\n",
       "        text-align: right;\n",
       "    }\n",
       "</style>\n",
       "<table border=\"1\" class=\"dataframe\">\n",
       "  <thead>\n",
       "    <tr style=\"text-align: right;\">\n",
       "      <th></th>\n",
       "      <th>fare_amount</th>\n",
       "      <th>pickup_longitude</th>\n",
       "      <th>pickup_latitude</th>\n",
       "      <th>dropoff_longitude</th>\n",
       "      <th>dropoff_latitude</th>\n",
       "      <th>distance</th>\n",
       "      <th>great_circle</th>\n",
       "      <th>geodesic</th>\n",
       "    </tr>\n",
       "  </thead>\n",
       "  <tbody>\n",
       "    <tr>\n",
       "      <th>count</th>\n",
       "      <td>15983.000000</td>\n",
       "      <td>15983.000000</td>\n",
       "      <td>15983.000000</td>\n",
       "      <td>15983.000000</td>\n",
       "      <td>15983.000000</td>\n",
       "      <td>15983.000000</td>\n",
       "      <td>15983.000000</td>\n",
       "      <td>15983.000000</td>\n",
       "    </tr>\n",
       "    <tr>\n",
       "      <th>mean</th>\n",
       "      <td>9.388783</td>\n",
       "      <td>-73.911852</td>\n",
       "      <td>40.690306</td>\n",
       "      <td>-73.906691</td>\n",
       "      <td>40.688149</td>\n",
       "      <td>2.481506</td>\n",
       "      <td>2.481510</td>\n",
       "      <td>2.481970</td>\n",
       "    </tr>\n",
       "    <tr>\n",
       "      <th>std</th>\n",
       "      <td>4.467208</td>\n",
       "      <td>2.633575</td>\n",
       "      <td>2.587598</td>\n",
       "      <td>2.684801</td>\n",
       "      <td>2.606545</td>\n",
       "      <td>34.572677</td>\n",
       "      <td>34.572725</td>\n",
       "      <td>34.569407</td>\n",
       "    </tr>\n",
       "    <tr>\n",
       "      <th>min</th>\n",
       "      <td>1.140000</td>\n",
       "      <td>-74.438233</td>\n",
       "      <td>-74.006893</td>\n",
       "      <td>-74.429332</td>\n",
       "      <td>-74.006377</td>\n",
       "      <td>0.000000</td>\n",
       "      <td>0.000000</td>\n",
       "      <td>0.000000</td>\n",
       "    </tr>\n",
       "    <tr>\n",
       "      <th>25%</th>\n",
       "      <td>6.000000</td>\n",
       "      <td>-73.992180</td>\n",
       "      <td>40.736957</td>\n",
       "      <td>-73.991182</td>\n",
       "      <td>40.736758</td>\n",
       "      <td>0.760248</td>\n",
       "      <td>0.760304</td>\n",
       "      <td>0.760099</td>\n",
       "    </tr>\n",
       "    <tr>\n",
       "      <th>50%</th>\n",
       "      <td>8.100000</td>\n",
       "      <td>-73.981947</td>\n",
       "      <td>40.753300</td>\n",
       "      <td>-73.980411</td>\n",
       "      <td>40.754153</td>\n",
       "      <td>1.326006</td>\n",
       "      <td>1.325902</td>\n",
       "      <td>1.326243</td>\n",
       "    </tr>\n",
       "    <tr>\n",
       "      <th>75%</th>\n",
       "      <td>11.700000</td>\n",
       "      <td>-73.968232</td>\n",
       "      <td>40.767485</td>\n",
       "      <td>-73.965529</td>\n",
       "      <td>40.768090</td>\n",
       "      <td>2.394143</td>\n",
       "      <td>2.394334</td>\n",
       "      <td>2.395560</td>\n",
       "    </tr>\n",
       "    <tr>\n",
       "      <th>max</th>\n",
       "      <td>22.100000</td>\n",
       "      <td>40.766125</td>\n",
       "      <td>41.366138</td>\n",
       "      <td>40.802437</td>\n",
       "      <td>41.366138</td>\n",
       "      <td>3368.446398</td>\n",
       "      <td>3368.451131</td>\n",
       "      <td>3377.012556</td>\n",
       "    </tr>\n",
       "  </tbody>\n",
       "</table>\n",
       "</div>"
      ],
      "text/plain": [
       "        fare_amount  pickup_longitude  pickup_latitude  dropoff_longitude  \\\n",
       "count  15983.000000      15983.000000     15983.000000       15983.000000   \n",
       "mean       9.388783        -73.911852        40.690306         -73.906691   \n",
       "std        4.467208          2.633575         2.587598           2.684801   \n",
       "min        1.140000        -74.438233       -74.006893         -74.429332   \n",
       "25%        6.000000        -73.992180        40.736957         -73.991182   \n",
       "50%        8.100000        -73.981947        40.753300         -73.980411   \n",
       "75%       11.700000        -73.968232        40.767485         -73.965529   \n",
       "max       22.100000         40.766125        41.366138          40.802437   \n",
       "\n",
       "       dropoff_latitude      distance  great_circle      geodesic  \n",
       "count      15983.000000  15983.000000  15983.000000  15983.000000  \n",
       "mean          40.688149      2.481506      2.481510      2.481970  \n",
       "std            2.606545     34.572677     34.572725     34.569407  \n",
       "min          -74.006377      0.000000      0.000000      0.000000  \n",
       "25%           40.736758      0.760248      0.760304      0.760099  \n",
       "50%           40.754153      1.326006      1.325902      1.326243  \n",
       "75%           40.768090      2.394143      2.394334      2.395560  \n",
       "max           41.366138   3368.446398   3368.451131   3377.012556  "
      ]
     },
     "execution_count": 80,
     "metadata": {},
     "output_type": "execute_result"
    }
   ],
   "source": [
    "train.describe()"
   ]
  },
  {
   "cell_type": "code",
   "execution_count": 38,
   "metadata": {},
   "outputs": [
    {
     "data": {
      "text/plain": [
       "count     16043\n",
       "unique        7\n",
       "top           1\n",
       "freq      11298\n",
       "Name: passenger_count, dtype: int64"
      ]
     },
     "execution_count": 38,
     "metadata": {},
     "output_type": "execute_result"
    }
   ],
   "source": [
    "train['passenger_count'].describe()"
   ]
  },
  {
   "cell_type": "markdown",
   "metadata": {},
   "source": [
    "## Outlier Treatment\n",
    "-  As we can see from the above Boxplots there are outliers in the train dataset.\n",
    "-  Reconsider pickup_longitude,etc."
   ]
  },
  {
   "cell_type": "code",
   "execution_count": 129,
   "metadata": {},
   "outputs": [],
   "source": [
    "def outlier_treatment(col):\n",
    "    ''' calculating outlier indices and replacing them with NA  '''\n",
    "    #Extract quartiles\n",
    "    q75, q25 = np.percentile(train[col], [75 ,25])\n",
    "    print(q75,q25)\n",
    "    #Calculate IQR\n",
    "    iqr = q75 - q25\n",
    "    #Calculate inner and outer fence\n",
    "    minimum = q25 - (iqr*1.5)\n",
    "    maximum = q75 + (iqr*1.5)\n",
    "    print(minimum,maximum)\n",
    "    #Replace with NA\n",
    "    train.loc[train[col] < minimum,col] = np.nan\n",
    "    train.loc[train[col] > maximum,col] = np.nan"
   ]
  },
  {
   "cell_type": "code",
   "execution_count": 130,
   "metadata": {},
   "outputs": [
    {
     "name": "stdout",
     "output_type": "stream",
     "text": [
      "12.5 6.0\n",
      "-3.75 22.25\n"
     ]
    }
   ],
   "source": [
    "# for i in num_var:\n",
    "    outlier_treatment('fare_amount')\n",
    "#     outlier_treatment('pickup_longitude')\n",
    "#     outlier_treatment('pickup_latitude')\n",
    "#     outlier_treatment('dropoff_longitude')\n",
    "#     outlier_treatment('dropoff_latitude')"
   ]
  },
  {
   "cell_type": "code",
   "execution_count": 76,
   "metadata": {
    "scrolled": false
   },
   "outputs": [
    {
     "data": {
      "text/html": [
       "<div>\n",
       "<style scoped>\n",
       "    .dataframe tbody tr th:only-of-type {\n",
       "        vertical-align: middle;\n",
       "    }\n",
       "\n",
       "    .dataframe tbody tr th {\n",
       "        vertical-align: top;\n",
       "    }\n",
       "\n",
       "    .dataframe thead th {\n",
       "        text-align: right;\n",
       "    }\n",
       "</style>\n",
       "<table border=\"1\" class=\"dataframe\">\n",
       "  <thead>\n",
       "    <tr style=\"text-align: right;\">\n",
       "      <th></th>\n",
       "      <th>0</th>\n",
       "    </tr>\n",
       "  </thead>\n",
       "  <tbody>\n",
       "    <tr>\n",
       "      <th>fare_amount</th>\n",
       "      <td>1359</td>\n",
       "    </tr>\n",
       "    <tr>\n",
       "      <th>pickup_longitude</th>\n",
       "      <td>0</td>\n",
       "    </tr>\n",
       "    <tr>\n",
       "      <th>pickup_latitude</th>\n",
       "      <td>0</td>\n",
       "    </tr>\n",
       "    <tr>\n",
       "      <th>dropoff_longitude</th>\n",
       "      <td>0</td>\n",
       "    </tr>\n",
       "    <tr>\n",
       "      <th>dropoff_latitude</th>\n",
       "      <td>0</td>\n",
       "    </tr>\n",
       "    <tr>\n",
       "      <th>passenger_count</th>\n",
       "      <td>0</td>\n",
       "    </tr>\n",
       "  </tbody>\n",
       "</table>\n",
       "</div>"
      ],
      "text/plain": [
       "                      0\n",
       "fare_amount        1359\n",
       "pickup_longitude      0\n",
       "pickup_latitude       0\n",
       "dropoff_longitude     0\n",
       "dropoff_latitude      0\n",
       "passenger_count       0"
      ]
     },
     "execution_count": 76,
     "metadata": {},
     "output_type": "execute_result"
    }
   ],
   "source": [
    "pd.DataFrame(train.isnull().sum())"
   ]
  },
  {
   "cell_type": "code",
   "execution_count": 18,
   "metadata": {
    "scrolled": true
   },
   "outputs": [
    {
     "data": {
      "text/plain": [
       "fare_amount          4.136113\n",
       "pickup_longitude     2.659050\n",
       "pickup_latitude      2.613305\n",
       "dropoff_longitude    2.710835\n",
       "dropoff_latitude     2.632400\n",
       "passenger_count      1.264329\n",
       "dtype: float64"
      ]
     },
     "execution_count": 18,
     "metadata": {},
     "output_type": "execute_result"
    }
   ],
   "source": [
    "train.std()"
   ]
  },
  {
   "cell_type": "code",
   "execution_count": 131,
   "metadata": {
    "scrolled": true
   },
   "outputs": [
    {
     "name": "stdout",
     "output_type": "stream",
     "text": [
      "Imputing row 1/15661 with 0 missing, elapsed time: 48.031\n",
      "Imputing row 101/15661 with 0 missing, elapsed time: 48.033\n",
      "Imputing row 201/15661 with 0 missing, elapsed time: 48.035\n",
      "Imputing row 301/15661 with 1 missing, elapsed time: 48.037\n",
      "Imputing row 401/15661 with 0 missing, elapsed time: 48.039\n",
      "Imputing row 501/15661 with 0 missing, elapsed time: 48.041\n",
      "Imputing row 601/15661 with 1 missing, elapsed time: 48.042\n",
      "Imputing row 701/15661 with 0 missing, elapsed time: 48.044\n",
      "Imputing row 801/15661 with 0 missing, elapsed time: 48.046\n",
      "Imputing row 901/15661 with 0 missing, elapsed time: 48.047\n",
      "Imputing row 1001/15661 with 0 missing, elapsed time: 48.049\n",
      "Imputing row 1101/15661 with 1 missing, elapsed time: 48.050\n",
      "Imputing row 1201/15661 with 0 missing, elapsed time: 48.052\n",
      "Imputing row 1301/15661 with 0 missing, elapsed time: 48.054\n",
      "Imputing row 1401/15661 with 0 missing, elapsed time: 48.055\n",
      "Imputing row 1501/15661 with 0 missing, elapsed time: 48.057\n",
      "Imputing row 1601/15661 with 0 missing, elapsed time: 48.059\n",
      "Imputing row 1701/15661 with 0 missing, elapsed time: 48.060\n",
      "Imputing row 1801/15661 with 0 missing, elapsed time: 48.061\n",
      "Imputing row 1901/15661 with 0 missing, elapsed time: 48.062\n",
      "Imputing row 2001/15661 with 0 missing, elapsed time: 48.064\n",
      "Imputing row 2101/15661 with 0 missing, elapsed time: 48.065\n",
      "Imputing row 2201/15661 with 0 missing, elapsed time: 48.067\n",
      "Imputing row 2301/15661 with 0 missing, elapsed time: 48.069\n",
      "Imputing row 2401/15661 with 0 missing, elapsed time: 48.070\n",
      "Imputing row 2501/15661 with 0 missing, elapsed time: 48.071\n",
      "Imputing row 2601/15661 with 0 missing, elapsed time: 48.073\n",
      "Imputing row 2701/15661 with 0 missing, elapsed time: 48.074\n",
      "Imputing row 2801/15661 with 0 missing, elapsed time: 48.076\n",
      "Imputing row 2901/15661 with 0 missing, elapsed time: 48.077\n",
      "Imputing row 3001/15661 with 0 missing, elapsed time: 48.078\n",
      "Imputing row 3101/15661 with 0 missing, elapsed time: 48.079\n",
      "Imputing row 3201/15661 with 0 missing, elapsed time: 48.081\n",
      "Imputing row 3301/15661 with 0 missing, elapsed time: 48.082\n",
      "Imputing row 3401/15661 with 0 missing, elapsed time: 48.084\n",
      "Imputing row 3501/15661 with 0 missing, elapsed time: 48.085\n",
      "Imputing row 3601/15661 with 0 missing, elapsed time: 48.087\n",
      "Imputing row 3701/15661 with 0 missing, elapsed time: 48.088\n",
      "Imputing row 3801/15661 with 0 missing, elapsed time: 48.089\n",
      "Imputing row 3901/15661 with 0 missing, elapsed time: 48.091\n",
      "Imputing row 4001/15661 with 0 missing, elapsed time: 48.092\n",
      "Imputing row 4101/15661 with 0 missing, elapsed time: 48.093\n",
      "Imputing row 4201/15661 with 0 missing, elapsed time: 48.095\n",
      "Imputing row 4301/15661 with 0 missing, elapsed time: 48.096\n",
      "Imputing row 4401/15661 with 0 missing, elapsed time: 48.098\n",
      "Imputing row 4501/15661 with 0 missing, elapsed time: 48.100\n",
      "Imputing row 4601/15661 with 0 missing, elapsed time: 48.102\n",
      "Imputing row 4701/15661 with 0 missing, elapsed time: 48.104\n",
      "Imputing row 4801/15661 with 0 missing, elapsed time: 48.105\n",
      "Imputing row 4901/15661 with 0 missing, elapsed time: 48.106\n",
      "Imputing row 5001/15661 with 0 missing, elapsed time: 48.108\n",
      "Imputing row 5101/15661 with 1 missing, elapsed time: 48.109\n",
      "Imputing row 5201/15661 with 0 missing, elapsed time: 48.110\n",
      "Imputing row 5301/15661 with 0 missing, elapsed time: 48.111\n",
      "Imputing row 5401/15661 with 0 missing, elapsed time: 48.112\n",
      "Imputing row 5501/15661 with 0 missing, elapsed time: 48.114\n",
      "Imputing row 5601/15661 with 0 missing, elapsed time: 48.116\n",
      "Imputing row 5701/15661 with 0 missing, elapsed time: 48.117\n",
      "Imputing row 5801/15661 with 0 missing, elapsed time: 48.118\n",
      "Imputing row 5901/15661 with 0 missing, elapsed time: 48.119\n",
      "Imputing row 6001/15661 with 0 missing, elapsed time: 48.120\n",
      "Imputing row 6101/15661 with 0 missing, elapsed time: 48.123\n",
      "Imputing row 6201/15661 with 0 missing, elapsed time: 48.124\n",
      "Imputing row 6301/15661 with 0 missing, elapsed time: 48.126\n",
      "Imputing row 6401/15661 with 0 missing, elapsed time: 48.128\n",
      "Imputing row 6501/15661 with 0 missing, elapsed time: 48.129\n",
      "Imputing row 6601/15661 with 0 missing, elapsed time: 48.131\n",
      "Imputing row 6701/15661 with 0 missing, elapsed time: 48.132\n",
      "Imputing row 6801/15661 with 0 missing, elapsed time: 48.134\n",
      "Imputing row 6901/15661 with 0 missing, elapsed time: 48.135\n",
      "Imputing row 7001/15661 with 0 missing, elapsed time: 48.137\n",
      "Imputing row 7101/15661 with 0 missing, elapsed time: 48.138\n",
      "Imputing row 7201/15661 with 0 missing, elapsed time: 48.139\n",
      "Imputing row 7301/15661 with 0 missing, elapsed time: 48.141\n",
      "Imputing row 7401/15661 with 0 missing, elapsed time: 48.144\n",
      "Imputing row 7501/15661 with 0 missing, elapsed time: 48.146\n",
      "Imputing row 7601/15661 with 0 missing, elapsed time: 48.149\n",
      "Imputing row 7701/15661 with 0 missing, elapsed time: 48.150\n",
      "Imputing row 7801/15661 with 0 missing, elapsed time: 48.153\n",
      "Imputing row 7901/15661 with 1 missing, elapsed time: 48.156\n",
      "Imputing row 8001/15661 with 0 missing, elapsed time: 48.159\n",
      "Imputing row 8101/15661 with 0 missing, elapsed time: 48.161\n",
      "Imputing row 8201/15661 with 0 missing, elapsed time: 48.164\n",
      "Imputing row 8301/15661 with 0 missing, elapsed time: 48.165\n",
      "Imputing row 8401/15661 with 0 missing, elapsed time: 48.168\n",
      "Imputing row 8501/15661 with 0 missing, elapsed time: 48.170\n",
      "Imputing row 8601/15661 with 0 missing, elapsed time: 48.171\n",
      "Imputing row 8701/15661 with 0 missing, elapsed time: 48.173\n",
      "Imputing row 8801/15661 with 0 missing, elapsed time: 48.175\n",
      "Imputing row 8901/15661 with 0 missing, elapsed time: 48.177\n",
      "Imputing row 9001/15661 with 0 missing, elapsed time: 48.179\n",
      "Imputing row 9101/15661 with 0 missing, elapsed time: 48.181\n",
      "Imputing row 9201/15661 with 0 missing, elapsed time: 48.182\n",
      "Imputing row 9301/15661 with 0 missing, elapsed time: 48.183\n",
      "Imputing row 9401/15661 with 0 missing, elapsed time: 48.184\n",
      "Imputing row 9501/15661 with 0 missing, elapsed time: 48.187\n",
      "Imputing row 9601/15661 with 0 missing, elapsed time: 48.190\n",
      "Imputing row 9701/15661 with 0 missing, elapsed time: 48.192\n",
      "Imputing row 9801/15661 with 0 missing, elapsed time: 48.195\n",
      "Imputing row 9901/15661 with 0 missing, elapsed time: 48.197\n",
      "Imputing row 10001/15661 with 0 missing, elapsed time: 48.199\n",
      "Imputing row 10101/15661 with 0 missing, elapsed time: 48.200\n",
      "Imputing row 10201/15661 with 0 missing, elapsed time: 48.202\n",
      "Imputing row 10301/15661 with 0 missing, elapsed time: 48.204\n",
      "Imputing row 10401/15661 with 0 missing, elapsed time: 48.230\n",
      "Imputing row 10501/15661 with 0 missing, elapsed time: 48.232\n",
      "Imputing row 10601/15661 with 0 missing, elapsed time: 48.235\n",
      "Imputing row 10701/15661 with 0 missing, elapsed time: 48.238\n",
      "Imputing row 10801/15661 with 0 missing, elapsed time: 48.240\n",
      "Imputing row 10901/15661 with 0 missing, elapsed time: 48.243\n",
      "Imputing row 11001/15661 with 0 missing, elapsed time: 48.245\n",
      "Imputing row 11101/15661 with 0 missing, elapsed time: 48.249\n",
      "Imputing row 11201/15661 with 0 missing, elapsed time: 48.251\n",
      "Imputing row 11301/15661 with 0 missing, elapsed time: 48.254\n",
      "Imputing row 11401/15661 with 0 missing, elapsed time: 48.257\n",
      "Imputing row 11501/15661 with 0 missing, elapsed time: 48.261\n",
      "Imputing row 11601/15661 with 0 missing, elapsed time: 48.264\n",
      "Imputing row 11701/15661 with 1 missing, elapsed time: 48.269\n",
      "Imputing row 11801/15661 with 0 missing, elapsed time: 48.278\n",
      "Imputing row 11901/15661 with 0 missing, elapsed time: 48.283\n",
      "Imputing row 12001/15661 with 0 missing, elapsed time: 48.290\n",
      "Imputing row 12101/15661 with 0 missing, elapsed time: 48.292\n",
      "Imputing row 12201/15661 with 0 missing, elapsed time: 48.295\n",
      "Imputing row 12301/15661 with 1 missing, elapsed time: 48.296\n",
      "Imputing row 12401/15661 with 0 missing, elapsed time: 48.298\n",
      "Imputing row 12501/15661 with 0 missing, elapsed time: 48.300\n",
      "Imputing row 12601/15661 with 1 missing, elapsed time: 48.303\n",
      "Imputing row 12701/15661 with 0 missing, elapsed time: 48.305\n",
      "Imputing row 12801/15661 with 0 missing, elapsed time: 48.307\n",
      "Imputing row 12901/15661 with 0 missing, elapsed time: 48.310\n",
      "Imputing row 13001/15661 with 0 missing, elapsed time: 48.312\n",
      "Imputing row 13101/15661 with 0 missing, elapsed time: 48.315\n",
      "Imputing row 13201/15661 with 0 missing, elapsed time: 48.317\n",
      "Imputing row 13301/15661 with 0 missing, elapsed time: 48.320\n",
      "Imputing row 13401/15661 with 0 missing, elapsed time: 48.323\n",
      "Imputing row 13501/15661 with 0 missing, elapsed time: 48.325\n",
      "Imputing row 13601/15661 with 1 missing, elapsed time: 48.326\n",
      "Imputing row 13701/15661 with 0 missing, elapsed time: 48.328\n",
      "Imputing row 13801/15661 with 0 missing, elapsed time: 48.330\n",
      "Imputing row 13901/15661 with 0 missing, elapsed time: 48.332\n",
      "Imputing row 14001/15661 with 0 missing, elapsed time: 48.334\n",
      "Imputing row 14101/15661 with 0 missing, elapsed time: 48.335\n",
      "Imputing row 14201/15661 with 0 missing, elapsed time: 48.337\n",
      "Imputing row 14301/15661 with 0 missing, elapsed time: 48.339\n",
      "Imputing row 14401/15661 with 0 missing, elapsed time: 48.341\n",
      "Imputing row 14501/15661 with 1 missing, elapsed time: 48.342\n",
      "Imputing row 14601/15661 with 0 missing, elapsed time: 48.345\n",
      "Imputing row 14701/15661 with 0 missing, elapsed time: 48.347\n",
      "Imputing row 14801/15661 with 0 missing, elapsed time: 48.349\n",
      "Imputing row 14901/15661 with 0 missing, elapsed time: 48.350\n",
      "Imputing row 15001/15661 with 0 missing, elapsed time: 48.353\n",
      "Imputing row 15101/15661 with 0 missing, elapsed time: 48.355\n",
      "Imputing row 15201/15661 with 0 missing, elapsed time: 48.357\n",
      "Imputing row 15301/15661 with 0 missing, elapsed time: 48.360\n",
      "Imputing row 15401/15661 with 0 missing, elapsed time: 48.362\n",
      "Imputing row 15501/15661 with 0 missing, elapsed time: 48.364\n",
      "Imputing row 15601/15661 with 0 missing, elapsed time: 48.365\n"
     ]
    }
   ],
   "source": [
    "#Imputing with missing values using KNN\n",
    "train = pd.DataFrame(KNN(k = 3).fit_transform(train), columns = train.columns, index=train.index)"
   ]
  },
  {
   "cell_type": "code",
   "execution_count": 38,
   "metadata": {
    "scrolled": false
   },
   "outputs": [
    {
     "data": {
      "text/plain": [
       "fare_amount          4.476982\n",
       "pickup_longitude     2.659050\n",
       "pickup_latitude      2.613305\n",
       "dropoff_longitude    2.710835\n",
       "dropoff_latitude     2.632400\n",
       "passenger_count      1.264329\n",
       "dtype: float64"
      ]
     },
     "execution_count": 38,
     "metadata": {},
     "output_type": "execute_result"
    }
   ],
   "source": [
    "train.std()"
   ]
  },
  {
   "cell_type": "code",
   "execution_count": 26,
   "metadata": {},
   "outputs": [
    {
     "data": {
      "text/plain": [
       "count    15661.000000\n",
       "mean         1.649128\n",
       "std          1.264329\n",
       "min          1.000000\n",
       "25%          1.000000\n",
       "50%          1.000000\n",
       "75%          2.000000\n",
       "max          6.000000\n",
       "Name: passenger_count, dtype: float64"
      ]
     },
     "execution_count": 26,
     "metadata": {},
     "output_type": "execute_result"
    }
   ],
   "source": [
    "train['passenger_count'].describe()"
   ]
  },
  {
   "cell_type": "code",
   "execution_count": 132,
   "metadata": {},
   "outputs": [],
   "source": [
    "train['passenger_count']=train['passenger_count'].astype('int').round().astype('object').astype('category')"
   ]
  },
  {
   "cell_type": "code",
   "execution_count": 58,
   "metadata": {
    "scrolled": false
   },
   "outputs": [
    {
     "data": {
      "text/html": [
       "<div>\n",
       "<style scoped>\n",
       "    .dataframe tbody tr th:only-of-type {\n",
       "        vertical-align: middle;\n",
       "    }\n",
       "\n",
       "    .dataframe tbody tr th {\n",
       "        vertical-align: top;\n",
       "    }\n",
       "\n",
       "    .dataframe thead th {\n",
       "        text-align: right;\n",
       "    }\n",
       "</style>\n",
       "<table border=\"1\" class=\"dataframe\">\n",
       "  <thead>\n",
       "    <tr style=\"text-align: right;\">\n",
       "      <th></th>\n",
       "      <th>fare_amount</th>\n",
       "      <th>pickup_longitude</th>\n",
       "      <th>pickup_latitude</th>\n",
       "      <th>dropoff_longitude</th>\n",
       "      <th>dropoff_latitude</th>\n",
       "    </tr>\n",
       "  </thead>\n",
       "  <tbody>\n",
       "    <tr>\n",
       "      <th>count</th>\n",
       "      <td>15984.000000</td>\n",
       "      <td>15984.000000</td>\n",
       "      <td>15984.000000</td>\n",
       "      <td>15984.000000</td>\n",
       "      <td>15984.000000</td>\n",
       "    </tr>\n",
       "    <tr>\n",
       "      <th>mean</th>\n",
       "      <td>9.388915</td>\n",
       "      <td>-73.911856</td>\n",
       "      <td>40.690308</td>\n",
       "      <td>-73.906696</td>\n",
       "      <td>40.688153</td>\n",
       "    </tr>\n",
       "    <tr>\n",
       "      <th>std</th>\n",
       "      <td>4.467099</td>\n",
       "      <td>2.633492</td>\n",
       "      <td>2.587517</td>\n",
       "      <td>2.684717</td>\n",
       "      <td>2.606464</td>\n",
       "    </tr>\n",
       "    <tr>\n",
       "      <th>min</th>\n",
       "      <td>1.140000</td>\n",
       "      <td>-74.438233</td>\n",
       "      <td>-74.006893</td>\n",
       "      <td>-74.429332</td>\n",
       "      <td>-74.006377</td>\n",
       "    </tr>\n",
       "    <tr>\n",
       "      <th>25%</th>\n",
       "      <td>6.000000</td>\n",
       "      <td>-73.992179</td>\n",
       "      <td>40.736957</td>\n",
       "      <td>-73.991182</td>\n",
       "      <td>40.736759</td>\n",
       "    </tr>\n",
       "    <tr>\n",
       "      <th>50%</th>\n",
       "      <td>8.100000</td>\n",
       "      <td>-73.981947</td>\n",
       "      <td>40.753300</td>\n",
       "      <td>-73.980413</td>\n",
       "      <td>40.754154</td>\n",
       "    </tr>\n",
       "    <tr>\n",
       "      <th>75%</th>\n",
       "      <td>11.700000</td>\n",
       "      <td>-73.968232</td>\n",
       "      <td>40.767484</td>\n",
       "      <td>-73.965530</td>\n",
       "      <td>40.768089</td>\n",
       "    </tr>\n",
       "    <tr>\n",
       "      <th>max</th>\n",
       "      <td>22.100000</td>\n",
       "      <td>40.766125</td>\n",
       "      <td>41.366138</td>\n",
       "      <td>40.802437</td>\n",
       "      <td>41.366138</td>\n",
       "    </tr>\n",
       "  </tbody>\n",
       "</table>\n",
       "</div>"
      ],
      "text/plain": [
       "        fare_amount  pickup_longitude  pickup_latitude  dropoff_longitude  \\\n",
       "count  15984.000000      15984.000000     15984.000000       15984.000000   \n",
       "mean       9.388915        -73.911856        40.690308         -73.906696   \n",
       "std        4.467099          2.633492         2.587517           2.684717   \n",
       "min        1.140000        -74.438233       -74.006893         -74.429332   \n",
       "25%        6.000000        -73.992179        40.736957         -73.991182   \n",
       "50%        8.100000        -73.981947        40.753300         -73.980413   \n",
       "75%       11.700000        -73.968232        40.767484         -73.965530   \n",
       "max       22.100000         40.766125        41.366138          40.802437   \n",
       "\n",
       "       dropoff_latitude  \n",
       "count      15984.000000  \n",
       "mean          40.688153  \n",
       "std            2.606464  \n",
       "min          -74.006377  \n",
       "25%           40.736759  \n",
       "50%           40.754154  \n",
       "75%           40.768089  \n",
       "max           41.366138  "
      ]
     },
     "execution_count": 58,
     "metadata": {},
     "output_type": "execute_result"
    }
   ],
   "source": [
    "train.describe()"
   ]
  },
  {
   "cell_type": "code",
   "execution_count": 59,
   "metadata": {},
   "outputs": [
    {
     "data": {
      "text/html": [
       "<div>\n",
       "<style scoped>\n",
       "    .dataframe tbody tr th:only-of-type {\n",
       "        vertical-align: middle;\n",
       "    }\n",
       "\n",
       "    .dataframe tbody tr th {\n",
       "        vertical-align: top;\n",
       "    }\n",
       "\n",
       "    .dataframe thead th {\n",
       "        text-align: right;\n",
       "    }\n",
       "</style>\n",
       "<table border=\"1\" class=\"dataframe\">\n",
       "  <thead>\n",
       "    <tr style=\"text-align: right;\">\n",
       "      <th></th>\n",
       "      <th>fare_amount</th>\n",
       "      <th>pickup_longitude</th>\n",
       "      <th>pickup_latitude</th>\n",
       "      <th>dropoff_longitude</th>\n",
       "      <th>dropoff_latitude</th>\n",
       "      <th>passenger_count</th>\n",
       "    </tr>\n",
       "  </thead>\n",
       "  <tbody>\n",
       "    <tr>\n",
       "      <th>0</th>\n",
       "      <td>4.5</td>\n",
       "      <td>-73.844311</td>\n",
       "      <td>40.721319</td>\n",
       "      <td>-73.841610</td>\n",
       "      <td>40.712278</td>\n",
       "      <td>1</td>\n",
       "    </tr>\n",
       "    <tr>\n",
       "      <th>1</th>\n",
       "      <td>16.9</td>\n",
       "      <td>-74.016048</td>\n",
       "      <td>40.711303</td>\n",
       "      <td>-73.979268</td>\n",
       "      <td>40.782004</td>\n",
       "      <td>1</td>\n",
       "    </tr>\n",
       "    <tr>\n",
       "      <th>2</th>\n",
       "      <td>5.7</td>\n",
       "      <td>-73.982738</td>\n",
       "      <td>40.761270</td>\n",
       "      <td>-73.991242</td>\n",
       "      <td>40.750562</td>\n",
       "      <td>2</td>\n",
       "    </tr>\n",
       "    <tr>\n",
       "      <th>3</th>\n",
       "      <td>7.7</td>\n",
       "      <td>-73.987130</td>\n",
       "      <td>40.733143</td>\n",
       "      <td>-73.991567</td>\n",
       "      <td>40.758092</td>\n",
       "      <td>1</td>\n",
       "    </tr>\n",
       "    <tr>\n",
       "      <th>4</th>\n",
       "      <td>5.3</td>\n",
       "      <td>-73.968095</td>\n",
       "      <td>40.768008</td>\n",
       "      <td>-73.956655</td>\n",
       "      <td>40.783762</td>\n",
       "      <td>1</td>\n",
       "    </tr>\n",
       "  </tbody>\n",
       "</table>\n",
       "</div>"
      ],
      "text/plain": [
       "   fare_amount  pickup_longitude  pickup_latitude  dropoff_longitude  \\\n",
       "0          4.5        -73.844311        40.721319         -73.841610   \n",
       "1         16.9        -74.016048        40.711303         -73.979268   \n",
       "2          5.7        -73.982738        40.761270         -73.991242   \n",
       "3          7.7        -73.987130        40.733143         -73.991567   \n",
       "4          5.3        -73.968095        40.768008         -73.956655   \n",
       "\n",
       "   dropoff_latitude passenger_count  \n",
       "0         40.712278               1  \n",
       "1         40.782004               1  \n",
       "2         40.750562               2  \n",
       "3         40.758092               1  \n",
       "4         40.783762               1  "
      ]
     },
     "execution_count": 59,
     "metadata": {},
     "output_type": "execute_result"
    }
   ],
   "source": [
    "train.head()"
   ]
  },
  {
   "cell_type": "code",
   "execution_count": 133,
   "metadata": {},
   "outputs": [],
   "source": [
    "df2 = train.copy()\n",
    "# train=df2.copy()"
   ]
  },
  {
   "cell_type": "code",
   "execution_count": 22,
   "metadata": {},
   "outputs": [
    {
     "data": {
      "text/plain": [
       "(15661, 6)"
      ]
     },
     "execution_count": 22,
     "metadata": {},
     "output_type": "execute_result"
    }
   ],
   "source": [
    "train.shape"
   ]
  },
  {
   "cell_type": "markdown",
   "metadata": {},
   "source": [
    "https://www.neuraldesigner.com/blog/3_methods_to_deal_with_outliers"
   ]
  },
  {
   "cell_type": "markdown",
   "metadata": {},
   "source": [
    "## Graphical EDA - Data Visualization "
   ]
  },
  {
   "cell_type": "code",
   "execution_count": null,
   "metadata": {
    "scrolled": true
   },
   "outputs": [],
   "source": [
    "plt.figure(figsize=(10,10))\n",
    "plt.ylim(0,100)\n",
    "sns.violinplot(y='fare_amount',data=train)"
   ]
  },
  {
   "cell_type": "code",
   "execution_count": 174,
   "metadata": {
    "collapsed": true
   },
   "outputs": [
    {
     "data": {
      "text/plain": [
       "<matplotlib.axes._subplots.AxesSubplot at 0x17d1399a7b8>"
      ]
     },
     "execution_count": 174,
     "metadata": {},
     "output_type": "execute_result"
    },
    {
     "data": {
      "image/png": "[encoded data removed]",
      "text/plain": [
       "<Figure size 432x288 with 1 Axes>"
      ]
     },
     "metadata": {},
     "output_type": "display_data"
    }
   ],
   "source": [
    "sns.countplot(x='passenger_count' ,data=train)"
   ]
  },
  {
   "cell_type": "code",
   "execution_count": 150,
   "metadata": {},
   "outputs": [],
   "source": [
    "drop=['pickup_datetime','passenger_count','Year','Month','Date','Day of Week','Hour']"
   ]
  },
  {
   "cell_type": "code",
   "execution_count": null,
   "metadata": {
    "scrolled": true
   },
   "outputs": [],
   "source": [
    "pd.plotting.scatter_matrix(train.drop(drop,axis=1), figsize = [8, 8])"
   ]
  },
  {
   "cell_type": "markdown",
   "metadata": {},
   "source": [
    "-  Now lets see at some Jointplots.\n",
    "-  They are used for Bivariate Analysis.\n",
    "-  Here Scatter plot has regression line between 2 variables along with separate Bar plots of both variables.\n",
    "-  Also its annotated with pearson correlation coefficient and p value."
   ]
  },
  {
   "cell_type": "markdown",
   "metadata": {},
   "source": [
    "## Feature Engineering"
   ]
  },
  {
   "cell_type": "markdown",
   "metadata": {},
   "source": [
    "#### 1.Feature Engineering for timestamp variable\n",
    "-  we will derive new features from pickup_datetime variable\n",
    "-  new features will be year,month,date,day_of_week,hour"
   ]
  },
  {
   "cell_type": "code",
   "execution_count": 134,
   "metadata": {
    "scrolled": true
   },
   "outputs": [
    {
     "data": {
      "text/html": [
       "<div>\n",
       "<style scoped>\n",
       "    .dataframe tbody tr th:only-of-type {\n",
       "        vertical-align: middle;\n",
       "    }\n",
       "\n",
       "    .dataframe tbody tr th {\n",
       "        vertical-align: top;\n",
       "    }\n",
       "\n",
       "    .dataframe thead th {\n",
       "        text-align: right;\n",
       "    }\n",
       "</style>\n",
       "<table border=\"1\" class=\"dataframe\">\n",
       "  <thead>\n",
       "    <tr style=\"text-align: right;\">\n",
       "      <th></th>\n",
       "      <th>pickup_datetime</th>\n",
       "      <th>fare_amount</th>\n",
       "      <th>pickup_longitude</th>\n",
       "      <th>pickup_latitude</th>\n",
       "      <th>dropoff_longitude</th>\n",
       "      <th>dropoff_latitude</th>\n",
       "      <th>passenger_count</th>\n",
       "    </tr>\n",
       "  </thead>\n",
       "  <tbody>\n",
       "    <tr>\n",
       "      <th>0</th>\n",
       "      <td>2009-06-15 17:26:21+00:00</td>\n",
       "      <td>4.5</td>\n",
       "      <td>-73.844311</td>\n",
       "      <td>40.721319</td>\n",
       "      <td>-73.841610</td>\n",
       "      <td>40.712278</td>\n",
       "      <td>1</td>\n",
       "    </tr>\n",
       "    <tr>\n",
       "      <th>1</th>\n",
       "      <td>2010-01-05 16:52:16+00:00</td>\n",
       "      <td>16.9</td>\n",
       "      <td>-74.016048</td>\n",
       "      <td>40.711303</td>\n",
       "      <td>-73.979268</td>\n",
       "      <td>40.782004</td>\n",
       "      <td>1</td>\n",
       "    </tr>\n",
       "    <tr>\n",
       "      <th>2</th>\n",
       "      <td>2011-08-18 00:35:00+00:00</td>\n",
       "      <td>5.7</td>\n",
       "      <td>-73.982738</td>\n",
       "      <td>40.761270</td>\n",
       "      <td>-73.991242</td>\n",
       "      <td>40.750562</td>\n",
       "      <td>2</td>\n",
       "    </tr>\n",
       "    <tr>\n",
       "      <th>3</th>\n",
       "      <td>2012-04-21 04:30:42+00:00</td>\n",
       "      <td>7.7</td>\n",
       "      <td>-73.987130</td>\n",
       "      <td>40.733143</td>\n",
       "      <td>-73.991567</td>\n",
       "      <td>40.758092</td>\n",
       "      <td>1</td>\n",
       "    </tr>\n",
       "    <tr>\n",
       "      <th>4</th>\n",
       "      <td>2010-03-09 07:51:00+00:00</td>\n",
       "      <td>5.3</td>\n",
       "      <td>-73.968095</td>\n",
       "      <td>40.768008</td>\n",
       "      <td>-73.956655</td>\n",
       "      <td>40.783762</td>\n",
       "      <td>1</td>\n",
       "    </tr>\n",
       "  </tbody>\n",
       "</table>\n",
       "</div>"
      ],
      "text/plain": [
       "            pickup_datetime  fare_amount  pickup_longitude  pickup_latitude  \\\n",
       "0 2009-06-15 17:26:21+00:00          4.5        -73.844311        40.721319   \n",
       "1 2010-01-05 16:52:16+00:00         16.9        -74.016048        40.711303   \n",
       "2 2011-08-18 00:35:00+00:00          5.7        -73.982738        40.761270   \n",
       "3 2012-04-21 04:30:42+00:00          7.7        -73.987130        40.733143   \n",
       "4 2010-03-09 07:51:00+00:00          5.3        -73.968095        40.768008   \n",
       "\n",
       "   dropoff_longitude  dropoff_latitude passenger_count  \n",
       "0         -73.841610         40.712278               1  \n",
       "1         -73.979268         40.782004               1  \n",
       "2         -73.991242         40.750562               2  \n",
       "3         -73.991567         40.758092               1  \n",
       "4         -73.956655         40.783762               1  "
      ]
     },
     "execution_count": 134,
     "metadata": {},
     "output_type": "execute_result"
    }
   ],
   "source": [
    "# we will Join 2 Dataframes pickup_datetime and train\n",
    "train = pd.merge(pickup_datetime,train,right_index=True,left_index=True)\n",
    "train.head()"
   ]
  },
  {
   "cell_type": "code",
   "execution_count": 135,
   "metadata": {},
   "outputs": [
    {
     "data": {
      "text/plain": [
       "(15661, 7)"
      ]
     },
     "execution_count": 135,
     "metadata": {},
     "output_type": "execute_result"
    }
   ],
   "source": [
    "train.shape"
   ]
  },
  {
   "cell_type": "code",
   "execution_count": 136,
   "metadata": {
    "scrolled": true
   },
   "outputs": [],
   "source": [
    "train=train.reset_index(drop=True)"
   ]
  },
  {
   "cell_type": "markdown",
   "metadata": {},
   "source": [
    "As we discussed in Missing value imputation step about dropping missing value, we will do it now."
   ]
  },
  {
   "cell_type": "code",
   "execution_count": 137,
   "metadata": {},
   "outputs": [
    {
     "data": {
      "text/html": [
       "<div>\n",
       "<style scoped>\n",
       "    .dataframe tbody tr th:only-of-type {\n",
       "        vertical-align: middle;\n",
       "    }\n",
       "\n",
       "    .dataframe tbody tr th {\n",
       "        vertical-align: top;\n",
       "    }\n",
       "\n",
       "    .dataframe thead th {\n",
       "        text-align: right;\n",
       "    }\n",
       "</style>\n",
       "<table border=\"1\" class=\"dataframe\">\n",
       "  <thead>\n",
       "    <tr style=\"text-align: right;\">\n",
       "      <th></th>\n",
       "      <th>0</th>\n",
       "    </tr>\n",
       "  </thead>\n",
       "  <tbody>\n",
       "    <tr>\n",
       "      <th>pickup_datetime</th>\n",
       "      <td>1</td>\n",
       "    </tr>\n",
       "    <tr>\n",
       "      <th>fare_amount</th>\n",
       "      <td>0</td>\n",
       "    </tr>\n",
       "    <tr>\n",
       "      <th>pickup_longitude</th>\n",
       "      <td>0</td>\n",
       "    </tr>\n",
       "    <tr>\n",
       "      <th>pickup_latitude</th>\n",
       "      <td>0</td>\n",
       "    </tr>\n",
       "    <tr>\n",
       "      <th>dropoff_longitude</th>\n",
       "      <td>0</td>\n",
       "    </tr>\n",
       "    <tr>\n",
       "      <th>dropoff_latitude</th>\n",
       "      <td>0</td>\n",
       "    </tr>\n",
       "    <tr>\n",
       "      <th>passenger_count</th>\n",
       "      <td>0</td>\n",
       "    </tr>\n",
       "  </tbody>\n",
       "</table>\n",
       "</div>"
      ],
      "text/plain": [
       "                   0\n",
       "pickup_datetime    1\n",
       "fare_amount        0\n",
       "pickup_longitude   0\n",
       "pickup_latitude    0\n",
       "dropoff_longitude  0\n",
       "dropoff_latitude   0\n",
       "passenger_count    0"
      ]
     },
     "execution_count": 137,
     "metadata": {},
     "output_type": "execute_result"
    }
   ],
   "source": [
    "pd.DataFrame(train.isna().sum())"
   ]
  },
  {
   "cell_type": "code",
   "execution_count": 138,
   "metadata": {},
   "outputs": [],
   "source": [
    "train=train.dropna()"
   ]
  },
  {
   "cell_type": "code",
   "execution_count": 139,
   "metadata": {},
   "outputs": [],
   "source": [
    "data = [train,test]\n",
    "for i in data:\n",
    "    i[\"year\"] = i[\"pickup_datetime\"].apply(lambda row: row.year)\n",
    "    i[\"month\"] = i[\"pickup_datetime\"].apply(lambda row: row.month)\n",
    "#     i[\"day_of_month\"] = i[\"pickup_datetime\"].apply(lambda row: row.day)\n",
    "    i[\"day_of_week\"] = i[\"pickup_datetime\"].apply(lambda row: row.dayofweek)\n",
    "    i[\"hour\"] = i[\"pickup_datetime\"].apply(lambda row: row.hour)"
   ]
  },
  {
   "cell_type": "code",
   "execution_count": 140,
   "metadata": {},
   "outputs": [],
   "source": [
    "train_nodummies=train.copy()\n",
    "# train=train_nodummies.copy()"
   ]
  },
  {
   "cell_type": "code",
   "execution_count": 141,
   "metadata": {},
   "outputs": [],
   "source": [
    "def f(x):\n",
    "    if (x >=5) and (x <= 11):\n",
    "        return 'morning'\n",
    "    elif (x >=12) and (x <=16 ):\n",
    "        return 'afternoon'\n",
    "    elif (x >= 17) and (x <= 20):\n",
    "        return'evening'\n",
    "    elif (x >=21) and (x <= 23) :\n",
    "        return 'night (PM)'\n",
    "    elif (x >=0) and (x <=4):\n",
    "        return'night (AM)'"
   ]
  },
  {
   "cell_type": "code",
   "execution_count": 142,
   "metadata": {},
   "outputs": [],
   "source": [
    "def g(x):\n",
    "    if (x >=3) and (x <= 5):\n",
    "        return 'spring'\n",
    "    elif (x >=6) and (x <=8 ):\n",
    "        return 'summer'\n",
    "    elif (x >= 9) and (x <= 11):\n",
    "        return'fall'\n",
    "    elif (x >=12)|(x <= 2) :\n",
    "        return 'winter'"
   ]
  },
  {
   "cell_type": "code",
   "execution_count": 143,
   "metadata": {},
   "outputs": [],
   "source": [
    "def h(x):\n",
    "    if (x >=0) and (x <= 4):\n",
    "        return 'weekday'\n",
    "    elif (x >=5) and (x <=6 ):\n",
    "        return 'weekend'"
   ]
  },
  {
   "cell_type": "code",
   "execution_count": 144,
   "metadata": {},
   "outputs": [],
   "source": [
    "train['session'] = train['hour'].apply(f)\n",
    "test['session'] = test['hour'].apply(f)\n",
    "# train_nodummies['session'] = train_nodummies['hour'].apply(f)"
   ]
  },
  {
   "cell_type": "code",
   "execution_count": 145,
   "metadata": {},
   "outputs": [],
   "source": [
    "train['seasons'] = train['month'].apply(g)\n",
    "test['seasons'] = test['month'].apply(g)\n",
    "# train['seasons'] = test['month'].apply(g)"
   ]
  },
  {
   "cell_type": "code",
   "execution_count": 146,
   "metadata": {},
   "outputs": [],
   "source": [
    "train['week'] = train['day_of_week'].apply(h)\n",
    "test['week'] = test['day_of_week'].apply(h)"
   ]
  },
  {
   "cell_type": "code",
   "execution_count": 147,
   "metadata": {},
   "outputs": [
    {
     "data": {
      "text/plain": [
       "(15660, 14)"
      ]
     },
     "execution_count": 147,
     "metadata": {},
     "output_type": "execute_result"
    }
   ],
   "source": [
    "train.shape"
   ]
  },
  {
   "cell_type": "code",
   "execution_count": 148,
   "metadata": {
    "scrolled": true
   },
   "outputs": [
    {
     "data": {
      "text/plain": [
       "(9914, 13)"
      ]
     },
     "execution_count": 148,
     "metadata": {},
     "output_type": "execute_result"
    }
   ],
   "source": [
    "test.shape"
   ]
  },
  {
   "cell_type": "markdown",
   "metadata": {},
   "source": [
    "#### 2.Feature Engineering for passenger_count variable\n",
    "- Because models in scikit learn require numerical input,if dataset contains categorical variables then we have to encode them.\n",
    "- We will use one hot encoding technique for passenger_count variable."
   ]
  },
  {
   "cell_type": "code",
   "execution_count": 149,
   "metadata": {},
   "outputs": [
    {
     "data": {
      "text/plain": [
       "count     15660\n",
       "unique        6\n",
       "top           1\n",
       "freq      11031\n",
       "Name: passenger_count, dtype: int64"
      ]
     },
     "execution_count": 149,
     "metadata": {},
     "output_type": "execute_result"
    }
   ],
   "source": [
    "train['passenger_count'].describe()"
   ]
  },
  {
   "cell_type": "code",
   "execution_count": 150,
   "metadata": {
    "scrolled": true
   },
   "outputs": [],
   "source": [
    "#Creating dummies for each variable in passenger_count and merging dummies dataframe to both train and test dataframe\n",
    "temp = pd.get_dummies(train['passenger_count'], prefix = 'passenger_count')\n",
    "train = train.join(temp)\n",
    "temp = pd.get_dummies(test['passenger_count'], prefix = 'passenger_count')\n",
    "test = test.join(temp)\n",
    "temp = pd.get_dummies(train['seasons'], prefix = 'season')\n",
    "train = train.join(temp)\n",
    "temp = pd.get_dummies(test['seasons'], prefix = 'season')\n",
    "test = test.join(temp)\n",
    "temp = pd.get_dummies(train['week'], prefix = 'week')\n",
    "train = train.join(temp)\n",
    "temp = pd.get_dummies(test['week'], prefix = 'week')\n",
    "test = test.join(temp)\n",
    "temp = pd.get_dummies(train['session'], prefix = 'session')\n",
    "train = train.join(temp)\n",
    "temp = pd.get_dummies(test['session'], prefix = 'session')\n",
    "test = test.join(temp)\n",
    "temp = pd.get_dummies(train['year'], prefix = 'year')\n",
    "train = train.join(temp)\n",
    "temp = pd.get_dummies(test['year'], prefix = 'year')\n",
    "test = test.join(temp)"
   ]
  },
  {
   "cell_type": "code",
   "execution_count": 153,
   "metadata": {},
   "outputs": [
    {
     "data": {
      "text/html": [
       "<div>\n",
       "<style scoped>\n",
       "    .dataframe tbody tr th:only-of-type {\n",
       "        vertical-align: middle;\n",
       "    }\n",
       "\n",
       "    .dataframe tbody tr th {\n",
       "        vertical-align: top;\n",
       "    }\n",
       "\n",
       "    .dataframe thead th {\n",
       "        text-align: right;\n",
       "    }\n",
       "</style>\n",
       "<table border=\"1\" class=\"dataframe\">\n",
       "  <thead>\n",
       "    <tr style=\"text-align: right;\">\n",
       "      <th></th>\n",
       "      <th>pickup_datetime</th>\n",
       "      <th>fare_amount</th>\n",
       "      <th>pickup_longitude</th>\n",
       "      <th>pickup_latitude</th>\n",
       "      <th>dropoff_longitude</th>\n",
       "      <th>dropoff_latitude</th>\n",
       "      <th>passenger_count</th>\n",
       "      <th>year</th>\n",
       "      <th>month</th>\n",
       "      <th>day_of_week</th>\n",
       "      <th>...</th>\n",
       "      <th>session_morning</th>\n",
       "      <th>session_night (AM)</th>\n",
       "      <th>session_night (PM)</th>\n",
       "      <th>year_2009</th>\n",
       "      <th>year_2010</th>\n",
       "      <th>year_2011</th>\n",
       "      <th>year_2012</th>\n",
       "      <th>year_2013</th>\n",
       "      <th>year_2014</th>\n",
       "      <th>year_2015</th>\n",
       "    </tr>\n",
       "  </thead>\n",
       "  <tbody>\n",
       "    <tr>\n",
       "      <th>0</th>\n",
       "      <td>2009-06-15 17:26:21+00:00</td>\n",
       "      <td>4.5</td>\n",
       "      <td>-73.844311</td>\n",
       "      <td>40.721319</td>\n",
       "      <td>-73.841610</td>\n",
       "      <td>40.712278</td>\n",
       "      <td>1</td>\n",
       "      <td>2009</td>\n",
       "      <td>6</td>\n",
       "      <td>0</td>\n",
       "      <td>...</td>\n",
       "      <td>0</td>\n",
       "      <td>0</td>\n",
       "      <td>0</td>\n",
       "      <td>1</td>\n",
       "      <td>0</td>\n",
       "      <td>0</td>\n",
       "      <td>0</td>\n",
       "      <td>0</td>\n",
       "      <td>0</td>\n",
       "      <td>0</td>\n",
       "    </tr>\n",
       "    <tr>\n",
       "      <th>1</th>\n",
       "      <td>2010-01-05 16:52:16+00:00</td>\n",
       "      <td>16.9</td>\n",
       "      <td>-74.016048</td>\n",
       "      <td>40.711303</td>\n",
       "      <td>-73.979268</td>\n",
       "      <td>40.782004</td>\n",
       "      <td>1</td>\n",
       "      <td>2010</td>\n",
       "      <td>1</td>\n",
       "      <td>1</td>\n",
       "      <td>...</td>\n",
       "      <td>0</td>\n",
       "      <td>0</td>\n",
       "      <td>0</td>\n",
       "      <td>0</td>\n",
       "      <td>1</td>\n",
       "      <td>0</td>\n",
       "      <td>0</td>\n",
       "      <td>0</td>\n",
       "      <td>0</td>\n",
       "      <td>0</td>\n",
       "    </tr>\n",
       "    <tr>\n",
       "      <th>2</th>\n",
       "      <td>2011-08-18 00:35:00+00:00</td>\n",
       "      <td>5.7</td>\n",
       "      <td>-73.982738</td>\n",
       "      <td>40.761270</td>\n",
       "      <td>-73.991242</td>\n",
       "      <td>40.750562</td>\n",
       "      <td>2</td>\n",
       "      <td>2011</td>\n",
       "      <td>8</td>\n",
       "      <td>3</td>\n",
       "      <td>...</td>\n",
       "      <td>0</td>\n",
       "      <td>1</td>\n",
       "      <td>0</td>\n",
       "      <td>0</td>\n",
       "      <td>0</td>\n",
       "      <td>1</td>\n",
       "      <td>0</td>\n",
       "      <td>0</td>\n",
       "      <td>0</td>\n",
       "      <td>0</td>\n",
       "    </tr>\n",
       "    <tr>\n",
       "      <th>3</th>\n",
       "      <td>2012-04-21 04:30:42+00:00</td>\n",
       "      <td>7.7</td>\n",
       "      <td>-73.987130</td>\n",
       "      <td>40.733143</td>\n",
       "      <td>-73.991567</td>\n",
       "      <td>40.758092</td>\n",
       "      <td>1</td>\n",
       "      <td>2012</td>\n",
       "      <td>4</td>\n",
       "      <td>5</td>\n",
       "      <td>...</td>\n",
       "      <td>0</td>\n",
       "      <td>1</td>\n",
       "      <td>0</td>\n",
       "      <td>0</td>\n",
       "      <td>0</td>\n",
       "      <td>0</td>\n",
       "      <td>1</td>\n",
       "      <td>0</td>\n",
       "      <td>0</td>\n",
       "      <td>0</td>\n",
       "    </tr>\n",
       "    <tr>\n",
       "      <th>4</th>\n",
       "      <td>2010-03-09 07:51:00+00:00</td>\n",
       "      <td>5.3</td>\n",
       "      <td>-73.968095</td>\n",
       "      <td>40.768008</td>\n",
       "      <td>-73.956655</td>\n",
       "      <td>40.783762</td>\n",
       "      <td>1</td>\n",
       "      <td>2010</td>\n",
       "      <td>3</td>\n",
       "      <td>1</td>\n",
       "      <td>...</td>\n",
       "      <td>1</td>\n",
       "      <td>0</td>\n",
       "      <td>0</td>\n",
       "      <td>0</td>\n",
       "      <td>1</td>\n",
       "      <td>0</td>\n",
       "      <td>0</td>\n",
       "      <td>0</td>\n",
       "      <td>0</td>\n",
       "      <td>0</td>\n",
       "    </tr>\n",
       "  </tbody>\n",
       "</table>\n",
       "<p>5 rows × 38 columns</p>\n",
       "</div>"
      ],
      "text/plain": [
       "            pickup_datetime  fare_amount  pickup_longitude  pickup_latitude  \\\n",
       "0 2009-06-15 17:26:21+00:00          4.5        -73.844311        40.721319   \n",
       "1 2010-01-05 16:52:16+00:00         16.9        -74.016048        40.711303   \n",
       "2 2011-08-18 00:35:00+00:00          5.7        -73.982738        40.761270   \n",
       "3 2012-04-21 04:30:42+00:00          7.7        -73.987130        40.733143   \n",
       "4 2010-03-09 07:51:00+00:00          5.3        -73.968095        40.768008   \n",
       "\n",
       "   dropoff_longitude  dropoff_latitude passenger_count  year  month  \\\n",
       "0         -73.841610         40.712278               1  2009      6   \n",
       "1         -73.979268         40.782004               1  2010      1   \n",
       "2         -73.991242         40.750562               2  2011      8   \n",
       "3         -73.991567         40.758092               1  2012      4   \n",
       "4         -73.956655         40.783762               1  2010      3   \n",
       "\n",
       "   day_of_week  ...  session_morning session_night (AM) session_night (PM)  \\\n",
       "0            0  ...                0                  0                  0   \n",
       "1            1  ...                0                  0                  0   \n",
       "2            3  ...                0                  1                  0   \n",
       "3            5  ...                0                  1                  0   \n",
       "4            1  ...                1                  0                  0   \n",
       "\n",
       "  year_2009  year_2010  year_2011  year_2012  year_2013  year_2014  year_2015  \n",
       "0         1          0          0          0          0          0          0  \n",
       "1         0          1          0          0          0          0          0  \n",
       "2         0          0          1          0          0          0          0  \n",
       "3         0          0          0          1          0          0          0  \n",
       "4         0          1          0          0          0          0          0  \n",
       "\n",
       "[5 rows x 38 columns]"
      ]
     },
     "execution_count": 153,
     "metadata": {},
     "output_type": "execute_result"
    }
   ],
   "source": [
    "train.head()"
   ]
  },
  {
   "cell_type": "code",
   "execution_count": 154,
   "metadata": {},
   "outputs": [
    {
     "data": {
      "text/html": [
       "<div>\n",
       "<style scoped>\n",
       "    .dataframe tbody tr th:only-of-type {\n",
       "        vertical-align: middle;\n",
       "    }\n",
       "\n",
       "    .dataframe tbody tr th {\n",
       "        vertical-align: top;\n",
       "    }\n",
       "\n",
       "    .dataframe thead th {\n",
       "        text-align: right;\n",
       "    }\n",
       "</style>\n",
       "<table border=\"1\" class=\"dataframe\">\n",
       "  <thead>\n",
       "    <tr style=\"text-align: right;\">\n",
       "      <th></th>\n",
       "      <th>pickup_datetime</th>\n",
       "      <th>pickup_longitude</th>\n",
       "      <th>pickup_latitude</th>\n",
       "      <th>dropoff_longitude</th>\n",
       "      <th>dropoff_latitude</th>\n",
       "      <th>passenger_count</th>\n",
       "      <th>year</th>\n",
       "      <th>month</th>\n",
       "      <th>day_of_week</th>\n",
       "      <th>hour</th>\n",
       "      <th>...</th>\n",
       "      <th>session_morning</th>\n",
       "      <th>session_night (AM)</th>\n",
       "      <th>session_night (PM)</th>\n",
       "      <th>year_2009</th>\n",
       "      <th>year_2010</th>\n",
       "      <th>year_2011</th>\n",
       "      <th>year_2012</th>\n",
       "      <th>year_2013</th>\n",
       "      <th>year_2014</th>\n",
       "      <th>year_2015</th>\n",
       "    </tr>\n",
       "  </thead>\n",
       "  <tbody>\n",
       "    <tr>\n",
       "      <th>0</th>\n",
       "      <td>2015-01-27 13:08:24+00:00</td>\n",
       "      <td>-73.973320</td>\n",
       "      <td>40.763805</td>\n",
       "      <td>-73.981430</td>\n",
       "      <td>40.743835</td>\n",
       "      <td>1</td>\n",
       "      <td>2015</td>\n",
       "      <td>1</td>\n",
       "      <td>1</td>\n",
       "      <td>13</td>\n",
       "      <td>...</td>\n",
       "      <td>0</td>\n",
       "      <td>0</td>\n",
       "      <td>0</td>\n",
       "      <td>0</td>\n",
       "      <td>0</td>\n",
       "      <td>0</td>\n",
       "      <td>0</td>\n",
       "      <td>0</td>\n",
       "      <td>0</td>\n",
       "      <td>1</td>\n",
       "    </tr>\n",
       "    <tr>\n",
       "      <th>1</th>\n",
       "      <td>2015-01-27 13:08:24+00:00</td>\n",
       "      <td>-73.986862</td>\n",
       "      <td>40.719383</td>\n",
       "      <td>-73.998886</td>\n",
       "      <td>40.739201</td>\n",
       "      <td>1</td>\n",
       "      <td>2015</td>\n",
       "      <td>1</td>\n",
       "      <td>1</td>\n",
       "      <td>13</td>\n",
       "      <td>...</td>\n",
       "      <td>0</td>\n",
       "      <td>0</td>\n",
       "      <td>0</td>\n",
       "      <td>0</td>\n",
       "      <td>0</td>\n",
       "      <td>0</td>\n",
       "      <td>0</td>\n",
       "      <td>0</td>\n",
       "      <td>0</td>\n",
       "      <td>1</td>\n",
       "    </tr>\n",
       "    <tr>\n",
       "      <th>2</th>\n",
       "      <td>2011-10-08 11:53:44+00:00</td>\n",
       "      <td>-73.982524</td>\n",
       "      <td>40.751260</td>\n",
       "      <td>-73.979654</td>\n",
       "      <td>40.746139</td>\n",
       "      <td>1</td>\n",
       "      <td>2011</td>\n",
       "      <td>10</td>\n",
       "      <td>5</td>\n",
       "      <td>11</td>\n",
       "      <td>...</td>\n",
       "      <td>1</td>\n",
       "      <td>0</td>\n",
       "      <td>0</td>\n",
       "      <td>0</td>\n",
       "      <td>0</td>\n",
       "      <td>1</td>\n",
       "      <td>0</td>\n",
       "      <td>0</td>\n",
       "      <td>0</td>\n",
       "      <td>0</td>\n",
       "    </tr>\n",
       "    <tr>\n",
       "      <th>3</th>\n",
       "      <td>2012-12-01 21:12:12+00:00</td>\n",
       "      <td>-73.981160</td>\n",
       "      <td>40.767807</td>\n",
       "      <td>-73.990448</td>\n",
       "      <td>40.751635</td>\n",
       "      <td>1</td>\n",
       "      <td>2012</td>\n",
       "      <td>12</td>\n",
       "      <td>5</td>\n",
       "      <td>21</td>\n",
       "      <td>...</td>\n",
       "      <td>0</td>\n",
       "      <td>0</td>\n",
       "      <td>1</td>\n",
       "      <td>0</td>\n",
       "      <td>0</td>\n",
       "      <td>0</td>\n",
       "      <td>1</td>\n",
       "      <td>0</td>\n",
       "      <td>0</td>\n",
       "      <td>0</td>\n",
       "    </tr>\n",
       "    <tr>\n",
       "      <th>4</th>\n",
       "      <td>2012-12-01 21:12:12+00:00</td>\n",
       "      <td>-73.966046</td>\n",
       "      <td>40.789775</td>\n",
       "      <td>-73.988565</td>\n",
       "      <td>40.744427</td>\n",
       "      <td>1</td>\n",
       "      <td>2012</td>\n",
       "      <td>12</td>\n",
       "      <td>5</td>\n",
       "      <td>21</td>\n",
       "      <td>...</td>\n",
       "      <td>0</td>\n",
       "      <td>0</td>\n",
       "      <td>1</td>\n",
       "      <td>0</td>\n",
       "      <td>0</td>\n",
       "      <td>0</td>\n",
       "      <td>1</td>\n",
       "      <td>0</td>\n",
       "      <td>0</td>\n",
       "      <td>0</td>\n",
       "    </tr>\n",
       "  </tbody>\n",
       "</table>\n",
       "<p>5 rows × 37 columns</p>\n",
       "</div>"
      ],
      "text/plain": [
       "            pickup_datetime  pickup_longitude  pickup_latitude  \\\n",
       "0 2015-01-27 13:08:24+00:00        -73.973320        40.763805   \n",
       "1 2015-01-27 13:08:24+00:00        -73.986862        40.719383   \n",
       "2 2011-10-08 11:53:44+00:00        -73.982524        40.751260   \n",
       "3 2012-12-01 21:12:12+00:00        -73.981160        40.767807   \n",
       "4 2012-12-01 21:12:12+00:00        -73.966046        40.789775   \n",
       "\n",
       "   dropoff_longitude  dropoff_latitude  passenger_count  year  month  \\\n",
       "0         -73.981430         40.743835                1  2015      1   \n",
       "1         -73.998886         40.739201                1  2015      1   \n",
       "2         -73.979654         40.746139                1  2011     10   \n",
       "3         -73.990448         40.751635                1  2012     12   \n",
       "4         -73.988565         40.744427                1  2012     12   \n",
       "\n",
       "   day_of_week  hour  ... session_morning session_night (AM)  \\\n",
       "0            1    13  ...               0                  0   \n",
       "1            1    13  ...               0                  0   \n",
       "2            5    11  ...               1                  0   \n",
       "3            5    21  ...               0                  0   \n",
       "4            5    21  ...               0                  0   \n",
       "\n",
       "  session_night (PM)  year_2009  year_2010  year_2011  year_2012  year_2013  \\\n",
       "0                  0          0          0          0          0          0   \n",
       "1                  0          0          0          0          0          0   \n",
       "2                  0          0          0          1          0          0   \n",
       "3                  1          0          0          0          1          0   \n",
       "4                  1          0          0          0          1          0   \n",
       "\n",
       "   year_2014  year_2015  \n",
       "0          0          1  \n",
       "1          0          1  \n",
       "2          0          0  \n",
       "3          0          0  \n",
       "4          0          0  \n",
       "\n",
       "[5 rows x 37 columns]"
      ]
     },
     "execution_count": 154,
     "metadata": {},
     "output_type": "execute_result"
    }
   ],
   "source": [
    "test.head()"
   ]
  },
  {
   "cell_type": "markdown",
   "metadata": {},
   "source": [
    "#### 3.Feature Engineering for latitude and longitude variable\n",
    "-  As we have latitude and longitude data for pickup and dropoff, we will find the distance the cab travelled from pickup and dropoff location."
   ]
  },
  {
   "cell_type": "code",
   "execution_count": null,
   "metadata": {
    "scrolled": false
   },
   "outputs": [],
   "source": [
    "# train.sort_values('pickup_datetime')"
   ]
  },
  {
   "cell_type": "code",
   "execution_count": 36,
   "metadata": {},
   "outputs": [],
   "source": [
    "# def haversine(coord1, coord2):\n",
    "#     '''Calculate distance the cab travelled from pickup and dropoff location using the Haversine Formula'''\n",
    "#     data = [train, test]\n",
    "#     for i in data:\n",
    "#         lon1, lat1 = coord1\n",
    "#         lon2, lat2 = coord2\n",
    "#         R = 6371000  # radius of Earth in meters\n",
    "#         phi_1 = np.radians(i[lat1])\n",
    "#         phi_2 = np.radians(i[lat2])\n",
    "#         delta_phi = np.radians(i[lat2] - i[lat1])\n",
    "#         delta_lambda = np.radians(i[lon2] - i[lon1])\n",
    "#         a = np.sin(delta_phi / 2.0) ** 2 + np.cos(phi_1) * np.cos(phi_2) * np.sin(delta_lambda / 2.0) ** 2\n",
    "#         c = 2 * np.arctan2(np.sqrt(a), np.sqrt(1 - a))\n",
    "#         meters = R * c  # output distance in meters\n",
    "#         km = meters / 1000.0  # output distance in kilometers\n",
    "#         miles = round(km, 3)/1.609344\n",
    "#         i['distance'] = miles\n",
    "# #     print(f\"Distance: {miles} miles\")\n",
    "# #     return miles"
   ]
  },
  {
   "cell_type": "code",
   "execution_count": 37,
   "metadata": {},
   "outputs": [],
   "source": [
    "# haversine(['pickup_longitude','pickup_latitude'],['dropoff_longitude','dropoff_latitude'])"
   ]
  },
  {
   "cell_type": "markdown",
   "metadata": {},
   "source": [
    "https://pypi.org/project/geopy/"
   ]
  },
  {
   "cell_type": "markdown",
   "metadata": {},
   "source": [
    "https://www.quora.com/What-is-the-best-way-to-treat-longitude-latitude-features-in-a-machine-learning-predictive-model"
   ]
  },
  {
   "cell_type": "markdown",
   "metadata": {},
   "source": [
    "https://community.esri.com/groups/coordinate-reference-systems/blog/2017/10/05/haversine-formula"
   ]
  },
  {
   "cell_type": "markdown",
   "metadata": {},
   "source": [
    "https://geopy.readthedocs.io/en/latest/#module-geopy.distance"
   ]
  },
  {
   "cell_type": "markdown",
   "metadata": {},
   "source": [
    "https://stackoverflow.com/questions/38248046/is-the-haversine-formula-or-the-vincentys-formula-better-for-calculating-distan"
   ]
  },
  {
   "cell_type": "code",
   "execution_count": 162,
   "metadata": {},
   "outputs": [],
   "source": [
    "# Calculate distance the cab travelled from pickup and dropoff location using great_circle from geopy library\n",
    "data = [train, test,train_nodummies]\n",
    "for i in data:\n",
    "    i['great_circle']=i.apply(lambda x: great_circle((x['pickup_latitude'],x['pickup_longitude']), (x['dropoff_latitude'],   x['dropoff_longitude'])).miles, axis=1)\n",
    "    i['geodesic']=i.apply(lambda x: geodesic((x['pickup_latitude'],x['pickup_longitude']), (x['dropoff_latitude'],   x['dropoff_longitude'])).miles, axis=1)"
   ]
  },
  {
   "cell_type": "code",
   "execution_count": 156,
   "metadata": {},
   "outputs": [
    {
     "data": {
      "text/html": [
       "<div>\n",
       "<style scoped>\n",
       "    .dataframe tbody tr th:only-of-type {\n",
       "        vertical-align: middle;\n",
       "    }\n",
       "\n",
       "    .dataframe tbody tr th {\n",
       "        vertical-align: top;\n",
       "    }\n",
       "\n",
       "    .dataframe thead th {\n",
       "        text-align: right;\n",
       "    }\n",
       "</style>\n",
       "<table border=\"1\" class=\"dataframe\">\n",
       "  <thead>\n",
       "    <tr style=\"text-align: right;\">\n",
       "      <th></th>\n",
       "      <th>pickup_datetime</th>\n",
       "      <th>fare_amount</th>\n",
       "      <th>pickup_longitude</th>\n",
       "      <th>pickup_latitude</th>\n",
       "      <th>dropoff_longitude</th>\n",
       "      <th>dropoff_latitude</th>\n",
       "      <th>passenger_count</th>\n",
       "      <th>year</th>\n",
       "      <th>month</th>\n",
       "      <th>day_of_week</th>\n",
       "      <th>...</th>\n",
       "      <th>session_night (PM)</th>\n",
       "      <th>year_2009</th>\n",
       "      <th>year_2010</th>\n",
       "      <th>year_2011</th>\n",
       "      <th>year_2012</th>\n",
       "      <th>year_2013</th>\n",
       "      <th>year_2014</th>\n",
       "      <th>year_2015</th>\n",
       "      <th>great_circle</th>\n",
       "      <th>geodesic</th>\n",
       "    </tr>\n",
       "  </thead>\n",
       "  <tbody>\n",
       "    <tr>\n",
       "      <th>0</th>\n",
       "      <td>2009-06-15 17:26:21+00:00</td>\n",
       "      <td>4.5</td>\n",
       "      <td>-73.844311</td>\n",
       "      <td>40.721319</td>\n",
       "      <td>-73.841610</td>\n",
       "      <td>40.712278</td>\n",
       "      <td>1</td>\n",
       "      <td>2009</td>\n",
       "      <td>6</td>\n",
       "      <td>0</td>\n",
       "      <td>...</td>\n",
       "      <td>0</td>\n",
       "      <td>1</td>\n",
       "      <td>0</td>\n",
       "      <td>0</td>\n",
       "      <td>0</td>\n",
       "      <td>0</td>\n",
       "      <td>0</td>\n",
       "      <td>0</td>\n",
       "      <td>0.640488</td>\n",
       "      <td>0.639764</td>\n",
       "    </tr>\n",
       "    <tr>\n",
       "      <th>1</th>\n",
       "      <td>2010-01-05 16:52:16+00:00</td>\n",
       "      <td>16.9</td>\n",
       "      <td>-74.016048</td>\n",
       "      <td>40.711303</td>\n",
       "      <td>-73.979268</td>\n",
       "      <td>40.782004</td>\n",
       "      <td>1</td>\n",
       "      <td>2010</td>\n",
       "      <td>1</td>\n",
       "      <td>1</td>\n",
       "      <td>...</td>\n",
       "      <td>0</td>\n",
       "      <td>0</td>\n",
       "      <td>1</td>\n",
       "      <td>0</td>\n",
       "      <td>0</td>\n",
       "      <td>0</td>\n",
       "      <td>0</td>\n",
       "      <td>0</td>\n",
       "      <td>5.250677</td>\n",
       "      <td>5.246511</td>\n",
       "    </tr>\n",
       "    <tr>\n",
       "      <th>2</th>\n",
       "      <td>2011-08-18 00:35:00+00:00</td>\n",
       "      <td>5.7</td>\n",
       "      <td>-73.982738</td>\n",
       "      <td>40.761270</td>\n",
       "      <td>-73.991242</td>\n",
       "      <td>40.750562</td>\n",
       "      <td>2</td>\n",
       "      <td>2011</td>\n",
       "      <td>8</td>\n",
       "      <td>3</td>\n",
       "      <td>...</td>\n",
       "      <td>0</td>\n",
       "      <td>0</td>\n",
       "      <td>0</td>\n",
       "      <td>1</td>\n",
       "      <td>0</td>\n",
       "      <td>0</td>\n",
       "      <td>0</td>\n",
       "      <td>0</td>\n",
       "      <td>0.863412</td>\n",
       "      <td>0.863167</td>\n",
       "    </tr>\n",
       "    <tr>\n",
       "      <th>3</th>\n",
       "      <td>2012-04-21 04:30:42+00:00</td>\n",
       "      <td>7.7</td>\n",
       "      <td>-73.987130</td>\n",
       "      <td>40.733143</td>\n",
       "      <td>-73.991567</td>\n",
       "      <td>40.758092</td>\n",
       "      <td>1</td>\n",
       "      <td>2012</td>\n",
       "      <td>4</td>\n",
       "      <td>5</td>\n",
       "      <td>...</td>\n",
       "      <td>0</td>\n",
       "      <td>0</td>\n",
       "      <td>0</td>\n",
       "      <td>0</td>\n",
       "      <td>1</td>\n",
       "      <td>0</td>\n",
       "      <td>0</td>\n",
       "      <td>0</td>\n",
       "      <td>1.739388</td>\n",
       "      <td>1.737223</td>\n",
       "    </tr>\n",
       "    <tr>\n",
       "      <th>4</th>\n",
       "      <td>2010-03-09 07:51:00+00:00</td>\n",
       "      <td>5.3</td>\n",
       "      <td>-73.968095</td>\n",
       "      <td>40.768008</td>\n",
       "      <td>-73.956655</td>\n",
       "      <td>40.783762</td>\n",
       "      <td>1</td>\n",
       "      <td>2010</td>\n",
       "      <td>3</td>\n",
       "      <td>1</td>\n",
       "      <td>...</td>\n",
       "      <td>0</td>\n",
       "      <td>0</td>\n",
       "      <td>1</td>\n",
       "      <td>0</td>\n",
       "      <td>0</td>\n",
       "      <td>0</td>\n",
       "      <td>0</td>\n",
       "      <td>0</td>\n",
       "      <td>1.242220</td>\n",
       "      <td>1.241710</td>\n",
       "    </tr>\n",
       "  </tbody>\n",
       "</table>\n",
       "<p>5 rows × 40 columns</p>\n",
       "</div>"
      ],
      "text/plain": [
       "            pickup_datetime  fare_amount  pickup_longitude  pickup_latitude  \\\n",
       "0 2009-06-15 17:26:21+00:00          4.5        -73.844311        40.721319   \n",
       "1 2010-01-05 16:52:16+00:00         16.9        -74.016048        40.711303   \n",
       "2 2011-08-18 00:35:00+00:00          5.7        -73.982738        40.761270   \n",
       "3 2012-04-21 04:30:42+00:00          7.7        -73.987130        40.733143   \n",
       "4 2010-03-09 07:51:00+00:00          5.3        -73.968095        40.768008   \n",
       "\n",
       "   dropoff_longitude  dropoff_latitude passenger_count  year  month  \\\n",
       "0         -73.841610         40.712278               1  2009      6   \n",
       "1         -73.979268         40.782004               1  2010      1   \n",
       "2         -73.991242         40.750562               2  2011      8   \n",
       "3         -73.991567         40.758092               1  2012      4   \n",
       "4         -73.956655         40.783762               1  2010      3   \n",
       "\n",
       "   day_of_week  ...  session_night (PM) year_2009 year_2010 year_2011  \\\n",
       "0            0  ...                   0         1         0         0   \n",
       "1            1  ...                   0         0         1         0   \n",
       "2            3  ...                   0         0         0         1   \n",
       "3            5  ...                   0         0         0         0   \n",
       "4            1  ...                   0         0         1         0   \n",
       "\n",
       "   year_2012  year_2013  year_2014  year_2015  great_circle  geodesic  \n",
       "0          0          0          0          0      0.640488  0.639764  \n",
       "1          0          0          0          0      5.250677  5.246511  \n",
       "2          0          0          0          0      0.863412  0.863167  \n",
       "3          1          0          0          0      1.739388  1.737223  \n",
       "4          0          0          0          0      1.242220  1.241710  \n",
       "\n",
       "[5 rows x 40 columns]"
      ]
     },
     "execution_count": 156,
     "metadata": {},
     "output_type": "execute_result"
    }
   ],
   "source": [
    "train.head()"
   ]
  },
  {
   "cell_type": "code",
   "execution_count": 157,
   "metadata": {},
   "outputs": [
    {
     "data": {
      "text/html": [
       "<div>\n",
       "<style scoped>\n",
       "    .dataframe tbody tr th:only-of-type {\n",
       "        vertical-align: middle;\n",
       "    }\n",
       "\n",
       "    .dataframe tbody tr th {\n",
       "        vertical-align: top;\n",
       "    }\n",
       "\n",
       "    .dataframe thead th {\n",
       "        text-align: right;\n",
       "    }\n",
       "</style>\n",
       "<table border=\"1\" class=\"dataframe\">\n",
       "  <thead>\n",
       "    <tr style=\"text-align: right;\">\n",
       "      <th></th>\n",
       "      <th>pickup_datetime</th>\n",
       "      <th>pickup_longitude</th>\n",
       "      <th>pickup_latitude</th>\n",
       "      <th>dropoff_longitude</th>\n",
       "      <th>dropoff_latitude</th>\n",
       "      <th>passenger_count</th>\n",
       "      <th>year</th>\n",
       "      <th>month</th>\n",
       "      <th>day_of_week</th>\n",
       "      <th>hour</th>\n",
       "      <th>...</th>\n",
       "      <th>session_night (PM)</th>\n",
       "      <th>year_2009</th>\n",
       "      <th>year_2010</th>\n",
       "      <th>year_2011</th>\n",
       "      <th>year_2012</th>\n",
       "      <th>year_2013</th>\n",
       "      <th>year_2014</th>\n",
       "      <th>year_2015</th>\n",
       "      <th>great_circle</th>\n",
       "      <th>geodesic</th>\n",
       "    </tr>\n",
       "  </thead>\n",
       "  <tbody>\n",
       "    <tr>\n",
       "      <th>0</th>\n",
       "      <td>2015-01-27 13:08:24+00:00</td>\n",
       "      <td>-73.973320</td>\n",
       "      <td>40.763805</td>\n",
       "      <td>-73.981430</td>\n",
       "      <td>40.743835</td>\n",
       "      <td>1</td>\n",
       "      <td>2015</td>\n",
       "      <td>1</td>\n",
       "      <td>1</td>\n",
       "      <td>13</td>\n",
       "      <td>...</td>\n",
       "      <td>0</td>\n",
       "      <td>0</td>\n",
       "      <td>0</td>\n",
       "      <td>0</td>\n",
       "      <td>0</td>\n",
       "      <td>0</td>\n",
       "      <td>0</td>\n",
       "      <td>1</td>\n",
       "      <td>1.443609</td>\n",
       "      <td>1.442197</td>\n",
       "    </tr>\n",
       "    <tr>\n",
       "      <th>1</th>\n",
       "      <td>2015-01-27 13:08:24+00:00</td>\n",
       "      <td>-73.986862</td>\n",
       "      <td>40.719383</td>\n",
       "      <td>-73.998886</td>\n",
       "      <td>40.739201</td>\n",
       "      <td>1</td>\n",
       "      <td>2015</td>\n",
       "      <td>1</td>\n",
       "      <td>1</td>\n",
       "      <td>13</td>\n",
       "      <td>...</td>\n",
       "      <td>0</td>\n",
       "      <td>0</td>\n",
       "      <td>0</td>\n",
       "      <td>0</td>\n",
       "      <td>0</td>\n",
       "      <td>0</td>\n",
       "      <td>0</td>\n",
       "      <td>1</td>\n",
       "      <td>1.507047</td>\n",
       "      <td>1.506080</td>\n",
       "    </tr>\n",
       "    <tr>\n",
       "      <th>2</th>\n",
       "      <td>2011-10-08 11:53:44+00:00</td>\n",
       "      <td>-73.982524</td>\n",
       "      <td>40.751260</td>\n",
       "      <td>-73.979654</td>\n",
       "      <td>40.746139</td>\n",
       "      <td>1</td>\n",
       "      <td>2011</td>\n",
       "      <td>10</td>\n",
       "      <td>5</td>\n",
       "      <td>11</td>\n",
       "      <td>...</td>\n",
       "      <td>0</td>\n",
       "      <td>0</td>\n",
       "      <td>0</td>\n",
       "      <td>1</td>\n",
       "      <td>0</td>\n",
       "      <td>0</td>\n",
       "      <td>0</td>\n",
       "      <td>0</td>\n",
       "      <td>0.384398</td>\n",
       "      <td>0.384120</td>\n",
       "    </tr>\n",
       "    <tr>\n",
       "      <th>3</th>\n",
       "      <td>2012-12-01 21:12:12+00:00</td>\n",
       "      <td>-73.981160</td>\n",
       "      <td>40.767807</td>\n",
       "      <td>-73.990448</td>\n",
       "      <td>40.751635</td>\n",
       "      <td>1</td>\n",
       "      <td>2012</td>\n",
       "      <td>12</td>\n",
       "      <td>5</td>\n",
       "      <td>21</td>\n",
       "      <td>...</td>\n",
       "      <td>1</td>\n",
       "      <td>0</td>\n",
       "      <td>0</td>\n",
       "      <td>0</td>\n",
       "      <td>1</td>\n",
       "      <td>0</td>\n",
       "      <td>0</td>\n",
       "      <td>0</td>\n",
       "      <td>1.218531</td>\n",
       "      <td>1.217683</td>\n",
       "    </tr>\n",
       "    <tr>\n",
       "      <th>4</th>\n",
       "      <td>2012-12-01 21:12:12+00:00</td>\n",
       "      <td>-73.966046</td>\n",
       "      <td>40.789775</td>\n",
       "      <td>-73.988565</td>\n",
       "      <td>40.744427</td>\n",
       "      <td>1</td>\n",
       "      <td>2012</td>\n",
       "      <td>12</td>\n",
       "      <td>5</td>\n",
       "      <td>21</td>\n",
       "      <td>...</td>\n",
       "      <td>1</td>\n",
       "      <td>0</td>\n",
       "      <td>0</td>\n",
       "      <td>0</td>\n",
       "      <td>1</td>\n",
       "      <td>0</td>\n",
       "      <td>0</td>\n",
       "      <td>0</td>\n",
       "      <td>3.347519</td>\n",
       "      <td>3.344737</td>\n",
       "    </tr>\n",
       "  </tbody>\n",
       "</table>\n",
       "<p>5 rows × 39 columns</p>\n",
       "</div>"
      ],
      "text/plain": [
       "            pickup_datetime  pickup_longitude  pickup_latitude  \\\n",
       "0 2015-01-27 13:08:24+00:00        -73.973320        40.763805   \n",
       "1 2015-01-27 13:08:24+00:00        -73.986862        40.719383   \n",
       "2 2011-10-08 11:53:44+00:00        -73.982524        40.751260   \n",
       "3 2012-12-01 21:12:12+00:00        -73.981160        40.767807   \n",
       "4 2012-12-01 21:12:12+00:00        -73.966046        40.789775   \n",
       "\n",
       "   dropoff_longitude  dropoff_latitude  passenger_count  year  month  \\\n",
       "0         -73.981430         40.743835                1  2015      1   \n",
       "1         -73.998886         40.739201                1  2015      1   \n",
       "2         -73.979654         40.746139                1  2011     10   \n",
       "3         -73.990448         40.751635                1  2012     12   \n",
       "4         -73.988565         40.744427                1  2012     12   \n",
       "\n",
       "   day_of_week  hour  ... session_night (PM) year_2009 year_2010  year_2011  \\\n",
       "0            1    13  ...                  0         0         0          0   \n",
       "1            1    13  ...                  0         0         0          0   \n",
       "2            5    11  ...                  0         0         0          1   \n",
       "3            5    21  ...                  1         0         0          0   \n",
       "4            5    21  ...                  1         0         0          0   \n",
       "\n",
       "   year_2012  year_2013  year_2014  year_2015  great_circle  geodesic  \n",
       "0          0          0          0          1      1.443609  1.442197  \n",
       "1          0          0          0          1      1.507047  1.506080  \n",
       "2          0          0          0          0      0.384398  0.384120  \n",
       "3          1          0          0          0      1.218531  1.217683  \n",
       "4          1          0          0          0      3.347519  3.344737  \n",
       "\n",
       "[5 rows x 39 columns]"
      ]
     },
     "execution_count": 157,
     "metadata": {},
     "output_type": "execute_result"
    }
   ],
   "source": [
    "test.head()"
   ]
  },
  {
   "cell_type": "markdown",
   "metadata": {},
   "source": [
    "As Vincenty is more accurate than haversine. Also vincenty is prefered for short distances.Therefore we will drop distance and great_circle. we will drop them together with other variables which were used to feature engineer."
   ]
  },
  {
   "cell_type": "markdown",
   "metadata": {},
   "source": [
    "As we discussed in Missing value imputation step about dropping missing value, we will do it now."
   ]
  },
  {
   "cell_type": "code",
   "execution_count": 158,
   "metadata": {
    "scrolled": true
   },
   "outputs": [
    {
     "data": {
      "text/html": [
       "<div>\n",
       "<style scoped>\n",
       "    .dataframe tbody tr th:only-of-type {\n",
       "        vertical-align: middle;\n",
       "    }\n",
       "\n",
       "    .dataframe tbody tr th {\n",
       "        vertical-align: top;\n",
       "    }\n",
       "\n",
       "    .dataframe thead th {\n",
       "        text-align: right;\n",
       "    }\n",
       "</style>\n",
       "<table border=\"1\" class=\"dataframe\">\n",
       "  <thead>\n",
       "    <tr style=\"text-align: right;\">\n",
       "      <th></th>\n",
       "      <th>0</th>\n",
       "    </tr>\n",
       "  </thead>\n",
       "  <tbody>\n",
       "    <tr>\n",
       "      <th>pickup_datetime</th>\n",
       "      <td>0</td>\n",
       "    </tr>\n",
       "    <tr>\n",
       "      <th>fare_amount</th>\n",
       "      <td>0</td>\n",
       "    </tr>\n",
       "    <tr>\n",
       "      <th>pickup_longitude</th>\n",
       "      <td>0</td>\n",
       "    </tr>\n",
       "    <tr>\n",
       "      <th>pickup_latitude</th>\n",
       "      <td>0</td>\n",
       "    </tr>\n",
       "    <tr>\n",
       "      <th>dropoff_longitude</th>\n",
       "      <td>0</td>\n",
       "    </tr>\n",
       "    <tr>\n",
       "      <th>dropoff_latitude</th>\n",
       "      <td>0</td>\n",
       "    </tr>\n",
       "    <tr>\n",
       "      <th>passenger_count</th>\n",
       "      <td>0</td>\n",
       "    </tr>\n",
       "    <tr>\n",
       "      <th>year</th>\n",
       "      <td>0</td>\n",
       "    </tr>\n",
       "    <tr>\n",
       "      <th>month</th>\n",
       "      <td>0</td>\n",
       "    </tr>\n",
       "    <tr>\n",
       "      <th>day_of_week</th>\n",
       "      <td>0</td>\n",
       "    </tr>\n",
       "    <tr>\n",
       "      <th>hour</th>\n",
       "      <td>0</td>\n",
       "    </tr>\n",
       "    <tr>\n",
       "      <th>session</th>\n",
       "      <td>0</td>\n",
       "    </tr>\n",
       "    <tr>\n",
       "      <th>seasons</th>\n",
       "      <td>0</td>\n",
       "    </tr>\n",
       "    <tr>\n",
       "      <th>week</th>\n",
       "      <td>0</td>\n",
       "    </tr>\n",
       "    <tr>\n",
       "      <th>passenger_count_1</th>\n",
       "      <td>0</td>\n",
       "    </tr>\n",
       "    <tr>\n",
       "      <th>passenger_count_2</th>\n",
       "      <td>0</td>\n",
       "    </tr>\n",
       "    <tr>\n",
       "      <th>passenger_count_3</th>\n",
       "      <td>0</td>\n",
       "    </tr>\n",
       "    <tr>\n",
       "      <th>passenger_count_4</th>\n",
       "      <td>0</td>\n",
       "    </tr>\n",
       "    <tr>\n",
       "      <th>passenger_count_5</th>\n",
       "      <td>0</td>\n",
       "    </tr>\n",
       "    <tr>\n",
       "      <th>passenger_count_6</th>\n",
       "      <td>0</td>\n",
       "    </tr>\n",
       "    <tr>\n",
       "      <th>season_fall</th>\n",
       "      <td>0</td>\n",
       "    </tr>\n",
       "    <tr>\n",
       "      <th>season_spring</th>\n",
       "      <td>0</td>\n",
       "    </tr>\n",
       "    <tr>\n",
       "      <th>season_summer</th>\n",
       "      <td>0</td>\n",
       "    </tr>\n",
       "    <tr>\n",
       "      <th>season_winter</th>\n",
       "      <td>0</td>\n",
       "    </tr>\n",
       "    <tr>\n",
       "      <th>week_weekday</th>\n",
       "      <td>0</td>\n",
       "    </tr>\n",
       "    <tr>\n",
       "      <th>week_weekend</th>\n",
       "      <td>0</td>\n",
       "    </tr>\n",
       "    <tr>\n",
       "      <th>session_afternoon</th>\n",
       "      <td>0</td>\n",
       "    </tr>\n",
       "    <tr>\n",
       "      <th>session_evening</th>\n",
       "      <td>0</td>\n",
       "    </tr>\n",
       "    <tr>\n",
       "      <th>session_morning</th>\n",
       "      <td>0</td>\n",
       "    </tr>\n",
       "    <tr>\n",
       "      <th>session_night (AM)</th>\n",
       "      <td>0</td>\n",
       "    </tr>\n",
       "    <tr>\n",
       "      <th>session_night (PM)</th>\n",
       "      <td>0</td>\n",
       "    </tr>\n",
       "    <tr>\n",
       "      <th>year_2009</th>\n",
       "      <td>0</td>\n",
       "    </tr>\n",
       "    <tr>\n",
       "      <th>year_2010</th>\n",
       "      <td>0</td>\n",
       "    </tr>\n",
       "    <tr>\n",
       "      <th>year_2011</th>\n",
       "      <td>0</td>\n",
       "    </tr>\n",
       "    <tr>\n",
       "      <th>year_2012</th>\n",
       "      <td>0</td>\n",
       "    </tr>\n",
       "    <tr>\n",
       "      <th>year_2013</th>\n",
       "      <td>0</td>\n",
       "    </tr>\n",
       "    <tr>\n",
       "      <th>year_2014</th>\n",
       "      <td>0</td>\n",
       "    </tr>\n",
       "    <tr>\n",
       "      <th>year_2015</th>\n",
       "      <td>0</td>\n",
       "    </tr>\n",
       "    <tr>\n",
       "      <th>great_circle</th>\n",
       "      <td>0</td>\n",
       "    </tr>\n",
       "    <tr>\n",
       "      <th>geodesic</th>\n",
       "      <td>0</td>\n",
       "    </tr>\n",
       "  </tbody>\n",
       "</table>\n",
       "</div>"
      ],
      "text/plain": [
       "                    0\n",
       "pickup_datetime     0\n",
       "fare_amount         0\n",
       "pickup_longitude    0\n",
       "pickup_latitude     0\n",
       "dropoff_longitude   0\n",
       "dropoff_latitude    0\n",
       "passenger_count     0\n",
       "year                0\n",
       "month               0\n",
       "day_of_week         0\n",
       "hour                0\n",
       "session             0\n",
       "seasons             0\n",
       "week                0\n",
       "passenger_count_1   0\n",
       "passenger_count_2   0\n",
       "passenger_count_3   0\n",
       "passenger_count_4   0\n",
       "passenger_count_5   0\n",
       "passenger_count_6   0\n",
       "season_fall         0\n",
       "season_spring       0\n",
       "season_summer       0\n",
       "season_winter       0\n",
       "week_weekday        0\n",
       "week_weekend        0\n",
       "session_afternoon   0\n",
       "session_evening     0\n",
       "session_morning     0\n",
       "session_night (AM)  0\n",
       "session_night (PM)  0\n",
       "year_2009           0\n",
       "year_2010           0\n",
       "year_2011           0\n",
       "year_2012           0\n",
       "year_2013           0\n",
       "year_2014           0\n",
       "year_2015           0\n",
       "great_circle        0\n",
       "geodesic            0"
      ]
     },
     "execution_count": 158,
     "metadata": {},
     "output_type": "execute_result"
    }
   ],
   "source": [
    "pd.DataFrame(train.isna().sum())"
   ]
  },
  {
   "cell_type": "code",
   "execution_count": 159,
   "metadata": {},
   "outputs": [
    {
     "data": {
      "text/html": [
       "<div>\n",
       "<style scoped>\n",
       "    .dataframe tbody tr th:only-of-type {\n",
       "        vertical-align: middle;\n",
       "    }\n",
       "\n",
       "    .dataframe tbody tr th {\n",
       "        vertical-align: top;\n",
       "    }\n",
       "\n",
       "    .dataframe thead th {\n",
       "        text-align: right;\n",
       "    }\n",
       "</style>\n",
       "<table border=\"1\" class=\"dataframe\">\n",
       "  <thead>\n",
       "    <tr style=\"text-align: right;\">\n",
       "      <th></th>\n",
       "      <th>0</th>\n",
       "    </tr>\n",
       "  </thead>\n",
       "  <tbody>\n",
       "    <tr>\n",
       "      <th>pickup_datetime</th>\n",
       "      <td>0</td>\n",
       "    </tr>\n",
       "    <tr>\n",
       "      <th>fare_amount</th>\n",
       "      <td>0</td>\n",
       "    </tr>\n",
       "    <tr>\n",
       "      <th>pickup_longitude</th>\n",
       "      <td>0</td>\n",
       "    </tr>\n",
       "    <tr>\n",
       "      <th>pickup_latitude</th>\n",
       "      <td>0</td>\n",
       "    </tr>\n",
       "    <tr>\n",
       "      <th>dropoff_longitude</th>\n",
       "      <td>0</td>\n",
       "    </tr>\n",
       "    <tr>\n",
       "      <th>dropoff_latitude</th>\n",
       "      <td>0</td>\n",
       "    </tr>\n",
       "    <tr>\n",
       "      <th>passenger_count</th>\n",
       "      <td>0</td>\n",
       "    </tr>\n",
       "    <tr>\n",
       "      <th>year</th>\n",
       "      <td>0</td>\n",
       "    </tr>\n",
       "    <tr>\n",
       "      <th>month</th>\n",
       "      <td>0</td>\n",
       "    </tr>\n",
       "    <tr>\n",
       "      <th>day_of_week</th>\n",
       "      <td>0</td>\n",
       "    </tr>\n",
       "    <tr>\n",
       "      <th>hour</th>\n",
       "      <td>0</td>\n",
       "    </tr>\n",
       "  </tbody>\n",
       "</table>\n",
       "</div>"
      ],
      "text/plain": [
       "                   0\n",
       "pickup_datetime    0\n",
       "fare_amount        0\n",
       "pickup_longitude   0\n",
       "pickup_latitude    0\n",
       "dropoff_longitude  0\n",
       "dropoff_latitude   0\n",
       "passenger_count    0\n",
       "year               0\n",
       "month              0\n",
       "day_of_week        0\n",
       "hour               0"
      ]
     },
     "execution_count": 159,
     "metadata": {},
     "output_type": "execute_result"
    }
   ],
   "source": [
    "pd.DataFrame(train_nodummies.isna().sum())"
   ]
  },
  {
   "cell_type": "markdown",
   "metadata": {},
   "source": [
    "#### We will remove the variables which were used to feature engineer new variables"
   ]
  },
  {
   "cell_type": "code",
   "execution_count": 164,
   "metadata": {},
   "outputs": [],
   "source": [
    "train_nodummies=train_nodummies.drop(['pickup_datetime','pickup_longitude', 'pickup_latitude',\n",
    "       'dropoff_longitude', 'dropoff_latitude','great_circle'],axis = 1)\n",
    "test_nodummies=test.drop(['pickup_datetime','pickup_longitude', 'pickup_latitude',\n",
    "       'dropoff_longitude', 'dropoff_latitude','passenger_count_1', 'passenger_count_2', 'passenger_count_3',\n",
    "       'passenger_count_4', 'passenger_count_5', 'passenger_count_6',\n",
    "       'season_fall', 'season_spring', 'season_summer', 'season_winter',\n",
    "       'week_weekday', 'week_weekend', 'session_afternoon', 'session_evening',\n",
    "       'session_morning', 'session_night (AM)', 'session_night (PM)',\n",
    "       'year_2009', 'year_2010', 'year_2011', 'year_2012', 'year_2013',\n",
    "       'year_2014', 'year_2015', 'great_circle'],axis = 1)"
   ]
  },
  {
   "cell_type": "code",
   "execution_count": 166,
   "metadata": {},
   "outputs": [
    {
     "data": {
      "text/plain": [
       "((15660, 7), (9914, 9))"
      ]
     },
     "execution_count": 166,
     "metadata": {},
     "output_type": "execute_result"
    }
   ],
   "source": [
    "train_nodummies.shape,test_nodummies.shape"
   ]
  },
  {
   "cell_type": "code",
   "execution_count": 165,
   "metadata": {},
   "outputs": [],
   "source": [
    "train=train.drop(['pickup_datetime','pickup_longitude', 'pickup_latitude',\n",
    "       'dropoff_longitude', 'dropoff_latitude', 'passenger_count', 'year',\n",
    "       'month', 'day_of_week', 'hour', 'session', 'seasons', 'week','great_circle'],axis=1)\n",
    "test=test.drop(['pickup_datetime','pickup_longitude', 'pickup_latitude',\n",
    "       'dropoff_longitude', 'dropoff_latitude', 'passenger_count', 'year',\n",
    "       'month', 'day_of_week', 'hour', 'session', 'seasons', 'week','great_circle'],axis=1)"
   ]
  },
  {
   "cell_type": "code",
   "execution_count": 167,
   "metadata": {},
   "outputs": [
    {
     "data": {
      "text/plain": [
       "((15660, 26), (9914, 25))"
      ]
     },
     "execution_count": 167,
     "metadata": {},
     "output_type": "execute_result"
    }
   ],
   "source": [
    "train.shape,test.shape"
   ]
  },
  {
   "cell_type": "code",
   "execution_count": 70,
   "metadata": {},
   "outputs": [],
   "source": [
    "# train = train.drop(['pickup_datetime','pickup_longitude','pickup_latitude','dropoff_longitude','dropoff_latitude','great_circle','passenger_count','year',\n",
    "#        'month', 'day_of_week', 'hour', 'session', 'seasons', 'week'],axis = 1)\n",
    "# test = test.drop(['pickup_datetime','pickup_longitude','pickup_latitude','dropoff_longitude','dropoff_latitude','great_circle','passenger_count','year',\n",
    "#        'month', 'day_of_week', 'hour', 'session', 'seasons', 'week'],axis = 1)\n",
    "# # train = train.drop(['pickup_datetime'],axis = 1),'passenger_count'"
   ]
  },
  {
   "cell_type": "code",
   "execution_count": 168,
   "metadata": {},
   "outputs": [
    {
     "data": {
      "text/plain": [
       "Index(['passenger_count', 'year', 'month', 'day_of_week', 'hour', 'session',\n",
       "       'seasons', 'week', 'geodesic'],\n",
       "      dtype='object')"
      ]
     },
     "execution_count": 168,
     "metadata": {},
     "output_type": "execute_result"
    }
   ],
   "source": [
    "test_nodummies.columns"
   ]
  },
  {
   "cell_type": "code",
   "execution_count": 169,
   "metadata": {
    "scrolled": true
   },
   "outputs": [
    {
     "data": {
      "text/plain": [
       "Index(['fare_amount', 'passenger_count', 'year', 'month', 'day_of_week',\n",
       "       'hour', 'geodesic'],\n",
       "      dtype='object')"
      ]
     },
     "execution_count": 169,
     "metadata": {},
     "output_type": "execute_result"
    }
   ],
   "source": [
    "train_nodummies.columns"
   ]
  },
  {
   "cell_type": "code",
   "execution_count": 170,
   "metadata": {},
   "outputs": [
    {
     "data": {
      "text/plain": [
       "Index(['fare_amount', 'passenger_count_1', 'passenger_count_2',\n",
       "       'passenger_count_3', 'passenger_count_4', 'passenger_count_5',\n",
       "       'passenger_count_6', 'season_fall', 'season_spring', 'season_summer',\n",
       "       'season_winter', 'week_weekday', 'week_weekend', 'session_afternoon',\n",
       "       'session_evening', 'session_morning', 'session_night (AM)',\n",
       "       'session_night (PM)', 'year_2009', 'year_2010', 'year_2011',\n",
       "       'year_2012', 'year_2013', 'year_2014', 'year_2015', 'geodesic'],\n",
       "      dtype='object')"
      ]
     },
     "execution_count": 170,
     "metadata": {},
     "output_type": "execute_result"
    }
   ],
   "source": [
    "train.columns"
   ]
  },
  {
   "cell_type": "code",
   "execution_count": 171,
   "metadata": {},
   "outputs": [
    {
     "data": {
      "text/plain": [
       "Index(['passenger_count_1', 'passenger_count_2', 'passenger_count_3',\n",
       "       'passenger_count_4', 'passenger_count_5', 'passenger_count_6',\n",
       "       'season_fall', 'season_spring', 'season_summer', 'season_winter',\n",
       "       'week_weekday', 'week_weekend', 'session_afternoon', 'session_evening',\n",
       "       'session_morning', 'session_night (AM)', 'session_night (PM)',\n",
       "       'year_2009', 'year_2010', 'year_2011', 'year_2012', 'year_2013',\n",
       "       'year_2014', 'year_2015', 'geodesic'],\n",
       "      dtype='object')"
      ]
     },
     "execution_count": 171,
     "metadata": {},
     "output_type": "execute_result"
    }
   ],
   "source": [
    "test.columns"
   ]
  },
  {
   "cell_type": "code",
   "execution_count": 172,
   "metadata": {},
   "outputs": [
    {
     "data": {
      "text/html": [
       "<div>\n",
       "<style scoped>\n",
       "    .dataframe tbody tr th:only-of-type {\n",
       "        vertical-align: middle;\n",
       "    }\n",
       "\n",
       "    .dataframe tbody tr th {\n",
       "        vertical-align: top;\n",
       "    }\n",
       "\n",
       "    .dataframe thead th {\n",
       "        text-align: right;\n",
       "    }\n",
       "</style>\n",
       "<table border=\"1\" class=\"dataframe\">\n",
       "  <thead>\n",
       "    <tr style=\"text-align: right;\">\n",
       "      <th></th>\n",
       "      <th>fare_amount</th>\n",
       "      <th>passenger_count_1</th>\n",
       "      <th>passenger_count_2</th>\n",
       "      <th>passenger_count_3</th>\n",
       "      <th>passenger_count_4</th>\n",
       "      <th>passenger_count_5</th>\n",
       "      <th>passenger_count_6</th>\n",
       "      <th>season_fall</th>\n",
       "      <th>season_spring</th>\n",
       "      <th>season_summer</th>\n",
       "      <th>...</th>\n",
       "      <th>session_night (AM)</th>\n",
       "      <th>session_night (PM)</th>\n",
       "      <th>year_2009</th>\n",
       "      <th>year_2010</th>\n",
       "      <th>year_2011</th>\n",
       "      <th>year_2012</th>\n",
       "      <th>year_2013</th>\n",
       "      <th>year_2014</th>\n",
       "      <th>year_2015</th>\n",
       "      <th>geodesic</th>\n",
       "    </tr>\n",
       "  </thead>\n",
       "  <tbody>\n",
       "    <tr>\n",
       "      <th>0</th>\n",
       "      <td>4.5</td>\n",
       "      <td>1</td>\n",
       "      <td>0</td>\n",
       "      <td>0</td>\n",
       "      <td>0</td>\n",
       "      <td>0</td>\n",
       "      <td>0</td>\n",
       "      <td>0</td>\n",
       "      <td>0</td>\n",
       "      <td>1</td>\n",
       "      <td>...</td>\n",
       "      <td>0</td>\n",
       "      <td>0</td>\n",
       "      <td>1</td>\n",
       "      <td>0</td>\n",
       "      <td>0</td>\n",
       "      <td>0</td>\n",
       "      <td>0</td>\n",
       "      <td>0</td>\n",
       "      <td>0</td>\n",
       "      <td>0.639764</td>\n",
       "    </tr>\n",
       "    <tr>\n",
       "      <th>1</th>\n",
       "      <td>16.9</td>\n",
       "      <td>1</td>\n",
       "      <td>0</td>\n",
       "      <td>0</td>\n",
       "      <td>0</td>\n",
       "      <td>0</td>\n",
       "      <td>0</td>\n",
       "      <td>0</td>\n",
       "      <td>0</td>\n",
       "      <td>0</td>\n",
       "      <td>...</td>\n",
       "      <td>0</td>\n",
       "      <td>0</td>\n",
       "      <td>0</td>\n",
       "      <td>1</td>\n",
       "      <td>0</td>\n",
       "      <td>0</td>\n",
       "      <td>0</td>\n",
       "      <td>0</td>\n",
       "      <td>0</td>\n",
       "      <td>5.246511</td>\n",
       "    </tr>\n",
       "    <tr>\n",
       "      <th>2</th>\n",
       "      <td>5.7</td>\n",
       "      <td>0</td>\n",
       "      <td>1</td>\n",
       "      <td>0</td>\n",
       "      <td>0</td>\n",
       "      <td>0</td>\n",
       "      <td>0</td>\n",
       "      <td>0</td>\n",
       "      <td>0</td>\n",
       "      <td>1</td>\n",
       "      <td>...</td>\n",
       "      <td>1</td>\n",
       "      <td>0</td>\n",
       "      <td>0</td>\n",
       "      <td>0</td>\n",
       "      <td>1</td>\n",
       "      <td>0</td>\n",
       "      <td>0</td>\n",
       "      <td>0</td>\n",
       "      <td>0</td>\n",
       "      <td>0.863167</td>\n",
       "    </tr>\n",
       "    <tr>\n",
       "      <th>3</th>\n",
       "      <td>7.7</td>\n",
       "      <td>1</td>\n",
       "      <td>0</td>\n",
       "      <td>0</td>\n",
       "      <td>0</td>\n",
       "      <td>0</td>\n",
       "      <td>0</td>\n",
       "      <td>0</td>\n",
       "      <td>1</td>\n",
       "      <td>0</td>\n",
       "      <td>...</td>\n",
       "      <td>1</td>\n",
       "      <td>0</td>\n",
       "      <td>0</td>\n",
       "      <td>0</td>\n",
       "      <td>0</td>\n",
       "      <td>1</td>\n",
       "      <td>0</td>\n",
       "      <td>0</td>\n",
       "      <td>0</td>\n",
       "      <td>1.737223</td>\n",
       "    </tr>\n",
       "    <tr>\n",
       "      <th>4</th>\n",
       "      <td>5.3</td>\n",
       "      <td>1</td>\n",
       "      <td>0</td>\n",
       "      <td>0</td>\n",
       "      <td>0</td>\n",
       "      <td>0</td>\n",
       "      <td>0</td>\n",
       "      <td>0</td>\n",
       "      <td>1</td>\n",
       "      <td>0</td>\n",
       "      <td>...</td>\n",
       "      <td>0</td>\n",
       "      <td>0</td>\n",
       "      <td>0</td>\n",
       "      <td>1</td>\n",
       "      <td>0</td>\n",
       "      <td>0</td>\n",
       "      <td>0</td>\n",
       "      <td>0</td>\n",
       "      <td>0</td>\n",
       "      <td>1.241710</td>\n",
       "    </tr>\n",
       "  </tbody>\n",
       "</table>\n",
       "<p>5 rows × 26 columns</p>\n",
       "</div>"
      ],
      "text/plain": [
       "   fare_amount  passenger_count_1  passenger_count_2  passenger_count_3  \\\n",
       "0          4.5                  1                  0                  0   \n",
       "1         16.9                  1                  0                  0   \n",
       "2          5.7                  0                  1                  0   \n",
       "3          7.7                  1                  0                  0   \n",
       "4          5.3                  1                  0                  0   \n",
       "\n",
       "   passenger_count_4  passenger_count_5  passenger_count_6  season_fall  \\\n",
       "0                  0                  0                  0            0   \n",
       "1                  0                  0                  0            0   \n",
       "2                  0                  0                  0            0   \n",
       "3                  0                  0                  0            0   \n",
       "4                  0                  0                  0            0   \n",
       "\n",
       "   season_spring  season_summer  ...  session_night (AM)  session_night (PM)  \\\n",
       "0              0              1  ...                   0                   0   \n",
       "1              0              0  ...                   0                   0   \n",
       "2              0              1  ...                   1                   0   \n",
       "3              1              0  ...                   1                   0   \n",
       "4              1              0  ...                   0                   0   \n",
       "\n",
       "   year_2009  year_2010  year_2011  year_2012  year_2013  year_2014  \\\n",
       "0          1          0          0          0          0          0   \n",
       "1          0          1          0          0          0          0   \n",
       "2          0          0          1          0          0          0   \n",
       "3          0          0          0          1          0          0   \n",
       "4          0          1          0          0          0          0   \n",
       "\n",
       "   year_2015  geodesic  \n",
       "0          0  0.639764  \n",
       "1          0  5.246511  \n",
       "2          0  0.863167  \n",
       "3          0  1.737223  \n",
       "4          0  1.241710  \n",
       "\n",
       "[5 rows x 26 columns]"
      ]
     },
     "execution_count": 172,
     "metadata": {},
     "output_type": "execute_result"
    }
   ],
   "source": [
    "train.head()"
   ]
  },
  {
   "cell_type": "code",
   "execution_count": 173,
   "metadata": {},
   "outputs": [
    {
     "data": {
      "text/html": [
       "<div>\n",
       "<style scoped>\n",
       "    .dataframe tbody tr th:only-of-type {\n",
       "        vertical-align: middle;\n",
       "    }\n",
       "\n",
       "    .dataframe tbody tr th {\n",
       "        vertical-align: top;\n",
       "    }\n",
       "\n",
       "    .dataframe thead th {\n",
       "        text-align: right;\n",
       "    }\n",
       "</style>\n",
       "<table border=\"1\" class=\"dataframe\">\n",
       "  <thead>\n",
       "    <tr style=\"text-align: right;\">\n",
       "      <th></th>\n",
       "      <th>passenger_count_1</th>\n",
       "      <th>passenger_count_2</th>\n",
       "      <th>passenger_count_3</th>\n",
       "      <th>passenger_count_4</th>\n",
       "      <th>passenger_count_5</th>\n",
       "      <th>passenger_count_6</th>\n",
       "      <th>season_fall</th>\n",
       "      <th>season_spring</th>\n",
       "      <th>season_summer</th>\n",
       "      <th>season_winter</th>\n",
       "      <th>...</th>\n",
       "      <th>session_night (AM)</th>\n",
       "      <th>session_night (PM)</th>\n",
       "      <th>year_2009</th>\n",
       "      <th>year_2010</th>\n",
       "      <th>year_2011</th>\n",
       "      <th>year_2012</th>\n",
       "      <th>year_2013</th>\n",
       "      <th>year_2014</th>\n",
       "      <th>year_2015</th>\n",
       "      <th>geodesic</th>\n",
       "    </tr>\n",
       "  </thead>\n",
       "  <tbody>\n",
       "    <tr>\n",
       "      <th>0</th>\n",
       "      <td>1</td>\n",
       "      <td>0</td>\n",
       "      <td>0</td>\n",
       "      <td>0</td>\n",
       "      <td>0</td>\n",
       "      <td>0</td>\n",
       "      <td>0</td>\n",
       "      <td>0</td>\n",
       "      <td>0</td>\n",
       "      <td>1</td>\n",
       "      <td>...</td>\n",
       "      <td>0</td>\n",
       "      <td>0</td>\n",
       "      <td>0</td>\n",
       "      <td>0</td>\n",
       "      <td>0</td>\n",
       "      <td>0</td>\n",
       "      <td>0</td>\n",
       "      <td>0</td>\n",
       "      <td>1</td>\n",
       "      <td>1.442197</td>\n",
       "    </tr>\n",
       "    <tr>\n",
       "      <th>1</th>\n",
       "      <td>1</td>\n",
       "      <td>0</td>\n",
       "      <td>0</td>\n",
       "      <td>0</td>\n",
       "      <td>0</td>\n",
       "      <td>0</td>\n",
       "      <td>0</td>\n",
       "      <td>0</td>\n",
       "      <td>0</td>\n",
       "      <td>1</td>\n",
       "      <td>...</td>\n",
       "      <td>0</td>\n",
       "      <td>0</td>\n",
       "      <td>0</td>\n",
       "      <td>0</td>\n",
       "      <td>0</td>\n",
       "      <td>0</td>\n",
       "      <td>0</td>\n",
       "      <td>0</td>\n",
       "      <td>1</td>\n",
       "      <td>1.506080</td>\n",
       "    </tr>\n",
       "    <tr>\n",
       "      <th>2</th>\n",
       "      <td>1</td>\n",
       "      <td>0</td>\n",
       "      <td>0</td>\n",
       "      <td>0</td>\n",
       "      <td>0</td>\n",
       "      <td>0</td>\n",
       "      <td>1</td>\n",
       "      <td>0</td>\n",
       "      <td>0</td>\n",
       "      <td>0</td>\n",
       "      <td>...</td>\n",
       "      <td>0</td>\n",
       "      <td>0</td>\n",
       "      <td>0</td>\n",
       "      <td>0</td>\n",
       "      <td>1</td>\n",
       "      <td>0</td>\n",
       "      <td>0</td>\n",
       "      <td>0</td>\n",
       "      <td>0</td>\n",
       "      <td>0.384120</td>\n",
       "    </tr>\n",
       "    <tr>\n",
       "      <th>3</th>\n",
       "      <td>1</td>\n",
       "      <td>0</td>\n",
       "      <td>0</td>\n",
       "      <td>0</td>\n",
       "      <td>0</td>\n",
       "      <td>0</td>\n",
       "      <td>0</td>\n",
       "      <td>0</td>\n",
       "      <td>0</td>\n",
       "      <td>1</td>\n",
       "      <td>...</td>\n",
       "      <td>0</td>\n",
       "      <td>1</td>\n",
       "      <td>0</td>\n",
       "      <td>0</td>\n",
       "      <td>0</td>\n",
       "      <td>1</td>\n",
       "      <td>0</td>\n",
       "      <td>0</td>\n",
       "      <td>0</td>\n",
       "      <td>1.217683</td>\n",
       "    </tr>\n",
       "    <tr>\n",
       "      <th>4</th>\n",
       "      <td>1</td>\n",
       "      <td>0</td>\n",
       "      <td>0</td>\n",
       "      <td>0</td>\n",
       "      <td>0</td>\n",
       "      <td>0</td>\n",
       "      <td>0</td>\n",
       "      <td>0</td>\n",
       "      <td>0</td>\n",
       "      <td>1</td>\n",
       "      <td>...</td>\n",
       "      <td>0</td>\n",
       "      <td>1</td>\n",
       "      <td>0</td>\n",
       "      <td>0</td>\n",
       "      <td>0</td>\n",
       "      <td>1</td>\n",
       "      <td>0</td>\n",
       "      <td>0</td>\n",
       "      <td>0</td>\n",
       "      <td>3.344737</td>\n",
       "    </tr>\n",
       "  </tbody>\n",
       "</table>\n",
       "<p>5 rows × 25 columns</p>\n",
       "</div>"
      ],
      "text/plain": [
       "   passenger_count_1  passenger_count_2  passenger_count_3  passenger_count_4  \\\n",
       "0                  1                  0                  0                  0   \n",
       "1                  1                  0                  0                  0   \n",
       "2                  1                  0                  0                  0   \n",
       "3                  1                  0                  0                  0   \n",
       "4                  1                  0                  0                  0   \n",
       "\n",
       "   passenger_count_5  passenger_count_6  season_fall  season_spring  \\\n",
       "0                  0                  0            0              0   \n",
       "1                  0                  0            0              0   \n",
       "2                  0                  0            1              0   \n",
       "3                  0                  0            0              0   \n",
       "4                  0                  0            0              0   \n",
       "\n",
       "   season_summer  season_winter  ...  session_night (AM)  session_night (PM)  \\\n",
       "0              0              1  ...                   0                   0   \n",
       "1              0              1  ...                   0                   0   \n",
       "2              0              0  ...                   0                   0   \n",
       "3              0              1  ...                   0                   1   \n",
       "4              0              1  ...                   0                   1   \n",
       "\n",
       "   year_2009  year_2010  year_2011  year_2012  year_2013  year_2014  \\\n",
       "0          0          0          0          0          0          0   \n",
       "1          0          0          0          0          0          0   \n",
       "2          0          0          1          0          0          0   \n",
       "3          0          0          0          1          0          0   \n",
       "4          0          0          0          1          0          0   \n",
       "\n",
       "   year_2015  geodesic  \n",
       "0          1  1.442197  \n",
       "1          1  1.506080  \n",
       "2          0  0.384120  \n",
       "3          0  1.217683  \n",
       "4          0  3.344737  \n",
       "\n",
       "[5 rows x 25 columns]"
      ]
     },
     "execution_count": 173,
     "metadata": {},
     "output_type": "execute_result"
    }
   ],
   "source": [
    "test.head()"
   ]
  },
  {
   "cell_type": "code",
   "execution_count": 30,
   "metadata": {},
   "outputs": [
    {
     "data": {
      "image/png": "[encoded data removed]",
      "text/plain": [
       "<Figure size 1440x360 with 1 Axes>"
      ]
     },
     "metadata": {},
     "output_type": "display_data"
    }
   ],
   "source": [
    "plt.figure(figsize=(20,5)) \n",
    "sns.boxplot(x=train['geodesic'],data=train,orient='h')\n",
    "plt.title('Boxplot of ')\n",
    "#     plt.savefig('bp'+str(i)+'.png')\n",
    "plt.show()"
   ]
  },
  {
   "cell_type": "code",
   "execution_count": 174,
   "metadata": {},
   "outputs": [
    {
     "name": "stdout",
     "output_type": "stream",
     "text": [
      "2.425668049965582 0.7815214474966259\n",
      "-1.6846984562068081 4.891887953669016\n"
     ]
    }
   ],
   "source": [
    "outlier_treatment('geodesic')"
   ]
  },
  {
   "cell_type": "code",
   "execution_count": 177,
   "metadata": {
    "scrolled": true
   },
   "outputs": [
    {
     "data": {
      "text/html": [
       "<div>\n",
       "<style scoped>\n",
       "    .dataframe tbody tr th:only-of-type {\n",
       "        vertical-align: middle;\n",
       "    }\n",
       "\n",
       "    .dataframe tbody tr th {\n",
       "        vertical-align: top;\n",
       "    }\n",
       "\n",
       "    .dataframe thead th {\n",
       "        text-align: right;\n",
       "    }\n",
       "</style>\n",
       "<table border=\"1\" class=\"dataframe\">\n",
       "  <thead>\n",
       "    <tr style=\"text-align: right;\">\n",
       "      <th></th>\n",
       "      <th>0</th>\n",
       "    </tr>\n",
       "  </thead>\n",
       "  <tbody>\n",
       "    <tr>\n",
       "      <th>fare_amount</th>\n",
       "      <td>0</td>\n",
       "    </tr>\n",
       "    <tr>\n",
       "      <th>passenger_count_1</th>\n",
       "      <td>0</td>\n",
       "    </tr>\n",
       "    <tr>\n",
       "      <th>passenger_count_2</th>\n",
       "      <td>0</td>\n",
       "    </tr>\n",
       "    <tr>\n",
       "      <th>passenger_count_3</th>\n",
       "      <td>0</td>\n",
       "    </tr>\n",
       "    <tr>\n",
       "      <th>passenger_count_4</th>\n",
       "      <td>0</td>\n",
       "    </tr>\n",
       "    <tr>\n",
       "      <th>passenger_count_5</th>\n",
       "      <td>0</td>\n",
       "    </tr>\n",
       "    <tr>\n",
       "      <th>passenger_count_6</th>\n",
       "      <td>0</td>\n",
       "    </tr>\n",
       "    <tr>\n",
       "      <th>season_fall</th>\n",
       "      <td>0</td>\n",
       "    </tr>\n",
       "    <tr>\n",
       "      <th>season_spring</th>\n",
       "      <td>0</td>\n",
       "    </tr>\n",
       "    <tr>\n",
       "      <th>season_summer</th>\n",
       "      <td>0</td>\n",
       "    </tr>\n",
       "    <tr>\n",
       "      <th>season_winter</th>\n",
       "      <td>0</td>\n",
       "    </tr>\n",
       "    <tr>\n",
       "      <th>week_weekday</th>\n",
       "      <td>0</td>\n",
       "    </tr>\n",
       "    <tr>\n",
       "      <th>week_weekend</th>\n",
       "      <td>0</td>\n",
       "    </tr>\n",
       "    <tr>\n",
       "      <th>session_afternoon</th>\n",
       "      <td>0</td>\n",
       "    </tr>\n",
       "    <tr>\n",
       "      <th>session_evening</th>\n",
       "      <td>0</td>\n",
       "    </tr>\n",
       "    <tr>\n",
       "      <th>session_morning</th>\n",
       "      <td>0</td>\n",
       "    </tr>\n",
       "    <tr>\n",
       "      <th>session_night (AM)</th>\n",
       "      <td>0</td>\n",
       "    </tr>\n",
       "    <tr>\n",
       "      <th>session_night (PM)</th>\n",
       "      <td>0</td>\n",
       "    </tr>\n",
       "    <tr>\n",
       "      <th>year_2009</th>\n",
       "      <td>0</td>\n",
       "    </tr>\n",
       "    <tr>\n",
       "      <th>year_2010</th>\n",
       "      <td>0</td>\n",
       "    </tr>\n",
       "    <tr>\n",
       "      <th>year_2011</th>\n",
       "      <td>0</td>\n",
       "    </tr>\n",
       "    <tr>\n",
       "      <th>year_2012</th>\n",
       "      <td>0</td>\n",
       "    </tr>\n",
       "    <tr>\n",
       "      <th>year_2013</th>\n",
       "      <td>0</td>\n",
       "    </tr>\n",
       "    <tr>\n",
       "      <th>year_2014</th>\n",
       "      <td>0</td>\n",
       "    </tr>\n",
       "    <tr>\n",
       "      <th>year_2015</th>\n",
       "      <td>0</td>\n",
       "    </tr>\n",
       "    <tr>\n",
       "      <th>geodesic</th>\n",
       "      <td>1348</td>\n",
       "    </tr>\n",
       "  </tbody>\n",
       "</table>\n",
       "</div>"
      ],
      "text/plain": [
       "                       0\n",
       "fare_amount            0\n",
       "passenger_count_1      0\n",
       "passenger_count_2      0\n",
       "passenger_count_3      0\n",
       "passenger_count_4      0\n",
       "passenger_count_5      0\n",
       "passenger_count_6      0\n",
       "season_fall            0\n",
       "season_spring          0\n",
       "season_summer          0\n",
       "season_winter          0\n",
       "week_weekday           0\n",
       "week_weekend           0\n",
       "session_afternoon      0\n",
       "session_evening        0\n",
       "session_morning        0\n",
       "session_night (AM)     0\n",
       "session_night (PM)     0\n",
       "year_2009              0\n",
       "year_2010              0\n",
       "year_2011              0\n",
       "year_2012              0\n",
       "year_2013              0\n",
       "year_2014              0\n",
       "year_2015              0\n",
       "geodesic            1348"
      ]
     },
     "execution_count": 177,
     "metadata": {},
     "output_type": "execute_result"
    }
   ],
   "source": [
    "pd.DataFrame(train.isnull().sum())"
   ]
  },
  {
   "cell_type": "code",
   "execution_count": 178,
   "metadata": {},
   "outputs": [
    {
     "name": "stdout",
     "output_type": "stream",
     "text": [
      "Imputing row 1/15660 with 0 missing, elapsed time: 98.093\n",
      "Imputing row 101/15660 with 0 missing, elapsed time: 99.041\n",
      "Imputing row 201/15660 with 0 missing, elapsed time: 99.076\n",
      "Imputing row 301/15660 with 1 missing, elapsed time: 99.083\n",
      "Imputing row 401/15660 with 0 missing, elapsed time: 99.089\n",
      "Imputing row 501/15660 with 0 missing, elapsed time: 99.093\n",
      "Imputing row 601/15660 with 1 missing, elapsed time: 99.095\n",
      "Imputing row 701/15660 with 0 missing, elapsed time: 99.105\n",
      "Imputing row 801/15660 with 0 missing, elapsed time: 99.122\n",
      "Imputing row 901/15660 with 0 missing, elapsed time: 99.130\n",
      "Imputing row 1001/15660 with 0 missing, elapsed time: 99.156\n",
      "Imputing row 1101/15660 with 1 missing, elapsed time: 99.166\n",
      "Imputing row 1201/15660 with 0 missing, elapsed time: 99.174\n",
      "Imputing row 1301/15660 with 0 missing, elapsed time: 99.178\n",
      "Imputing row 1401/15660 with 0 missing, elapsed time: 99.182\n",
      "Imputing row 1501/15660 with 0 missing, elapsed time: 99.186\n",
      "Imputing row 1601/15660 with 0 missing, elapsed time: 99.191\n",
      "Imputing row 1701/15660 with 0 missing, elapsed time: 99.196\n",
      "Imputing row 1801/15660 with 0 missing, elapsed time: 99.200\n",
      "Imputing row 1901/15660 with 0 missing, elapsed time: 99.204\n",
      "Imputing row 2001/15660 with 0 missing, elapsed time: 99.209\n",
      "Imputing row 2101/15660 with 0 missing, elapsed time: 99.212\n",
      "Imputing row 2201/15660 with 1 missing, elapsed time: 99.219\n",
      "Imputing row 2301/15660 with 0 missing, elapsed time: 99.337\n",
      "Imputing row 2401/15660 with 0 missing, elapsed time: 99.350\n",
      "Imputing row 2501/15660 with 0 missing, elapsed time: 99.357\n",
      "Imputing row 2601/15660 with 0 missing, elapsed time: 99.370\n",
      "Imputing row 2701/15660 with 0 missing, elapsed time: 99.377\n",
      "Imputing row 2801/15660 with 0 missing, elapsed time: 99.384\n",
      "Imputing row 2901/15660 with 0 missing, elapsed time: 99.396\n",
      "Imputing row 3001/15660 with 0 missing, elapsed time: 99.402\n",
      "Imputing row 3101/15660 with 1 missing, elapsed time: 99.412\n",
      "Imputing row 3201/15660 with 0 missing, elapsed time: 99.425\n",
      "Imputing row 3301/15660 with 0 missing, elapsed time: 99.477\n",
      "Imputing row 3401/15660 with 0 missing, elapsed time: 99.498\n",
      "Imputing row 3501/15660 with 0 missing, elapsed time: 99.562\n",
      "Imputing row 3601/15660 with 0 missing, elapsed time: 99.564\n",
      "Imputing row 3701/15660 with 0 missing, elapsed time: 99.567\n",
      "Imputing row 3801/15660 with 0 missing, elapsed time: 99.661\n",
      "Imputing row 3901/15660 with 1 missing, elapsed time: 99.714\n",
      "Imputing row 4001/15660 with 0 missing, elapsed time: 99.742\n",
      "Imputing row 4101/15660 with 1 missing, elapsed time: 99.767\n",
      "Imputing row 4201/15660 with 0 missing, elapsed time: 99.812\n",
      "Imputing row 4301/15660 with 0 missing, elapsed time: 99.816\n",
      "Imputing row 4401/15660 with 0 missing, elapsed time: 99.830\n",
      "Imputing row 4501/15660 with 0 missing, elapsed time: 99.926\n",
      "Imputing row 4601/15660 with 0 missing, elapsed time: 99.934\n",
      "Imputing row 4701/15660 with 0 missing, elapsed time: 99.946\n",
      "Imputing row 4801/15660 with 0 missing, elapsed time: 99.950\n",
      "Imputing row 4901/15660 with 0 missing, elapsed time: 99.963\n",
      "Imputing row 5001/15660 with 0 missing, elapsed time: 99.971\n",
      "Imputing row 5101/15660 with 0 missing, elapsed time: 99.981\n",
      "Imputing row 5201/15660 with 0 missing, elapsed time: 99.983\n",
      "Imputing row 5301/15660 with 0 missing, elapsed time: 99.991\n",
      "Imputing row 5401/15660 with 0 missing, elapsed time: 99.995\n",
      "Imputing row 5501/15660 with 0 missing, elapsed time: 100.000\n",
      "Imputing row 5601/15660 with 0 missing, elapsed time: 100.011\n",
      "Imputing row 5701/15660 with 0 missing, elapsed time: 100.014\n",
      "Imputing row 5801/15660 with 0 missing, elapsed time: 100.020\n",
      "Imputing row 5901/15660 with 0 missing, elapsed time: 100.024\n",
      "Imputing row 6001/15660 with 0 missing, elapsed time: 100.031\n",
      "Imputing row 6101/15660 with 0 missing, elapsed time: 100.043\n",
      "Imputing row 6201/15660 with 0 missing, elapsed time: 100.052\n",
      "Imputing row 6301/15660 with 0 missing, elapsed time: 100.060\n",
      "Imputing row 6401/15660 with 0 missing, elapsed time: 100.066\n",
      "Imputing row 6501/15660 with 1 missing, elapsed time: 100.079\n",
      "Imputing row 6601/15660 with 0 missing, elapsed time: 100.088\n",
      "Imputing row 6701/15660 with 0 missing, elapsed time: 100.099\n",
      "Imputing row 6801/15660 with 0 missing, elapsed time: 100.114\n",
      "Imputing row 6901/15660 with 0 missing, elapsed time: 100.138\n",
      "Imputing row 7001/15660 with 0 missing, elapsed time: 100.149\n",
      "Imputing row 7101/15660 with 1 missing, elapsed time: 100.160\n",
      "Imputing row 7201/15660 with 0 missing, elapsed time: 100.175\n",
      "Imputing row 7301/15660 with 0 missing, elapsed time: 100.193\n",
      "Imputing row 7401/15660 with 1 missing, elapsed time: 100.205\n",
      "Imputing row 7501/15660 with 0 missing, elapsed time: 100.211\n",
      "Imputing row 7601/15660 with 0 missing, elapsed time: 100.221\n",
      "Imputing row 7701/15660 with 0 missing, elapsed time: 100.227\n",
      "Imputing row 7801/15660 with 0 missing, elapsed time: 100.233\n",
      "Imputing row 7901/15660 with 0 missing, elapsed time: 100.245\n",
      "Imputing row 8001/15660 with 0 missing, elapsed time: 100.264\n",
      "Imputing row 8101/15660 with 0 missing, elapsed time: 100.275\n",
      "Imputing row 8201/15660 with 0 missing, elapsed time: 100.293\n",
      "Imputing row 8301/15660 with 0 missing, elapsed time: 100.302\n",
      "Imputing row 8401/15660 with 0 missing, elapsed time: 100.311\n",
      "Imputing row 8501/15660 with 0 missing, elapsed time: 100.315\n",
      "Imputing row 8601/15660 with 0 missing, elapsed time: 100.321\n",
      "Imputing row 8701/15660 with 0 missing, elapsed time: 100.329\n",
      "Imputing row 8801/15660 with 0 missing, elapsed time: 100.437\n",
      "Imputing row 8901/15660 with 0 missing, elapsed time: 100.457\n",
      "Imputing row 9001/15660 with 0 missing, elapsed time: 100.498\n",
      "Imputing row 9101/15660 with 0 missing, elapsed time: 100.511\n",
      "Imputing row 9201/15660 with 0 missing, elapsed time: 100.523\n",
      "Imputing row 9301/15660 with 0 missing, elapsed time: 100.531\n",
      "Imputing row 9401/15660 with 0 missing, elapsed time: 100.534\n",
      "Imputing row 9501/15660 with 0 missing, elapsed time: 100.551\n",
      "Imputing row 9601/15660 with 1 missing, elapsed time: 100.558\n",
      "Imputing row 9701/15660 with 0 missing, elapsed time: 100.562\n",
      "Imputing row 9801/15660 with 0 missing, elapsed time: 100.564\n",
      "Imputing row 9901/15660 with 1 missing, elapsed time: 100.568\n",
      "Imputing row 10001/15660 with 0 missing, elapsed time: 100.571\n",
      "Imputing row 10101/15660 with 0 missing, elapsed time: 100.574\n",
      "Imputing row 10201/15660 with 0 missing, elapsed time: 100.577\n",
      "Imputing row 10301/15660 with 0 missing, elapsed time: 100.581\n",
      "Imputing row 10401/15660 with 0 missing, elapsed time: 100.585\n",
      "Imputing row 10501/15660 with 0 missing, elapsed time: 100.588\n",
      "Imputing row 10601/15660 with 0 missing, elapsed time: 100.591\n",
      "Imputing row 10701/15660 with 1 missing, elapsed time: 100.594\n",
      "Imputing row 10801/15660 with 0 missing, elapsed time: 100.596\n",
      "Imputing row 10901/15660 with 0 missing, elapsed time: 100.599\n",
      "Imputing row 11001/15660 with 0 missing, elapsed time: 100.602\n",
      "Imputing row 11101/15660 with 0 missing, elapsed time: 100.605\n",
      "Imputing row 11201/15660 with 0 missing, elapsed time: 100.607\n",
      "Imputing row 11301/15660 with 0 missing, elapsed time: 100.646\n",
      "Imputing row 11401/15660 with 0 missing, elapsed time: 100.653\n",
      "Imputing row 11501/15660 with 1 missing, elapsed time: 100.658\n",
      "Imputing row 11601/15660 with 0 missing, elapsed time: 100.662\n",
      "Imputing row 11701/15660 with 0 missing, elapsed time: 100.668\n",
      "Imputing row 11801/15660 with 0 missing, elapsed time: 100.672\n",
      "Imputing row 11901/15660 with 0 missing, elapsed time: 100.674\n",
      "Imputing row 12001/15660 with 0 missing, elapsed time: 100.684\n",
      "Imputing row 12101/15660 with 0 missing, elapsed time: 100.688\n",
      "Imputing row 12201/15660 with 0 missing, elapsed time: 100.696\n",
      "Imputing row 12301/15660 with 0 missing, elapsed time: 100.706\n",
      "Imputing row 12401/15660 with 0 missing, elapsed time: 100.714\n",
      "Imputing row 12501/15660 with 1 missing, elapsed time: 100.721\n",
      "Imputing row 12601/15660 with 0 missing, elapsed time: 100.725\n",
      "Imputing row 12701/15660 with 0 missing, elapsed time: 100.738\n",
      "Imputing row 12801/15660 with 0 missing, elapsed time: 100.744\n",
      "Imputing row 12901/15660 with 0 missing, elapsed time: 100.747\n",
      "Imputing row 13001/15660 with 0 missing, elapsed time: 100.750\n",
      "Imputing row 13101/15660 with 0 missing, elapsed time: 100.755\n",
      "Imputing row 13201/15660 with 1 missing, elapsed time: 100.758\n",
      "Imputing row 13301/15660 with 0 missing, elapsed time: 100.762\n",
      "Imputing row 13401/15660 with 0 missing, elapsed time: 100.765\n",
      "Imputing row 13501/15660 with 0 missing, elapsed time: 100.769\n",
      "Imputing row 13601/15660 with 0 missing, elapsed time: 100.773\n",
      "Imputing row 13701/15660 with 0 missing, elapsed time: 100.777\n",
      "Imputing row 13801/15660 with 0 missing, elapsed time: 100.781\n",
      "Imputing row 13901/15660 with 0 missing, elapsed time: 100.783\n",
      "Imputing row 14001/15660 with 0 missing, elapsed time: 100.788\n",
      "Imputing row 14101/15660 with 0 missing, elapsed time: 100.791\n",
      "Imputing row 14201/15660 with 0 missing, elapsed time: 100.795\n",
      "Imputing row 14301/15660 with 0 missing, elapsed time: 100.797\n",
      "Imputing row 14401/15660 with 0 missing, elapsed time: 100.800\n",
      "Imputing row 14501/15660 with 1 missing, elapsed time: 100.803\n",
      "Imputing row 14601/15660 with 0 missing, elapsed time: 100.807\n",
      "Imputing row 14701/15660 with 0 missing, elapsed time: 100.811\n",
      "Imputing row 14801/15660 with 0 missing, elapsed time: 100.813\n",
      "Imputing row 14901/15660 with 0 missing, elapsed time: 100.817\n",
      "Imputing row 15001/15660 with 1 missing, elapsed time: 100.820\n",
      "Imputing row 15101/15660 with 0 missing, elapsed time: 100.822\n"
     ]
    },
    {
     "name": "stdout",
     "output_type": "stream",
     "text": [
      "Imputing row 15201/15660 with 0 missing, elapsed time: 100.826\n",
      "Imputing row 15301/15660 with 0 missing, elapsed time: 100.848\n",
      "Imputing row 15401/15660 with 0 missing, elapsed time: 100.852\n",
      "Imputing row 15501/15660 with 1 missing, elapsed time: 100.855\n",
      "Imputing row 15601/15660 with 0 missing, elapsed time: 100.857\n"
     ]
    }
   ],
   "source": [
    "#Imputing with missing values using KNN\n",
    "train = pd.DataFrame(KNN(k = 3).fit_transform(train), columns = train.columns, index=train.index)"
   ]
  },
  {
   "cell_type": "markdown",
   "metadata": {},
   "source": [
    "## Feature Selection\n",
    "1.Correlation Analysis\n",
    "\n",
    "    Statistically correlated: features move together directionally.\n",
    "    Linear models assume feature independence.\n",
    "    And if features are correlated that could introduce bias into our models."
   ]
  },
  {
   "cell_type": "code",
   "execution_count": 52,
   "metadata": {},
   "outputs": [],
   "source": [
    "# cat_var=['year','month','day_of_week','hour','passenger_count']\n",
    "# num_var=['fare_amount','geodesic']\n",
    "# train[cat_var]=train[cat_var].apply(lambda x: x.astype('category') )\n",
    "# # test[cat_var]=test[cat_var].apply(lambda x: x.astype('category') )  ,'passenger_count'  'day_of_month'"
   ]
  },
  {
   "cell_type": "markdown",
   "metadata": {},
   "source": [
    "-  We will plot a Heatmap of correlation whereas, correlation measures how strongly 2 quantities are related to each other."
   ]
  },
  {
   "cell_type": "code",
   "execution_count": null,
   "metadata": {
    "scrolled": true
   },
   "outputs": [],
   "source": [
    "# heatmap using correlation matrix\n",
    "plt.figure(figsize=(15,15))\n",
    "_ = sns.heatmap(train[num_var].corr(), square=True, cmap='RdYlGn',linewidths=0.5,linecolor='w',annot=True)\n",
    "plt.title('Correlation matrix of all numerical variables')\n",
    "# plt.savefig('correlation.png')\n",
    "plt.show()"
   ]
  },
  {
   "cell_type": "markdown",
   "metadata": {},
   "source": [
    "As we can see from above correlation plot fare_amount and geodesic is correlated to each other."
   ]
  },
  {
   "cell_type": "code",
   "execution_count": null,
   "metadata": {},
   "outputs": [],
   "source": [
    "#loop for chi square values\n",
    "for i in cat_var:\n",
    "    for j in cat_var:\n",
    "        if(i != j):\n",
    "            chi2, p, dof, ex = chi2_contingency(pd.crosstab(train[i], train[j]))\n",
    "            if(p < 0.05):\n",
    "                print(i,\"and\",j,\"are dependent on each other with\",p,'----Remove')\n",
    "            else:\n",
    "                print(i,\"and\",j,\"are independent on each other with\",p,'----Keep')"
   ]
  },
  {
   "cell_type": "markdown",
   "metadata": {},
   "source": [
    "## Analysis of Variance(Anova) Test\n",
    "-  It is carried out to compare between each groups in a categorical variable.\n",
    "-  ANOVA only lets us know the means for different groups are same or not. It doesn’t help us identify which mean is different.\n",
    "-  Hypothesis testing :\n",
    "    -  Null Hypothesis: mean of all categories in a variable are same.\n",
    "    -  Alternate Hypothesis: mean of at least one category in a variable is different.\n",
    "-  If p-value is less than 0.05 then we reject the null hypothesis.\n",
    "-  And if p-value is greater than 0.05 then we accept the null hypothesis."
   ]
  },
  {
   "cell_type": "code",
   "execution_count": null,
   "metadata": {
    "scrolled": true
   },
   "outputs": [],
   "source": [
    "#ANOVA _1)+C(passenger_count_2)+C(passenger_count_3)+C(passenger_count_4)+C(passenger_count_5)+C(passenger_count_6)\n",
    "model = ols('fare_amount ~ C(year)+C(month)+C(day_of_month)+C(day_of_week)+C(hour)+C(passenger_count)',\n",
    "                data=train).fit()\n",
    "                \n",
    "aov_table = sm.stats.anova_lm(model)\n",
    "aov_table"
   ]
  },
  {
   "cell_type": "markdown",
   "metadata": {},
   "source": [
    "## Multicollinearity Test\n",
    "-  VIF is always greater or equal to 1.\n",
    "-  if VIF is 1 --- Not correlated to any of the variables.\n",
    "-  if VIF is between 1-5 --- Moderately correlated.\n",
    "-  if VIF is above 5 --- Highly correlated.\n",
    "-  If there are multiple variables with VIF greater than 5, only remove the variable with the highest VIF."
   ]
  },
  {
   "cell_type": "code",
   "execution_count": null,
   "metadata": {},
   "outputs": [],
   "source": [
    "# _1+passenger_count_2+passenger_count_3+passenger_count_4+passenger_count_5+passenger_count_6\n",
    "outcome, predictors = dmatrices('fare_amount ~ geodesic+year+month+day_of_month+day_of_week+hour+passenger_count',train, return_type='dataframe')\n",
    "# calculating VIF for each individual Predictors\n",
    "vif = pd.DataFrame()\n",
    "vif[\"VIF\"] = [variance_inflation_factor(predictors.values, i) for i in range(predictors.shape[1])]\n",
    "vif[\"features\"] = predictors.columns\n",
    "vif"
   ]
  },
  {
   "cell_type": "markdown",
   "metadata": {},
   "source": [
    "https://stats.stackexchange.com/questions/258325/is-number-of-children-categorical-data"
   ]
  },
  {
   "cell_type": "markdown",
   "metadata": {},
   "source": [
    "https://statisticalhorizons.com/multicollinearity"
   ]
  },
  {
   "cell_type": "code",
   "execution_count": null,
   "metadata": {
    "scrolled": true
   },
   "outputs": [],
   "source": [
    "plt.figure(figsize=(20,10))\n",
    "sns.countplot(train['year'])\n",
    "\n",
    "plt.figure(figsize=(20,10))\n",
    "sns.countplot(train['month'])\n",
    "\n",
    "plt.figure(figsize=(20,10))\n",
    "sns.countplot(train['day_of_month'])\n",
    "\n",
    "plt.figure(figsize=(20,10))\n",
    "sns.countplot(train['day_of_week'])\n",
    "\n",
    "plt.figure(figsize=(20,10))\n",
    "sns.countplot(train['hour'])"
   ]
  },
  {
   "cell_type": "code",
   "execution_count": null,
   "metadata": {},
   "outputs": [],
   "source": [
    "_ = sns.jointplot(x='fare_amount',y='geodesic',data=train,kind = 'reg')\n",
    "# _.annotate(stats.pearsonr)\n",
    "# plt.savefig('jointct.png')\n",
    "plt.show()"
   ]
  },
  {
   "cell_type": "markdown",
   "metadata": {},
   "source": [
    "## Feature Scaling"
   ]
  },
  {
   "cell_type": "code",
   "execution_count": 46,
   "metadata": {},
   "outputs": [
    {
     "data": {
      "text/plain": [
       "fare_amount    20.044364\n",
       "geodesic        1.204608\n",
       "dtype: float64"
      ]
     },
     "execution_count": 46,
     "metadata": {},
     "output_type": "execute_result"
    }
   ],
   "source": [
    "train[num_var].var()"
   ]
  },
  {
   "cell_type": "code",
   "execution_count": 53,
   "metadata": {},
   "outputs": [
    {
     "data": {
      "text/plain": [
       "<matplotlib.axes._subplots.AxesSubplot at 0x2233595ae48>"
      ]
     },
     "execution_count": 53,
     "metadata": {},
     "output_type": "execute_result"
    },
    {
     "data": {
      "image/png": "[encoded data removed]",
      "text/plain": [
       "<Figure size 432x288 with 1 Axes>"
      ]
     },
     "metadata": {},
     "output_type": "display_data"
    }
   ],
   "source": [
    "sns.distplot(train['geodesic'],bins=50)"
   ]
  },
  {
   "cell_type": "code",
   "execution_count": 59,
   "metadata": {},
   "outputs": [
    {
     "data": {
      "text/plain": [
       "((array([-3.92007182, -3.70085568, -3.58076887, ...,  3.58076887,\n",
       "          3.70085568,  3.92007182]),\n",
       "  array([0.        , 0.        , 0.        , ..., 4.88300333, 4.88468361,\n",
       "         4.88875044])),\n",
       " (1.0513960924441437, 1.6213726643867186, 0.957753760202082))"
      ]
     },
     "execution_count": 59,
     "metadata": {},
     "output_type": "execute_result"
    },
    {
     "data": {
      "image/png": "[encoded data removed]",
      "text/plain": [
       "<Figure size 432x288 with 1 Axes>"
      ]
     },
     "metadata": {},
     "output_type": "display_data"
    }
   ],
   "source": [
    "plt.figure()\n",
    "stats.probplot(train['geodesic'], dist='norm', fit=True,plot=plt)"
   ]
  },
  {
   "cell_type": "code",
   "execution_count": 79,
   "metadata": {},
   "outputs": [],
   "source": [
    "#Normalization\n",
    "train['geodesic'] = (train['geodesic'] - min(train['geodesic']))/(max(train['geodesic']) - min(train['geodesic']))\n",
    "test['geodesic'] = (test['geodesic'] - min(test['geodesic']))/(max(test['geodesic']) - min(test['geodesic']))"
   ]
  },
  {
   "cell_type": "code",
   "execution_count": 38,
   "metadata": {},
   "outputs": [
    {
     "data": {
      "text/plain": [
       "0.05040223902022794"
      ]
     },
     "execution_count": 38,
     "metadata": {},
     "output_type": "execute_result"
    }
   ],
   "source": [
    "train['geodesic'].var()"
   ]
  },
  {
   "cell_type": "code",
   "execution_count": null,
   "metadata": {},
   "outputs": [],
   "source": [
    "train.head()"
   ]
  },
  {
   "cell_type": "markdown",
   "metadata": {},
   "source": [
    "## Splitting train into train and validation subsets\n",
    "- X_train y_train--are train subset\n",
    "- X_test y_test--are validation subset"
   ]
  },
  {
   "cell_type": "code",
   "execution_count": 181,
   "metadata": {},
   "outputs": [
    {
     "name": "stdout",
     "output_type": "stream",
     "text": [
      "(15660, 26) (11745, 25) (3915, 25) (11745,) (3915,)\n"
     ]
    }
   ],
   "source": [
    "X = train.drop('fare_amount',axis=1).values\n",
    "y = train['fare_amount'].values\n",
    "X_train, X_test, y_train, y_test = train_test_split(X, y, test_size = 0.25, random_state=42)\n",
    "print(train.shape, X_train.shape, X_test.shape,y_train.shape,y_test.shape)"
   ]
  },
  {
   "cell_type": "code",
   "execution_count": 182,
   "metadata": {},
   "outputs": [],
   "source": [
    "def rmsle(y,y_):\n",
    "    log1 = np.nan_to_num(np.array([np.log(v + 1) for v in y]))\n",
    "    log2 = np.nan_to_num(np.array([np.log(v + 1) for v in y_]))\n",
    "    calc = (log1 - log2) ** 2\n",
    "    return np.sqrt(np.mean(calc))\n",
    "def scores(y, y_):\n",
    "    print('r square  ', metrics.r2_score(y, y_))\n",
    "    print('Adjusted r square:{}'.format(1 - (1-metrics.r2_score(y, y_))*(len(y)-1)/(len(y)-X_train.shape[1]-1)))\n",
    "    print('MAPE:{}'.format(np.mean(np.abs((y - y_) / y))*100))\n",
    "    print('MSE:', metrics.mean_squared_error(y, y_))\n",
    "    print('RMSE:', np.sqrt(metrics.mean_squared_error(y, y_))) \n",
    "def test_scores(model):\n",
    "    print('<<<------------------- Training Data Score --------------------->')\n",
    "    print()\n",
    "    #Predicting result on Training data\n",
    "    y_pred = model.predict(X_train)\n",
    "    scores(y_train,y_pred)\n",
    "    print('RMSLE:',rmsle(y_train,y_pred))\n",
    "    print()\n",
    "    print('<<<------------------- Test Data Score --------------------->')\n",
    "    print()\n",
    "    # Evaluating on Test Set\n",
    "    y_pred = model.predict(X_test)\n",
    "    scores(y_test,y_pred)\n",
    "    print('RMSLE:',rmsle(y_test,y_pred))"
   ]
  },
  {
   "cell_type": "markdown",
   "metadata": {},
   "source": [
    "## Multiple Linear Regression"
   ]
  },
  {
   "cell_type": "code",
   "execution_count": 183,
   "metadata": {},
   "outputs": [
    {
     "name": "stdout",
     "output_type": "stream",
     "text": [
      "R^2: 0.7378200382396708\n",
      "Root Mean Squared Error: 2.318998828890487\n",
      "<<<------------------- Training Data Score --------------------->\n",
      "\n",
      "r square   0.7321789685906825\n",
      "Adjusted r square:0.731607629245582\n",
      "MAPE:18.78844242554429\n",
      "MSE: 5.328887425524238\n",
      "RMSE: 2.3084383087975815\n",
      "RMSLE: 0.21704402094088113\n",
      "\n",
      "<<<------------------- Test Data Score --------------------->\n",
      "\n",
      "r square   0.7378200382396708\n",
      "Adjusted r square:0.7361346437824817\n",
      "MAPE:19.028764046558386\n",
      "MSE: 5.37775556839545\n",
      "RMSE: 2.318998828890487\n",
      "RMSLE: 0.2164160779763651\n",
      "[-5.94335385e+12 -5.94335385e+12 -5.94335385e+12 -5.94335385e+12\n",
      " -5.94335385e+12 -5.94335385e+12 -2.19644568e+12 -2.19644568e+12\n",
      " -2.19644568e+12 -2.19644568e+12 -4.52401842e+11 -4.52401842e+11\n",
      "  8.06519748e+10  8.06519748e+10  8.06519748e+10  8.06519748e+10\n",
      "  8.06519748e+10 -1.87757838e+11 -1.87757838e+11 -1.87757838e+11\n",
      " -1.87757838e+11 -1.87757838e+11 -1.87757838e+11 -1.87757838e+11\n",
      "  3.42675489e+00]\n"
     ]
    },
    {
     "data": {
      "image/png": "[encoded data removed]",
      "text/plain": [
       "<Figure size 1080x360 with 1 Axes>"
      ]
     },
     "metadata": {},
     "output_type": "display_data"
    }
   ],
   "source": [
    "# Create the regressor: reg_all\n",
    "reg_all = LinearRegression()\n",
    "\n",
    "# Fit the regressor to the training data\n",
    "reg_all.fit(X_train,y_train)\n",
    "\n",
    "# Predict on the test data: y_pred\n",
    "y_pred = reg_all.predict(X_test)\n",
    "\n",
    "# Compute and print R^2 and RMSE\n",
    "print(\"R^2: {}\".format(reg_all.score(X_test, y_test)))\n",
    "rmse = np.sqrt(mean_squared_error(y_test,y_pred))\n",
    "print(\"Root Mean Squared Error: {}\".format(rmse))\n",
    "test_scores(reg_all)\n",
    "\n",
    "# Compute and print the coefficients\n",
    "reg_coef = reg_all.coef_\n",
    "print(reg_coef)\n",
    "\n",
    "# Plot the coefficients\n",
    "plt.figure(figsize=(15,5))\n",
    "plt.plot(range(len(test.columns)), reg_coef)\n",
    "plt.xticks(range(len(test.columns)), test.columns.values, rotation=60)\n",
    "plt.margins(0.02)\n",
    "plt.savefig('linear coefficients')\n",
    "plt.show()"
   ]
  },
  {
   "cell_type": "code",
   "execution_count": 184,
   "metadata": {},
   "outputs": [
    {
     "name": "stdout",
     "output_type": "stream",
     "text": [
      "[-5.36872646 -5.43659213 -5.15814597 -5.34848411 -5.46835335]\n",
      "Average 5-Fold CV Score: -5.356060404274273\n"
     ]
    }
   ],
   "source": [
    "from sklearn.model_selection import cross_val_score\n",
    "# Create a linear regression object: reg\n",
    "reg = LinearRegression()\n",
    "\n",
    "# Compute 5-fold cross-validation scores: cv_scores\n",
    "cv_scores = cross_val_score(reg,X,y,cv=5,scoring='neg_mean_squared_error')\n",
    "\n",
    "# Print the 5-fold cross-validation scores\n",
    "print(cv_scores)\n",
    "\n",
    "print(\"Average 5-Fold CV Score: {}\".format(np.mean(cv_scores)))"
   ]
  },
  {
   "cell_type": "markdown",
   "metadata": {},
   "source": [
    "## Ridge Regression"
   ]
  },
  {
   "cell_type": "code",
   "execution_count": 185,
   "metadata": {},
   "outputs": [
    {
     "name": "stdout",
     "output_type": "stream",
     "text": [
      "Tuned Decision ridge Parameters: {'alpha': 1.0, 'max_iter': 500, 'normalize': False}\n",
      "Best score is 0.7327522045699818\n"
     ]
    }
   ],
   "source": [
    "# Setup the parameters and distributions to sample from: param_dist\n",
    "param_dist = {'alpha':np.logspace(-4, 0, 50),\n",
    "          'normalize':[True,False],\n",
    "             'max_iter':range(500,5000,500)}\n",
    "# Instantiate a Decision ridge classifier: ridge\n",
    "ridge = Ridge()\n",
    "\n",
    "# Instantiate the gridSearchCV object: ridge_cv\n",
    "ridge_cv = GridSearchCV(ridge, param_dist, cv=5,scoring='r2')\n",
    "\n",
    "# Fit it to the data\n",
    "ridge_cv.fit(X, y)\n",
    "\n",
    "# Print the tuned parameters and score\n",
    "print(\"Tuned Decision ridge Parameters: {}\".format(ridge_cv.best_params_))\n",
    "print(\"Best score is {}\".format(ridge_cv.best_score_))"
   ]
  },
  {
   "cell_type": "code",
   "execution_count": 186,
   "metadata": {},
   "outputs": [
    {
     "name": "stdout",
     "output_type": "stream",
     "text": [
      "[-0.13454059 -0.11020435  0.01149503  0.07221609  0.09202378  0.06901005\n",
      "  0.34130016 -0.10535009 -0.10564188 -0.13030819  0.10525864 -0.10525864\n",
      "  0.48172594  0.06767513  0.00383345 -0.22102857 -0.33220594 -0.71467651\n",
      " -0.75773244 -0.6943055  -0.25894643  0.58461994  0.79845772  1.04258322\n",
      "  3.42774057]\n"
     ]
    },
    {
     "data": {
      "image/png": "[encoded data removed]",
      "text/plain": [
       "<Figure size 1080x360 with 1 Axes>"
      ]
     },
     "metadata": {},
     "output_type": "display_data"
    },
    {
     "name": "stdout",
     "output_type": "stream",
     "text": [
      "<<<------------------- Training Data Score --------------------->\n",
      "\n",
      "r square   0.7321887258593661\n",
      "Adjusted r square:0.731617407329328\n",
      "MAPE:18.787889470528324\n",
      "MSE: 5.32869328324153\n",
      "RMSE: 2.308396257846891\n",
      "RMSLE: 0.21703939810928527\n",
      "\n",
      "<<<------------------- Test Data Score --------------------->\n",
      "\n",
      "r square   0.7376932024024752\n",
      "Adjusted r square:0.7360069925953427\n",
      "MAPE:19.027353249133103\n",
      "MSE: 5.380357186479348\n",
      "RMSE: 2.3195596966836933\n",
      "RMSLE: 0.2164487152317447\n"
     ]
    }
   ],
   "source": [
    "# Instantiate a ridge regressor: ridge\n",
    "ridge = Ridge(alpha=1, normalize=False,max_iter = 500)\n",
    "\n",
    "# Fit the regressor to the data\n",
    "ridge.fit(X_train,y_train)\n",
    "\n",
    "# Compute and print the coefficients\n",
    "ridge_coef = ridge.coef_\n",
    "print(ridge_coef)\n",
    "\n",
    "# Plot the coefficients\n",
    "plt.figure(figsize=(15,5))\n",
    "plt.plot(range(len(test.columns)), ridge_coef)\n",
    "plt.xticks(range(len(test.columns)), test.columns.values, rotation=60)\n",
    "plt.margins(0.02)\n",
    "# plt.savefig('ridge coefficients')\n",
    "plt.show()\n",
    "test_scores(ridge)"
   ]
  },
  {
   "cell_type": "markdown",
   "metadata": {},
   "source": [
    "lasso can be used feature selection"
   ]
  },
  {
   "cell_type": "markdown",
   "metadata": {},
   "source": [
    "## Lasso Regression"
   ]
  },
  {
   "cell_type": "code",
   "execution_count": 187,
   "metadata": {},
   "outputs": [
    {
     "name": "stdout",
     "output_type": "stream",
     "text": [
      "Tuned Decision lasso Parameters: {'alpha': 0.0011513953993264468, 'max_iter': 500, 'normalize': False}\n",
      "Best score is 0.7327912552574969\n"
     ]
    }
   ],
   "source": [
    "# Setup the parameters and distributions to sample from: param_dist\n",
    "param_dist = {'alpha':np.logspace(-4, 0, 50),\n",
    "          'normalize':[True,False],\n",
    "             'max_iter':range(500,5000,500)}\n",
    "# Instantiate a Decision lasso classifier: lasso\n",
    "lasso = Lasso()\n",
    "\n",
    "# Instantiate the gridSearchCV object: lasso_cv\n",
    "lasso_cv = GridSearchCV(lasso, param_dist, cv=5,scoring='r2')\n",
    "\n",
    "# Fit it to the data\n",
    "lasso_cv.fit(X, y)\n",
    "\n",
    "# Print the tuned parameters and score\n",
    "print(\"Tuned Decision lasso Parameters: {}\".format(lasso_cv.best_params_))\n",
    "print(\"Best score is {}\".format(lasso_cv.best_score_))"
   ]
  },
  {
   "cell_type": "code",
   "execution_count": 188,
   "metadata": {},
   "outputs": [
    {
     "name": "stdout",
     "output_type": "stream",
     "text": [
      "[-9.29960381e-02 -7.99872542e-02  0.00000000e+00  0.00000000e+00\n",
      "  4.19610942e-03  0.00000000e+00  3.93128498e-01  1.28543993e-02\n",
      " -0.00000000e+00 -2.45754595e-02  1.86601747e-01 -2.21303310e-17\n",
      "  4.76250614e-01  1.09037285e-01 -0.00000000e+00 -2.10744270e-01\n",
      " -2.81304895e-01 -4.85021009e-01 -5.01695176e-01 -4.80204162e-01\n",
      " -0.00000000e+00  8.34009912e-01  1.01991095e+00  1.27984913e+00\n",
      "  3.42140894e+00]\n",
      "<<<------------------- Training Data Score --------------------->\n",
      "\n",
      "r square   0.7320351133578924\n",
      "Adjusted r square:0.7314634671281754\n",
      "MAPE:18.813034221941475\n",
      "MSE: 5.331749741217213\n",
      "RMSE: 2.309058193553643\n",
      "RMSLE: 0.21694431567112893\n",
      "\n",
      "<<<------------------- Test Data Score --------------------->\n",
      "\n",
      "r square   0.7386011955762682\n",
      "Adjusted r square:0.7369208227013406\n",
      "MAPE:19.028093076839095\n",
      "MSE: 5.36173270689042\n",
      "RMSE: 2.315541558014112\n",
      "RMSLE: 0.21599700589920182\n"
     ]
    },
    {
     "data": {
      "image/png": "[encoded data removed]",
      "text/plain": [
       "<Figure size 1080x360 with 1 Axes>"
      ]
     },
     "metadata": {},
     "output_type": "display_data"
    }
   ],
   "source": [
    "# Instantiate a lasso regressor: lasso\n",
    "lasso = Lasso(alpha=0.0011513953993264468, normalize=False,max_iter = 500)\n",
    "\n",
    "# Fit the regressor to the data\n",
    "lasso.fit(X,y)\n",
    "\n",
    "# Compute and print the coefficients\n",
    "lasso_coef = lasso.coef_\n",
    "print(lasso_coef)\n",
    "\n",
    "# Plot the coefficients\n",
    "plt.figure(figsize=(15,5))\n",
    "plt.ylim(-1,10)\n",
    "plt.plot(range(len(test.columns)), lasso_coef)\n",
    "plt.xticks(range(len(test.columns)), test.columns.values, rotation=60)\n",
    "plt.margins(0.02)\n",
    "# plt.show()\n",
    "test_scores(lasso)"
   ]
  },
  {
   "cell_type": "markdown",
   "metadata": {},
   "source": [
    "## Decision Tree Regression"
   ]
  },
  {
   "cell_type": "code",
   "execution_count": 59,
   "metadata": {},
   "outputs": [
    {
     "name": "stdout",
     "output_type": "stream",
     "text": [
      "<class 'pandas.core.frame.DataFrame'>\n",
      "Int64Index: 15660 entries, 0 to 15660\n",
      "Data columns (total 7 columns):\n",
      "fare_amount        15660 non-null float64\n",
      "passenger_count    15660 non-null category\n",
      "year               15660 non-null category\n",
      "month              15660 non-null category\n",
      "day_of_week        15660 non-null category\n",
      "hour               15660 non-null category\n",
      "geodesic           15660 non-null float64\n",
      "dtypes: category(5), float64(2)\n",
      "memory usage: 445.7 KB\n"
     ]
    }
   ],
   "source": [
    "train.info()"
   ]
  },
  {
   "cell_type": "code",
   "execution_count": 189,
   "metadata": {},
   "outputs": [
    {
     "name": "stdout",
     "output_type": "stream",
     "text": [
      "Tuned Decision Tree Parameters: {'max_depth': 6, 'min_samples_split': 4}\n",
      "Best score is 0.7292420090626064\n"
     ]
    }
   ],
   "source": [
    "# Setup the parameters and distributions to sample from: param_dist\n",
    "param_dist = {'max_depth': range(2,16,2),\n",
    "              'min_samples_split': range(2,16,2)}\n",
    "\n",
    "# Instantiate a Decision Tree classifier: tree\n",
    "tree = DecisionTreeRegressor()\n",
    "\n",
    "# Instantiate the gridSearchCV object: tree_cv\n",
    "tree_cv = GridSearchCV(tree, param_dist, cv=5)\n",
    "\n",
    "# Fit it to the data\n",
    "tree_cv.fit(X, y)\n",
    "\n",
    "# Print the tuned parameters and score\n",
    "print(\"Tuned Decision Tree Parameters: {}\".format(tree_cv.best_params_))\n",
    "print(\"Best score is {}\".format(tree_cv.best_score_))"
   ]
  },
  {
   "cell_type": "code",
   "execution_count": 192,
   "metadata": {},
   "outputs": [
    {
     "name": "stdout",
     "output_type": "stream",
     "text": [
      "[0.00000000e+00 0.00000000e+00 0.00000000e+00 0.00000000e+00\n",
      " 0.00000000e+00 0.00000000e+00 0.00000000e+00 0.00000000e+00\n",
      " 0.00000000e+00 0.00000000e+00 2.49681421e-04 0.00000000e+00\n",
      " 3.18185273e-03 4.38646260e-04 0.00000000e+00 0.00000000e+00\n",
      " 4.24073610e-04 4.34427597e-04 1.19778244e-03 7.15586511e-04\n",
      " 8.58921346e-04 1.09975438e-02 1.08340054e-02 9.40740727e-03\n",
      " 9.61260072e-01]\n"
     ]
    },
    {
     "data": {
      "image/png": "[encoded data removed]",
      "text/plain": [
       "<Figure size 720x1440 with 1 Axes>"
      ]
     },
     "metadata": {},
     "output_type": "display_data"
    },
    {
     "name": "stdout",
     "output_type": "stream",
     "text": [
      "<<<------------------- Training Data Score --------------------->\n",
      "\n",
      "r square   0.74623665109475\n",
      "Adjusted r square:0.7456953008325578\n",
      "MAPE:18.565724594287612\n",
      "MSE: 5.049178968224455\n",
      "RMSE: 2.2470378208264443\n",
      "RMSLE: 0.20899413300081476\n",
      "\n",
      "<<<------------------- Test Data Score --------------------->\n",
      "\n",
      "r square   0.734776485281142\n",
      "Adjusted r square:0.7330715256853664\n",
      "MAPE:19.213397854090605\n",
      "MSE: 5.44018400022731\n",
      "RMSE: 2.3324202023278975\n",
      "RMSLE: 0.21341635519884006\n"
     ]
    }
   ],
   "source": [
    "# Instantiate a tree regressor: tree\n",
    "tree = DecisionTreeRegressor(max_depth= 6, min_samples_split=4)\n",
    "\n",
    "# Fit the regressor to the data\n",
    "tree.fit(X_train,y_train)\n",
    "\n",
    "# Compute and print the coefficients\n",
    "tree_features = tree.feature_importances_\n",
    "print(tree_features)\n",
    "\n",
    "# Sort test importances in descending order\n",
    "indices = np.argsort(tree_features)[::1]\n",
    "\n",
    "# Rearrange test names so they match the sorted test importances\n",
    "names = [test.columns[i] for i in indices]\n",
    "\n",
    "# Creating plot\n",
    "fig = plt.figure(figsize=(10,20))\n",
    "plt.title(\"test Importance\")\n",
    "\n",
    "# Add horizontal bars\n",
    "plt.barh(range(pd.DataFrame(X_train).shape[1]),tree_features[indices],align = 'center')\n",
    "plt.yticks(range(pd.DataFrame(X_train).shape[1]), names)\n",
    "# plt.savefig('tree test importance')\n",
    "plt.show()\n",
    "# Make predictions and cal error\n",
    "test_scores(tree)"
   ]
  },
  {
   "cell_type": "markdown",
   "metadata": {},
   "source": [
    "## Random Forest Regression"
   ]
  },
  {
   "cell_type": "code",
   "execution_count": 198,
   "metadata": {},
   "outputs": [
    {
     "name": "stdout",
     "output_type": "stream",
     "text": [
      "Tuned Decision Forest Parameters: {'n_estimators': 100, 'min_samples_split': 4, 'min_samples_leaf': 2, 'max_features': 'sqrt', 'max_depth': 14, 'bootstrap': True}\n",
      "Best score is 0.7377590235294056\n"
     ]
    }
   ],
   "source": [
    "# Create the random grid\n",
    "random_grid = {'n_estimators': range(100,500,100),\n",
    "               'max_depth': range(5,20,1),\n",
    "               'min_samples_leaf':range(2,5,1),\n",
    "              'max_features':['auto','sqrt','log2'],\n",
    "              'bootstrap': [True, False],\n",
    "              'min_samples_split': range(2,5,1)}\n",
    "# Instantiate a Decision Forest classifier: Forest\n",
    "Forest = RandomForestRegressor()\n",
    "\n",
    "# Instantiate the gridSearchCV object: Forest_cv\n",
    "Forest_cv = RandomizedSearchCV(Forest, random_grid, cv=5)\n",
    "\n",
    "# Fit it to the data\n",
    "Forest_cv.fit(X, y)\n",
    "\n",
    "# Print the tuned parameters and score\n",
    "print(\"Tuned Decision Forest Parameters: {}\".format(Forest_cv.best_params_))\n",
    "print(\"Best score is {}\".format(Forest_cv.best_score_))"
   ]
  },
  {
   "cell_type": "code",
   "execution_count": 199,
   "metadata": {},
   "outputs": [
    {
     "name": "stdout",
     "output_type": "stream",
     "text": [
      "[0.00508712 0.00444412 0.0026545  0.00177297 0.00331107 0.00144427\n",
      " 0.00602809 0.00485525 0.00504671 0.00471332 0.00492308 0.00486498\n",
      " 0.00572068 0.00439002 0.00452647 0.00686708 0.00477025 0.0045233\n",
      " 0.00601411 0.00401808 0.00375239 0.00750796 0.00812026 0.00640833\n",
      " 0.8842356 ]\n"
     ]
    },
    {
     "data": {
      "image/png": "[encoded data removed]",
      "text/plain": [
       "<Figure size 1440x720 with 1 Axes>"
      ]
     },
     "metadata": {},
     "output_type": "display_data"
    },
    {
     "name": "stdout",
     "output_type": "stream",
     "text": [
      "<<<------------------- Training Data Score --------------------->\n",
      "\n",
      "r square   0.8292716594364724\n",
      "Adjusted r square:0.8289074467464743\n",
      "MAPE:16.24538274939807\n",
      "MSE: 3.3970151724908577\n",
      "RMSE: 1.8430993387473333\n",
      "RMSLE: 0.17736831107188422\n",
      "\n",
      "<<<------------------- Test Data Score --------------------->\n",
      "\n",
      "r square   0.7438589444777233\n",
      "Adjusted r square:0.7422123704514808\n",
      "MAPE:19.99632628031775\n",
      "MSE: 5.253887361875563\n",
      "RMSE: 2.292135982413688\n",
      "RMSLE: 0.21596193290672205\n"
     ]
    }
   ],
   "source": [
    "# Instantiate a Forest regressor: Forest\n",
    "Forest = RandomForestRegressor(n_estimators=100, min_samples_split= 4, min_samples_leaf=2, max_features='sqrt', max_depth=14, bootstrap=True)\n",
    "\n",
    "# Fit the regressor to the data\n",
    "Forest.fit(X_train,y_train)\n",
    "\n",
    "# Compute and print the coefficients\n",
    "Forest_features = Forest.feature_importances_\n",
    "print(Forest_features)\n",
    "\n",
    "# Sort feature importances in descending order\n",
    "indices = np.argsort(Forest_features)[::1]\n",
    "\n",
    "# Rearrange feature names so they match the sorted feature importances\n",
    "names = [test.columns[i] for i in indices]\n",
    "\n",
    "# Creating plot\n",
    "fig = plt.figure(figsize=(20,10))\n",
    "plt.title(\"Feature Importance\")\n",
    "\n",
    "# Add horizontal bars\n",
    "plt.barh(range(pd.DataFrame(X_train).shape[1]),Forest_features[indices],align = 'center')\n",
    "plt.yticks(range(pd.DataFrame(X_train).shape[1]), names)\n",
    "# plt.savefig('Random forest feature importance')\n",
    "plt.show()# Make predictions\n",
    "test_scores(Forest)"
   ]
  },
  {
   "cell_type": "markdown",
   "metadata": {},
   "source": [
    "## Improving accuracy using XGBOOST\n",
    "Improve Accuracy a) Algorithm Tuning b) Ensembles\n",
    "Finalize Model a) Predictions on validation dataset b) Create standalone model on entire training dataset c) Save model for later use"
   ]
  },
  {
   "cell_type": "code",
   "execution_count": null,
   "metadata": {},
   "outputs": [],
   "source": [
    "dtrain = xgb.DMatrix(x_train, label=y_train)\n",
    "dtest = xgb.DMatrix(x_test)"
   ]
  },
  {
   "cell_type": "code",
   "execution_count": null,
   "metadata": {},
   "outputs": [],
   "source": [
    "params = {\"objective\":\"reg:linear\",'colsample_bytree': 0.3,'learning_rate': 0.1,\n",
    "                'max_depth': 5, 'alpha': 10}\n",
    "\n",
    "cv_results = xgb.cv(dtrain=data_dmatrix, params=params, nfold=3,\n",
    "                    num_boost_round=50,early_stopping_rounds=10,metrics=\"rmse\", as_pandas=True, seed=123)\n",
    "cv_results"
   ]
  },
  {
   "cell_type": "code",
   "execution_count": 193,
   "metadata": {},
   "outputs": [
    {
     "ename": "ModuleNotFoundError",
     "evalue": "No module named 'xgboost'",
     "output_type": "error",
     "traceback": [
      "\u001b[1;31m---------------------------------------------------------------------------\u001b[0m",
      "\u001b[1;31mModuleNotFoundError\u001b[0m                       Traceback (most recent call last)",
      "\u001b[1;32m<ipython-input-193-5a1835ca71ac>\u001b[0m in \u001b[0;36m<module>\u001b[1;34m\u001b[0m\n\u001b[1;32m----> 1\u001b[1;33m \u001b[1;32mfrom\u001b[0m \u001b[0mxgboost\u001b[0m \u001b[1;32mimport\u001b[0m \u001b[0mXGBRegressor\u001b[0m\u001b[1;33m\u001b[0m\u001b[1;33m\u001b[0m\u001b[0m\n\u001b[0m\u001b[0;32m      2\u001b[0m \u001b[0mxgb\u001b[0m \u001b[1;33m=\u001b[0m \u001b[0mXGBRegressor\u001b[0m\u001b[1;33m(\u001b[0m\u001b[1;33m)\u001b[0m\u001b[1;33m\u001b[0m\u001b[1;33m\u001b[0m\u001b[0m\n\u001b[0;32m      3\u001b[0m \u001b[0mxgb\u001b[0m\u001b[1;33m.\u001b[0m\u001b[0mfit\u001b[0m\u001b[1;33m(\u001b[0m\u001b[0mX_train\u001b[0m\u001b[1;33m,\u001b[0m\u001b[0my_train\u001b[0m\u001b[1;33m)\u001b[0m\u001b[1;33m\u001b[0m\u001b[1;33m\u001b[0m\u001b[0m\n\u001b[0;32m      4\u001b[0m \u001b[1;31m# pred_xgb = model_xgb.predict(X_test)\u001b[0m\u001b[1;33m\u001b[0m\u001b[1;33m\u001b[0m\u001b[1;33m\u001b[0m\u001b[0m\n\u001b[0;32m      5\u001b[0m \u001b[0mtest_scores\u001b[0m\u001b[1;33m(\u001b[0m\u001b[0mxgb\u001b[0m\u001b[1;33m)\u001b[0m\u001b[1;33m\u001b[0m\u001b[1;33m\u001b[0m\u001b[0m\n",
      "\u001b[1;31mModuleNotFoundError\u001b[0m: No module named 'xgboost'"
     ]
    }
   ],
   "source": [
    "from xgboost import XGBRegressor\n",
    "xgb = XGBRegressor()\n",
    "xgb.fit(X_train,y_train)\n",
    "# pred_xgb = model_xgb.predict(X_test)\n",
    "test_scores(xgb)"
   ]
  },
  {
   "cell_type": "code",
   "execution_count": 179,
   "metadata": {},
   "outputs": [
    {
     "data": {
      "text/plain": [
       "Index(['passenger_count_1', 'passenger_count_2', 'passenger_count_3',\n",
       "       'passenger_count_4', 'passenger_count_5', 'passenger_count_6',\n",
       "       'season_fall', 'season_spring', 'season_summer', 'season_winter',\n",
       "       'week_weekday', 'week_weekend', 'session_afternoon', 'session_evening',\n",
       "       'session_morning', 'session_night (AM)', 'session_night (PM)',\n",
       "       'year_2009', 'year_2010', 'year_2011', 'year_2012', 'year_2013',\n",
       "       'year_2014', 'year_2015', 'geodesic'],\n",
       "      dtype='object')"
      ]
     },
     "execution_count": 179,
     "metadata": {},
     "output_type": "execute_result"
    }
   ],
   "source": [
    "test.columns"
   ]
  },
  {
   "cell_type": "code",
   "execution_count": 180,
   "metadata": {},
   "outputs": [
    {
     "data": {
      "text/plain": [
       "Index(['fare_amount', 'passenger_count_1', 'passenger_count_2',\n",
       "       'passenger_count_3', 'passenger_count_4', 'passenger_count_5',\n",
       "       'passenger_count_6', 'season_fall', 'season_spring', 'season_summer',\n",
       "       'season_winter', 'week_weekday', 'week_weekend', 'session_afternoon',\n",
       "       'session_evening', 'session_morning', 'session_night (AM)',\n",
       "       'session_night (PM)', 'year_2009', 'year_2010', 'year_2011',\n",
       "       'year_2012', 'year_2013', 'year_2014', 'year_2015', 'geodesic'],\n",
       "      dtype='object')"
      ]
     },
     "execution_count": 180,
     "metadata": {},
     "output_type": "execute_result"
    }
   ],
   "source": [
    "train.columns"
   ]
  },
  {
   "cell_type": "markdown",
   "metadata": {},
   "source": [
    "https://www.kaggle.com/dhrubajitdas/model-comparison-accuracyscore-rmse"
   ]
  },
  {
   "cell_type": "markdown",
   "metadata": {},
   "source": [
    "https://support.minitab.com/en-us/minitab/18/help-and-how-to/modeling-statistics/regression/supporting-topics/model-assumptions/validate-model-assumptions/"
   ]
  }
 ],
 "metadata": {
  "kernelspec": {
   "display_name": "Python 3",
   "language": "python",
   "name": "python3"
  },
  "language_info": {
   "codemirror_mode": {
    "name": "ipython",
    "version": 3
   },
   "file_extension": ".py",
   "mimetype": "text/x-python",
   "name": "python",
   "nbconvert_exporter": "python",
   "pygments_lexer": "ipython3",
   "version": "3.6.7"
  }
 },
 "nbformat": 4,
 "nbformat_minor": 2
}
